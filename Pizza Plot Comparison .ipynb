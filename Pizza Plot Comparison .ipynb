{
 "cells": [
  {
   "cell_type": "code",
   "execution_count": 1,
   "metadata": {},
   "outputs": [],
   "source": [
    "\n",
    "import pandas as pd\n",
    "import numpy as np\n",
    "\n",
    "from scipy import stats\n",
    "import math\n",
    "\n",
    "\n",
    "import matplotlib.pyplot as plt\n",
    "from highlight_text import fig_text\n",
    "from mplsoccer import PyPizza, FontManager\n",
    "\n",
    "from adjustText import adjust_text"
   ]
  },
  {
   "cell_type": "code",
   "execution_count": 2,
   "metadata": {},
   "outputs": [],
   "source": [
    "df = pd.read_csv(r'C:\\Users\\Feele\\Documents\\Data\\Sunderland\\WyScout\\League 1\\FullBacks.csv')"
   ]
  },
  {
   "cell_type": "code",
   "execution_count": 3,
   "metadata": {},
   "outputs": [
    {
     "data": {
      "text/html": [
       "<div>\n",
       "<style scoped>\n",
       "    .dataframe tbody tr th:only-of-type {\n",
       "        vertical-align: middle;\n",
       "    }\n",
       "\n",
       "    .dataframe tbody tr th {\n",
       "        vertical-align: top;\n",
       "    }\n",
       "\n",
       "    .dataframe thead th {\n",
       "        text-align: right;\n",
       "    }\n",
       "</style>\n",
       "<table border=\"1\" class=\"dataframe\">\n",
       "  <thead>\n",
       "    <tr style=\"text-align: right;\">\n",
       "      <th></th>\n",
       "      <th>Player</th>\n",
       "      <th>Team</th>\n",
       "      <th>Defensive actions</th>\n",
       "      <th>Defensive duels</th>\n",
       "      <th>Aerial duels</th>\n",
       "      <th>Sliding tackles</th>\n",
       "      <th>Shots blocked</th>\n",
       "      <th>Interceptions</th>\n",
       "      <th>Fouls</th>\n",
       "      <th>Yellow cards</th>\n",
       "      <th>Attacking actions</th>\n",
       "      <th>Assists</th>\n",
       "      <th>Crosses</th>\n",
       "      <th>Dribbles</th>\n",
       "      <th>Touches in box</th>\n",
       "      <th>Progressive runs</th>\n",
       "      <th>Passes</th>\n",
       "      <th>Key passes</th>\n",
       "    </tr>\n",
       "  </thead>\n",
       "  <tbody>\n",
       "    <tr>\n",
       "      <th>0</th>\n",
       "      <td>C. Burgess</td>\n",
       "      <td>Accrington Stanley</td>\n",
       "      <td>13.45</td>\n",
       "      <td>8.26</td>\n",
       "      <td>11.07</td>\n",
       "      <td>0.84</td>\n",
       "      <td>0.48</td>\n",
       "      <td>7.53</td>\n",
       "      <td>1.41</td>\n",
       "      <td>0.22</td>\n",
       "      <td>1.08</td>\n",
       "      <td>0.04</td>\n",
       "      <td>1.69</td>\n",
       "      <td>0.45</td>\n",
       "      <td>1.08</td>\n",
       "      <td>0.84</td>\n",
       "      <td>38.17</td>\n",
       "      <td>0.17</td>\n",
       "    </tr>\n",
       "    <tr>\n",
       "      <th>1</th>\n",
       "      <td>H. Rodgers</td>\n",
       "      <td>Accrington Stanley</td>\n",
       "      <td>9.69</td>\n",
       "      <td>6.46</td>\n",
       "      <td>6.75</td>\n",
       "      <td>0.76</td>\n",
       "      <td>0.40</td>\n",
       "      <td>4.90</td>\n",
       "      <td>0.87</td>\n",
       "      <td>0.22</td>\n",
       "      <td>1.23</td>\n",
       "      <td>0.04</td>\n",
       "      <td>1.20</td>\n",
       "      <td>0.84</td>\n",
       "      <td>1.20</td>\n",
       "      <td>0.65</td>\n",
       "      <td>22.58</td>\n",
       "      <td>0.29</td>\n",
       "    </tr>\n",
       "    <tr>\n",
       "      <th>2</th>\n",
       "      <td>L. O'Neill</td>\n",
       "      <td>AFC Wimbledon</td>\n",
       "      <td>10.46</td>\n",
       "      <td>6.56</td>\n",
       "      <td>5.40</td>\n",
       "      <td>0.77</td>\n",
       "      <td>0.43</td>\n",
       "      <td>6.00</td>\n",
       "      <td>1.16</td>\n",
       "      <td>0.09</td>\n",
       "      <td>3.81</td>\n",
       "      <td>0.17</td>\n",
       "      <td>5.06</td>\n",
       "      <td>1.50</td>\n",
       "      <td>0.26</td>\n",
       "      <td>0.86</td>\n",
       "      <td>39.30</td>\n",
       "      <td>0.73</td>\n",
       "    </tr>\n",
       "    <tr>\n",
       "      <th>3</th>\n",
       "      <td>S. McLoughlin</td>\n",
       "      <td>AFC Wimbledon</td>\n",
       "      <td>11.01</td>\n",
       "      <td>7.95</td>\n",
       "      <td>2.95</td>\n",
       "      <td>0.48</td>\n",
       "      <td>0.07</td>\n",
       "      <td>5.93</td>\n",
       "      <td>0.55</td>\n",
       "      <td>0.22</td>\n",
       "      <td>2.32</td>\n",
       "      <td>0.11</td>\n",
       "      <td>2.76</td>\n",
       "      <td>2.32</td>\n",
       "      <td>1.55</td>\n",
       "      <td>1.58</td>\n",
       "      <td>28.91</td>\n",
       "      <td>0.52</td>\n",
       "    </tr>\n",
       "    <tr>\n",
       "      <th>4</th>\n",
       "      <td>D. Johnson</td>\n",
       "      <td>AFC Wimbledon</td>\n",
       "      <td>9.87</td>\n",
       "      <td>5.48</td>\n",
       "      <td>6.76</td>\n",
       "      <td>0.28</td>\n",
       "      <td>0.66</td>\n",
       "      <td>5.81</td>\n",
       "      <td>0.66</td>\n",
       "      <td>0.05</td>\n",
       "      <td>1.61</td>\n",
       "      <td>0.05</td>\n",
       "      <td>0.61</td>\n",
       "      <td>1.70</td>\n",
       "      <td>0.94</td>\n",
       "      <td>0.94</td>\n",
       "      <td>40.82</td>\n",
       "      <td>0.14</td>\n",
       "    </tr>\n",
       "  </tbody>\n",
       "</table>\n",
       "</div>"
      ],
      "text/plain": [
       "          Player                Team  Defensive actions   Defensive duels   \\\n",
       "0     C. Burgess  Accrington Stanley               13.45              8.26   \n",
       "1     H. Rodgers  Accrington Stanley                9.69              6.46   \n",
       "2     L. O'Neill       AFC Wimbledon               10.46              6.56   \n",
       "3  S. McLoughlin       AFC Wimbledon               11.01              7.95   \n",
       "4     D. Johnson       AFC Wimbledon                9.87              5.48   \n",
       "\n",
       "   Aerial duels   Sliding tackles   Shots blocked   Interceptions  Fouls  \\\n",
       "0          11.07              0.84            0.48           7.53   1.41   \n",
       "1           6.75              0.76            0.40           4.90   0.87   \n",
       "2           5.40              0.77            0.43           6.00   1.16   \n",
       "3           2.95              0.48            0.07           5.93   0.55   \n",
       "4           6.76              0.28            0.66           5.81   0.66   \n",
       "\n",
       "   Yellow cards   Attacking actions   Assists   Crosses  Dribbles   \\\n",
       "0           0.22                1.08      0.04     1.69       0.45   \n",
       "1           0.22                1.23      0.04     1.20       0.84   \n",
       "2           0.09                3.81      0.17     5.06       1.50   \n",
       "3           0.22                2.32      0.11     2.76       2.32   \n",
       "4           0.05                1.61      0.05     0.61       1.70   \n",
       "\n",
       "   Touches in box   Progressive runs   Passes  Key passes   \n",
       "0             1.08               0.84   38.17         0.17  \n",
       "1             1.20               0.65   22.58         0.29  \n",
       "2             0.26               0.86   39.30         0.73  \n",
       "3             1.55               1.58   28.91         0.52  \n",
       "4             0.94               0.94   40.82         0.14  "
      ]
     },
     "execution_count": 3,
     "metadata": {},
     "output_type": "execute_result"
    }
   ],
   "source": [
    "df.head()"
   ]
  },
  {
   "cell_type": "code",
   "execution_count": 4,
   "metadata": {},
   "outputs": [
    {
     "data": {
      "text/plain": [
       "['Player',\n",
       " 'Team',\n",
       " 'Defensive actions ',\n",
       " 'Defensive duels ',\n",
       " 'Aerial duels ',\n",
       " 'Sliding tackles ',\n",
       " 'Shots blocked ',\n",
       " 'Interceptions',\n",
       " 'Fouls',\n",
       " 'Yellow cards ',\n",
       " 'Attacking actions ',\n",
       " 'Assists ',\n",
       " 'Crosses',\n",
       " 'Dribbles ',\n",
       " 'Touches in box ',\n",
       " 'Progressive runs ',\n",
       " 'Passes',\n",
       " 'Key passes ']"
      ]
     },
     "execution_count": 4,
     "metadata": {},
     "output_type": "execute_result"
    }
   ],
   "source": [
    "#Create a parameter list\n",
    "params = list(df.columns)\n",
    "params"
   ]
  },
  {
   "cell_type": "code",
   "execution_count": 5,
   "metadata": {},
   "outputs": [
    {
     "data": {
      "text/plain": [
       "['Defensive actions ',\n",
       " 'Defensive duels ',\n",
       " 'Aerial duels ',\n",
       " 'Sliding tackles ',\n",
       " 'Shots blocked ',\n",
       " 'Interceptions',\n",
       " 'Fouls',\n",
       " 'Yellow cards ',\n",
       " 'Attacking actions ',\n",
       " 'Assists ',\n",
       " 'Crosses',\n",
       " 'Dribbles ',\n",
       " 'Touches in box ',\n",
       " 'Progressive runs ',\n",
       " 'Passes',\n",
       " 'Key passes ']"
      ]
     },
     "execution_count": 5,
     "metadata": {},
     "output_type": "execute_result"
    }
   ],
   "source": [
    "#drop the first 3 list item becuase we will not be using player,index, or 90s as a comparison metric\n",
    "params = params[2:]\n",
    "params"
   ]
  },
  {
   "cell_type": "code",
   "execution_count": 6,
   "metadata": {},
   "outputs": [
    {
     "data": {
      "text/plain": [
       "array(['C. Burgess', 'H. Rodgers', \"L. O'Neill\", 'S. McLoughlin',\n",
       "       'D. Johnson', 'N. Guinness-Walker', 'C. Alexander', 'Z. Medley',\n",
       "       'S. Seddon', 'J. Husband', 'O. Turton', 'L. Garbutt',\n",
       "       'D. Mitchell', 'L. Leahy', 'G. Williams', 'M. Ehmer', 'J. Hare',\n",
       "       'C. Daniel', 'T. Hamer', 'S. Clare', 'J. Brayford', 'P. Ng',\n",
       "       'B. Purrington', 'I. Maatsen', 'A. Matthews', 'C. Gunter',\n",
       "       'R. Adebisi', 'L. Offord', 'H. Pickering', 'J. Wright',\n",
       "       'B. Halliday', 'C. John', 'R. James', 'W. Burns', 'D. Andrew',\n",
       "       'C. Ogilvie', 'R. McKenzie', \"T. O'Connor\", 'R. Jackson',\n",
       "       'L. Coyle', 'C. Elder', 'J. Emmanuel', 'L. Woolfenden',\n",
       "       'J. Donacien', 'S. Ward', 'M. Kenlock', 'L. Chambers',\n",
       "       'C. Bramall', 'A. Edun', 'R. Poole', 'M. Harriman', 'J. Mills',\n",
       "       'P. Kioso', 'J. Lawrence-Gabriel', 'J. Ruffels', 'S. Long',\n",
       "       'J. Hanson', 'A. Forde', 'D. Butler', 'N. Thompson', 'J. Edwards',\n",
       "       'C. Johnson', 'L. Brown', 'C. Daniels', 'J. Keohane',\n",
       "       'R. McLaughlin', 'M. Done', 'T. James', 'D. Love', 'N. Ogbeta',\n",
       "       'C. McFadzean', 'C. McLaughlin', 'M. Power', 'D. Hume',\n",
       "       'D. Thompson', 'J. Grounds', 'P. Caddis', 'R. Hunt', 'J. Garrick',\n",
       "       'A. Odimayo', 'T. Eyoma', 'T. Pearce', 'T. Darikwa', 'L. Robinson',\n",
       "       'G. Massey', 'J. Key', 'Average'], dtype=object)"
      ]
     },
     "execution_count": 6,
     "metadata": {},
     "output_type": "execute_result"
    }
   ],
   "source": [
    "df.Player.values"
   ]
  },
  {
   "cell_type": "code",
   "execution_count": 7,
   "metadata": {},
   "outputs": [
    {
     "name": "stdout",
     "output_type": "stream",
     "text": [
      "[86, 'Average', 'Sunderland', 7.67, 6.13, 3.33, 0.57, 0.15, 3.41, 0.95, 0.12, 3.15, 0.06, 3.26, 2.41, 1.11, 1.82, 44.89, 0.37]\n"
     ]
    }
   ],
   "source": [
    "# The player needs to be spelled exactly the same way as it is in the data. Accents and everything.\n",
    "player = df.loc[df['Player']==\"Average\"].reset_index()\n",
    "player = list(player.loc[0])\n",
    "print(player)"
   ]
  },
  {
   "cell_type": "code",
   "execution_count": 8,
   "metadata": {},
   "outputs": [
    {
     "name": "stdout",
     "output_type": "stream",
     "text": [
      "16\n",
      "19 None\n",
      "16\n",
      "16 None\n"
     ]
    }
   ],
   "source": [
    "# the length of our players in longer than the length of the params. we need to drop the first 3 player list items\n",
    "print(len(player),print(len(params)))\n",
    "player = player[3:]\n",
    "print(len(player),print(len(params)))"
   ]
  },
  {
   "cell_type": "code",
   "execution_count": 9,
   "metadata": {},
   "outputs": [
    {
     "data": {
      "text/plain": [
       "[7.67,\n",
       " 6.13,\n",
       " 3.33,\n",
       " 0.57,\n",
       " 0.15,\n",
       " 3.41,\n",
       " 0.95,\n",
       " 0.12,\n",
       " 3.15,\n",
       " 0.06,\n",
       " 3.26,\n",
       " 2.41,\n",
       " 1.11,\n",
       " 1.82,\n",
       " 44.89,\n",
       " 0.37]"
      ]
     },
     "execution_count": 9,
     "metadata": {},
     "output_type": "execute_result"
    }
   ],
   "source": [
    "player"
   ]
  },
  {
   "cell_type": "code",
   "execution_count": 10,
   "metadata": {},
   "outputs": [],
   "source": [
    "# now that we have the player scores, we need to calculate the percentile values with scipy stats.\n",
    "# I am doing this because I do not know the percentile beforehand and only have the raw numbers\n",
    "values = []\n",
    "for x in range(len(params)):   \n",
    "    values.append(math.floor(stats.percentileofscore(df[params[x]],player[x])))"
   ]
  },
  {
   "cell_type": "code",
   "execution_count": 11,
   "metadata": {
    "scrolled": true
   },
   "outputs": [
    {
     "data": {
      "text/plain": [
       "14"
      ]
     },
     "execution_count": 11,
     "metadata": {},
     "output_type": "execute_result"
    }
   ],
   "source": [
    "round(stats.percentileofscore(df[params[0]],player[0]))"
   ]
  },
  {
   "cell_type": "code",
   "execution_count": 12,
   "metadata": {},
   "outputs": [],
   "source": [
    "for n,i in enumerate(values):\n",
    "    if i == 100:\n",
    "        values[n] = 99"
   ]
  },
  {
   "cell_type": "code",
   "execution_count": 13,
   "metadata": {},
   "outputs": [
    {
     "data": {
      "text/plain": [
       "array(['C. Burgess', 'H. Rodgers', \"L. O'Neill\", 'S. McLoughlin',\n",
       "       'D. Johnson', 'N. Guinness-Walker', 'C. Alexander', 'Z. Medley',\n",
       "       'S. Seddon', 'J. Husband', 'O. Turton', 'L. Garbutt',\n",
       "       'D. Mitchell', 'L. Leahy', 'G. Williams', 'M. Ehmer', 'J. Hare',\n",
       "       'C. Daniel', 'T. Hamer', 'S. Clare', 'J. Brayford', 'P. Ng',\n",
       "       'B. Purrington', 'I. Maatsen', 'A. Matthews', 'C. Gunter',\n",
       "       'R. Adebisi', 'L. Offord', 'H. Pickering', 'J. Wright',\n",
       "       'B. Halliday', 'C. John', 'R. James', 'W. Burns', 'D. Andrew',\n",
       "       'C. Ogilvie', 'R. McKenzie', \"T. O'Connor\", 'R. Jackson',\n",
       "       'L. Coyle', 'C. Elder', 'J. Emmanuel', 'L. Woolfenden',\n",
       "       'J. Donacien', 'S. Ward', 'M. Kenlock', 'L. Chambers',\n",
       "       'C. Bramall', 'A. Edun', 'R. Poole', 'M. Harriman', 'J. Mills',\n",
       "       'P. Kioso', 'J. Lawrence-Gabriel', 'J. Ruffels', 'S. Long',\n",
       "       'J. Hanson', 'A. Forde', 'D. Butler', 'N. Thompson', 'J. Edwards',\n",
       "       'C. Johnson', 'L. Brown', 'C. Daniels', 'J. Keohane',\n",
       "       'R. McLaughlin', 'M. Done', 'T. James', 'D. Love', 'N. Ogbeta',\n",
       "       'C. McFadzean', 'C. McLaughlin', 'M. Power', 'D. Hume',\n",
       "       'D. Thompson', 'J. Grounds', 'P. Caddis', 'R. Hunt', 'J. Garrick',\n",
       "       'A. Odimayo', 'T. Eyoma', 'T. Pearce', 'T. Darikwa', 'L. Robinson',\n",
       "       'G. Massey', 'J. Key', 'Average'], dtype=object)"
      ]
     },
     "execution_count": 13,
     "metadata": {},
     "output_type": "execute_result"
    }
   ],
   "source": [
    "df.Player.values"
   ]
  },
  {
   "cell_type": "code",
   "execution_count": 14,
   "metadata": {},
   "outputs": [
    {
     "name": "stdout",
     "output_type": "stream",
     "text": [
      "[85, 'J. Key', 'Exeter City', 10.68, 8.07, 6.47, 0.13, 0.13, 5.66, 0.72, 0.05, 4.16, 0.13, 2.77, 5.48, 1.78, 8.9, 39.05, 0.44]\n"
     ]
    }
   ],
   "source": [
    "player1 = df.loc[df['Player']==\"J. Key\"].reset_index()\n",
    "player1 = list(player1.loc[0])\n",
    "print(player1)"
   ]
  },
  {
   "cell_type": "code",
   "execution_count": 15,
   "metadata": {},
   "outputs": [
    {
     "name": "stdout",
     "output_type": "stream",
     "text": [
      "16\n",
      "19 None\n",
      "16\n",
      "16 None\n"
     ]
    }
   ],
   "source": [
    "# the length of our players in longer than the length of the params. we need to drop the first 3 player list items\n",
    "print(len(player1),print(len(params)))\n",
    "player1 = player1[3:]\n",
    "print(len(player1),print(len(params)))"
   ]
  },
  {
   "cell_type": "code",
   "execution_count": 16,
   "metadata": {},
   "outputs": [
    {
     "data": {
      "text/plain": [
       "[10.68,\n",
       " 8.07,\n",
       " 6.47,\n",
       " 0.13,\n",
       " 0.13,\n",
       " 5.66,\n",
       " 0.72,\n",
       " 0.05,\n",
       " 4.16,\n",
       " 0.13,\n",
       " 2.77,\n",
       " 5.48,\n",
       " 1.78,\n",
       " 8.9,\n",
       " 39.05,\n",
       " 0.44]"
      ]
     },
     "execution_count": 16,
     "metadata": {},
     "output_type": "execute_result"
    }
   ],
   "source": [
    "player1"
   ]
  },
  {
   "cell_type": "code",
   "execution_count": 17,
   "metadata": {},
   "outputs": [],
   "source": [
    "# now that we have the player scores, we need to calculate the percentile values with scipy stats.\n",
    "# I am doing this because I do not know the percentile beforehand and only have the raw numbers\n",
    "values_2 = []\n",
    "for x in range(len(params)):   \n",
    "    values_2.append(math.floor(stats.percentileofscore(df[params[x]],player1[x])))"
   ]
  },
  {
   "cell_type": "code",
   "execution_count": 18,
   "metadata": {},
   "outputs": [
    {
     "data": {
      "text/plain": [
       "83"
      ]
     },
     "execution_count": 18,
     "metadata": {},
     "output_type": "execute_result"
    }
   ],
   "source": [
    "round(stats.percentileofscore(df[params[0]],player1[0]))"
   ]
  },
  {
   "cell_type": "code",
   "execution_count": 19,
   "metadata": {},
   "outputs": [],
   "source": [
    "for n,i in enumerate(values):\n",
    "    if i == 100:\n",
    "        values[n] = 99"
   ]
  },
  {
   "cell_type": "code",
   "execution_count": null,
   "metadata": {},
   "outputs": [],
   "source": []
  },
  {
   "cell_type": "code",
   "execution_count": null,
   "metadata": {},
   "outputs": [],
   "source": []
  },
  {
   "cell_type": "code",
   "execution_count": null,
   "metadata": {},
   "outputs": [],
   "source": []
  },
  {
   "cell_type": "code",
   "execution_count": null,
   "metadata": {},
   "outputs": [],
   "source": []
  },
  {
   "cell_type": "code",
   "execution_count": null,
   "metadata": {},
   "outputs": [],
   "source": []
  },
  {
   "cell_type": "code",
   "execution_count": 23,
   "metadata": {},
   "outputs": [
    {
     "data": {
      "image/png": "[encoded data removed]",
      "text/plain": [
       "<Figure size 576x612 with 1 Axes>"
      ]
     },
     "metadata": {},
     "output_type": "display_data"
    }
   ],
   "source": [
    "params = params\n",
    "values = values\n",
    "values_2 = values_2\n",
    "font = 'consolas'\n",
    "\n",
    "\n",
    "\n",
    "# pass True in that parameter-index whose values are to be adjusted\n",
    "# here True values are passed for \"\\nTouches\\nper Turnover\" and \"pAdj\\nPress Regains\" params\n",
    "params_offset = [\n",
    "    False, False, False, False, False, False, False, False,\n",
    "    False, False, False, False, False, False, False, False\n",
    "]\n",
    "\n",
    "# instantiate PyPizza class\n",
    "baker = PyPizza(\n",
    "    params=params,                  # list of parameters\n",
    "    background_color=\"#0B0725\",     # background color\n",
    "    straight_line_color=\"#A3A3A3\",  # color for straight lines\n",
    "    straight_line_lw=1,             # linewidth for straight lines\n",
    "    last_circle_lw=1,               # linewidth of last circle\n",
    "    last_circle_color=\"#A3A3A3\",    # color of last circle\n",
    "    other_circle_ls=\"-.\",           # linestyle for other circles\n",
    "    other_circle_lw=1               # linewidth for other circles\n",
    ")\n",
    "\n",
    "# plot pizza\n",
    "fig, ax = baker.make_pizza(\n",
    "    values,                     # list of values\n",
    "    compare_values=values_2,    # comparison values\n",
    "    figsize=(8, 8.5),           # adjust figsize according to your need\n",
    "    kwargs_slices=dict(\n",
    "        facecolor=\"#FF0000\",    # Player One\n",
    "        edgecolor=\"#222222\",   \n",
    "        zorder=2, linewidth=1\n",
    "    ),                     \n",
    "    kwargs_compare=dict(\n",
    "        facecolor=\"#00FFFF\",    # Player Two\n",
    "        edgecolor=\"#222222\", \n",
    "        zorder=2, \n",
    "        linewidth=1,\n",
    "    ),\n",
    "    kwargs_params=dict(\n",
    "        color=\"#FFFFFF\", \n",
    "        fontsize=12, \n",
    "        font='consolas',\n",
    "        va=\"center\"\n",
    "    ),                          \n",
    "    kwargs_values=dict(         #Player One\n",
    "        color=\"#FFFFFF\", \n",
    "        fontsize=14, \n",
    "        font='consolas',\n",
    "        zorder=3,\n",
    "        bbox=dict(\n",
    "            edgecolor=\"#000000\",\n",
    "            facecolor=\"#FF0000\",  # Colour Player One\n",
    "            boxstyle=\"round,pad=0.2\", lw=1\n",
    "        )\n",
    "    ),                         \n",
    "    kwargs_compare_values=dict( #Player Two\n",
    "        color=\"#000000\", \n",
    "        fontsize=14, \n",
    "        zorder=3,\n",
    "        font='consolas',\n",
    "        bbox=dict(\n",
    "            edgecolor=\"#000000\",\n",
    "            facecolor=\"#00FFFF\", # Colour Player Two\n",
    "            boxstyle=\"round,pad=0.2\", lw=1) \n",
    "    ),                          \n",
    ")\n",
    "\n",
    "\n",
    "# adjust text for comparison-values-text\n",
    "baker.adjust_texts(params_offset, offset=-0.17, adj_comp_values=True)\n",
    "\n",
    "plt.savefig('pizza.png',dpi=500,bbox_inches = 'tight')"
   ]
  },
  {
   "cell_type": "code",
   "execution_count": null,
   "metadata": {},
   "outputs": [],
   "source": []
  }
 ],
 "metadata": {
  "kernelspec": {
   "display_name": "Python 3",
   "language": "python",
   "name": "python3"
  },
  "language_info": {
   "codemirror_mode": {
    "name": "ipython",
    "version": 3
   },
   "file_extension": ".py",
   "mimetype": "text/x-python",
   "name": "python",
   "nbconvert_exporter": "python",
   "pygments_lexer": "ipython3",
   "version": "3.8.10"
  }
 },
 "nbformat": 4,
 "nbformat_minor": 4
}
