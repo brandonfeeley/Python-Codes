{
 "cells": [
  {
   "cell_type": "code",
   "execution_count": 7,
   "metadata": {},
   "outputs": [],
   "source": [
    "#Imports\n",
    "\n",
    "import pandas as pd\n",
    "import numpy as np\n",
    "import os\n"
   ]
  },
  {
   "cell_type": "markdown",
   "metadata": {},
   "source": [
    "# USE FILTER BELOW"
   ]
  },
  {
   "cell_type": "code",
   "execution_count": 8,
   "metadata": {},
   "outputs": [],
   "source": [
    "df = pd.read_csv(r'C:\\Users\\Feele\\Documents\\Sunderland\\Data\\Lincoln.csv')\n",
    "\n"
   ]
  },
  {
   "cell_type": "code",
   "execution_count": 9,
   "metadata": {},
   "outputs": [],
   "source": [
    "#dataframe filter for team and passes\n",
    "\n",
    "##df = df[df['teamId']==16]\n",
    "\n",
    "#filter by player(s)\n",
    "\n",
    "##df = df[df['playerId']==000000]\n",
    "##df = df[df['type/value'].isin(['13','14','15','16'])]\n",
    "\n",
    "# filter for a game type (pass,shot etc)\n",
    "\n",
    "##df = df[df['type/value']==1]\n",
    "\n",
    "# filter for opponents data use df_opposition\n",
    "\n",
    "\n",
    "#period/value\n",
    "##df = df[df['period/value']==2]\n",
    "\n",
    "#by minutes\n",
    "\n",
    "##df = df[df['minute']<=45]\n",
    "\n"
   ]
  },
  {
   "cell_type": "markdown",
   "metadata": {},
   "source": [
    "# USE FILTER BELOW"
   ]
  },
  {
   "cell_type": "code",
   "execution_count": 10,
   "metadata": {},
   "outputs": [],
   "source": [
    "#df = df[df['minute']<=45]\n"
   ]
  },
  {
   "cell_type": "code",
   "execution_count": 11,
   "metadata": {
    "scrolled": true
   },
   "outputs": [
    {
     "data": {
      "text/plain": [
       "NaN           677\n",
       "McFadzean      90\n",
       "Power          89\n",
       "McLaughlin     85\n",
       "McGeady        78\n",
       "O'Nien         72\n",
       "Leadbitter     62\n",
       "Wyke           56\n",
       "Gooch          54\n",
       "Sanderson      53\n",
       "Burge          46\n",
       "Winchester     31\n",
       "Maguire        22\n",
       "Scowen         22\n",
       "Stewart        19\n",
       "Name: name, dtype: int64"
      ]
     },
     "execution_count": 11,
     "metadata": {},
     "output_type": "execute_result"
    }
   ],
   "source": [
    "df['name'].value_counts(dropna = False)"
   ]
  },
  {
   "cell_type": "code",
   "execution_count": 12,
   "metadata": {},
   "outputs": [],
   "source": [
    "df = df[df['name']=='McGeady']"
   ]
  },
  {
   "cell_type": "code",
   "execution_count": 13,
   "metadata": {
    "scrolled": false
   },
   "outputs": [
    {
     "data": {
      "text/html": [
       "<div>\n",
       "<style scoped>\n",
       "    .dataframe tbody tr th:only-of-type {\n",
       "        vertical-align: middle;\n",
       "    }\n",
       "\n",
       "    .dataframe tbody tr th {\n",
       "        vertical-align: top;\n",
       "    }\n",
       "\n",
       "    .dataframe thead th {\n",
       "        text-align: right;\n",
       "    }\n",
       "</style>\n",
       "<table border=\"1\" class=\"dataframe\">\n",
       "  <thead>\n",
       "    <tr style=\"text-align: right;\">\n",
       "      <th></th>\n",
       "      <th>id</th>\n",
       "      <th>eventId</th>\n",
       "      <th>minute</th>\n",
       "      <th>second</th>\n",
       "      <th>teamId</th>\n",
       "      <th>x</th>\n",
       "      <th>y</th>\n",
       "      <th>endX</th>\n",
       "      <th>endY</th>\n",
       "      <th>period/value</th>\n",
       "      <th>type/value</th>\n",
       "      <th>type/displayName</th>\n",
       "      <th>outcomeType/value</th>\n",
       "      <th>outcomeType/displayName</th>\n",
       "      <th>playerId</th>\n",
       "      <th>player_num</th>\n",
       "      <th>name</th>\n",
       "    </tr>\n",
       "  </thead>\n",
       "  <tbody>\n",
       "    <tr>\n",
       "      <th>41</th>\n",
       "      <td>2277929849</td>\n",
       "      <td>31</td>\n",
       "      <td>1</td>\n",
       "      <td>58.0</td>\n",
       "      <td>16</td>\n",
       "      <td>45.4</td>\n",
       "      <td>84.8</td>\n",
       "      <td>NaN</td>\n",
       "      <td>NaN</td>\n",
       "      <td>1</td>\n",
       "      <td>45</td>\n",
       "      <td>Challenge</td>\n",
       "      <td>0</td>\n",
       "      <td>Unsuccessful</td>\n",
       "      <td>9003.0</td>\n",
       "      <td>28.0</td>\n",
       "      <td>McGeady</td>\n",
       "    </tr>\n",
       "    <tr>\n",
       "      <th>130</th>\n",
       "      <td>2277942405</td>\n",
       "      <td>75</td>\n",
       "      <td>8</td>\n",
       "      <td>21.0</td>\n",
       "      <td>16</td>\n",
       "      <td>59.6</td>\n",
       "      <td>95.6</td>\n",
       "      <td>NaN</td>\n",
       "      <td>NaN</td>\n",
       "      <td>1</td>\n",
       "      <td>3</td>\n",
       "      <td>TakeOn</td>\n",
       "      <td>0</td>\n",
       "      <td>Unsuccessful</td>\n",
       "      <td>9003.0</td>\n",
       "      <td>28.0</td>\n",
       "      <td>McGeady</td>\n",
       "    </tr>\n",
       "    <tr>\n",
       "      <th>135</th>\n",
       "      <td>2278025745</td>\n",
       "      <td>439</td>\n",
       "      <td>8</td>\n",
       "      <td>24.0</td>\n",
       "      <td>16</td>\n",
       "      <td>62.4</td>\n",
       "      <td>97.8</td>\n",
       "      <td>NaN</td>\n",
       "      <td>NaN</td>\n",
       "      <td>1</td>\n",
       "      <td>49</td>\n",
       "      <td>BallRecovery</td>\n",
       "      <td>1</td>\n",
       "      <td>Successful</td>\n",
       "      <td>9003.0</td>\n",
       "      <td>28.0</td>\n",
       "      <td>McGeady</td>\n",
       "    </tr>\n",
       "    <tr>\n",
       "      <th>136</th>\n",
       "      <td>2277942623</td>\n",
       "      <td>77</td>\n",
       "      <td>8</td>\n",
       "      <td>26.0</td>\n",
       "      <td>16</td>\n",
       "      <td>67.4</td>\n",
       "      <td>95.4</td>\n",
       "      <td>60.9</td>\n",
       "      <td>85.7</td>\n",
       "      <td>1</td>\n",
       "      <td>1</td>\n",
       "      <td>Pass</td>\n",
       "      <td>1</td>\n",
       "      <td>Successful</td>\n",
       "      <td>9003.0</td>\n",
       "      <td>28.0</td>\n",
       "      <td>McGeady</td>\n",
       "    </tr>\n",
       "    <tr>\n",
       "      <th>160</th>\n",
       "      <td>2277944929</td>\n",
       "      <td>93</td>\n",
       "      <td>9</td>\n",
       "      <td>33.0</td>\n",
       "      <td>16</td>\n",
       "      <td>87.2</td>\n",
       "      <td>74.8</td>\n",
       "      <td>79.3</td>\n",
       "      <td>77.8</td>\n",
       "      <td>1</td>\n",
       "      <td>1</td>\n",
       "      <td>Pass</td>\n",
       "      <td>1</td>\n",
       "      <td>Successful</td>\n",
       "      <td>9003.0</td>\n",
       "      <td>28.0</td>\n",
       "      <td>McGeady</td>\n",
       "    </tr>\n",
       "  </tbody>\n",
       "</table>\n",
       "</div>"
      ],
      "text/plain": [
       "             id  eventId  minute  second  teamId     x     y  endX  endY  \\\n",
       "41   2277929849       31       1    58.0      16  45.4  84.8   NaN   NaN   \n",
       "130  2277942405       75       8    21.0      16  59.6  95.6   NaN   NaN   \n",
       "135  2278025745      439       8    24.0      16  62.4  97.8   NaN   NaN   \n",
       "136  2277942623       77       8    26.0      16  67.4  95.4  60.9  85.7   \n",
       "160  2277944929       93       9    33.0      16  87.2  74.8  79.3  77.8   \n",
       "\n",
       "     period/value  type/value type/displayName  outcomeType/value  \\\n",
       "41              1          45        Challenge                  0   \n",
       "130             1           3           TakeOn                  0   \n",
       "135             1          49     BallRecovery                  1   \n",
       "136             1           1             Pass                  1   \n",
       "160             1           1             Pass                  1   \n",
       "\n",
       "    outcomeType/displayName  playerId  player_num     name  \n",
       "41             Unsuccessful    9003.0        28.0  McGeady  \n",
       "130            Unsuccessful    9003.0        28.0  McGeady  \n",
       "135              Successful    9003.0        28.0  McGeady  \n",
       "136              Successful    9003.0        28.0  McGeady  \n",
       "160              Successful    9003.0        28.0  McGeady  "
      ]
     },
     "execution_count": 13,
     "metadata": {},
     "output_type": "execute_result"
    }
   ],
   "source": [
    "df.head()"
   ]
  },
  {
   "cell_type": "markdown",
   "metadata": {},
   "source": [
    "# USE FILTER BELOW"
   ]
  },
  {
   "cell_type": "code",
   "execution_count": 14,
   "metadata": {},
   "outputs": [],
   "source": [
    "#different filters to use\n",
    "\n",
    "#passes - passesfilter\n",
    "#actions - actionfilter\n",
    "#shots - shotfilter\n",
    "#heat - heatfilter\n",
    "#location - locationfilter\n"
   ]
  },
  {
   "cell_type": "code",
   "execution_count": 15,
   "metadata": {},
   "outputs": [],
   "source": [
    "df.to_csv(r'C:\\Users\\Feele\\Documents\\Sunderland\\Data\\actionfilter.csv')"
   ]
  },
  {
   "cell_type": "code",
   "execution_count": null,
   "metadata": {},
   "outputs": [],
   "source": [
    "## game code\n",
    "\n",
    "Aerial\t44\n",
    "BallRecovery\t49\n",
    "BallTouch\t61\n",
    "BlockedPass\t74\n",
    "Card\t17\n",
    "Challenge\t45\n",
    "Claim\t11\n",
    "Clearance\t12\n",
    "CornerAwarded\t6\n",
    "Dispossessed\t50\n",
    "End\t30\n",
    "FormationChange\t40\n",
    "FormationSet\t34\n",
    "Foul\t4\n",
    "Goal\t16\n",
    "Interception\t8\n",
    "KeeperPickup\t52\n",
    "KeeperSweeper\t59\n",
    "MissedShots\t13\n",
    "OffsideGiven\t10000\n",
    "OffsidePass\t2\n",
    "OffsideProvoked\t55\n",
    "Pass\t1\n",
    "Punch\t41\n",
    "Save\t10\n",
    "SavedShot\t15\n",
    "ShieldBallOpp\t56\n",
    "ShotOnPost\t14\n",
    "Start\t32\n",
    "SubstitutionOff\t18\n",
    "SubstitutionOn\t19\n",
    "Tackle\t7\n",
    "TakeOn\t3\n",
    "\n",
    "# FILTER FOR SHOTS\n",
    "\n",
    "ShotOnPost - 14\n",
    "SavedShot - 15\n",
    "MissedShots - 13\n",
    "Goal - 16"
   ]
  },
  {
   "cell_type": "code",
   "execution_count": null,
   "metadata": {},
   "outputs": [],
   "source": [
    "#Player Code 20/21\n",
    "\n",
    "Bailey Wright\t86025\n",
    "Aiden O'Brien\t105167\n",
    "Aiden McGeady\t9003\n",
    "Lynden Gooch\t294849\n",
    "Jack Diamond\t382441\n",
    "Dion Sanderson\t384128\n",
    "Jake Vokins\t386857\n",
    "Grant Leadbitter\t12417\n",
    "Remi Matthews\t229492\n",
    "Jordan Jones\t261627\n",
    "Charlie Wyke\t111787\n",
    "Lee Burge\t134119\n",
    "Callum McFadzean\t134185\n",
    "Josh Scowen\t134214\n",
    "Luke O'Nien\t 134373\n",
    "Max Power\t134442\n",
    "Conor McLaughlin\t134636\n",
    "Daniel Neil \t399427\n",
    "Carl Winchester\t131474\n",
    "Chris Maguire\t13860\n"
   ]
  },
  {
   "cell_type": "code",
   "execution_count": null,
   "metadata": {},
   "outputs": [],
   "source": [
    "#Player Code 21/22\n",
    "\n",
    "Bailey Wright(86025)\n",
    "Aiden O'Brien(105167)\n",
    "Aiden McGeady(9003)\n",
    "Lynden Gooch(294849)\n",
    "Jack Diamond(382441)\n",
    "Charlie Wyke(111787)\n",
    "Lee Burge(134119)\n",
    "Luke O'Nien(134373)\n",
    "Daniel Neil(399427)\n",
    "Carl Winchester(131474)\n"
   ]
  }
 ],
 "metadata": {
  "kernelspec": {
   "display_name": "Python 3",
   "language": "python",
   "name": "python3"
  },
  "language_info": {
   "codemirror_mode": {
    "name": "ipython",
    "version": 3
   },
   "file_extension": ".py",
   "mimetype": "text/x-python",
   "name": "python",
   "nbconvert_exporter": "python",
   "pygments_lexer": "ipython3",
   "version": "3.8.5"
  }
 },
 "nbformat": 4,
 "nbformat_minor": 4
}
