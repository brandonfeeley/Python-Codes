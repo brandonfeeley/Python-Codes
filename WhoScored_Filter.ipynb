{
 "cells": [
  {
   "cell_type": "markdown",
   "metadata": {},
   "source": [
    "## This is the second sheet you use."
   ]
  },
  {
   "cell_type": "code",
   "execution_count": 1,
   "metadata": {},
   "outputs": [],
   "source": [
    "#Imports\n",
    "\n",
    "import pandas as pd\n",
    "import numpy as np\n",
    "\n"
   ]
  },
  {
   "cell_type": "markdown",
   "metadata": {},
   "source": [
    "# USE FILTER BELOW"
   ]
  },
  {
   "cell_type": "code",
   "execution_count": 48,
   "metadata": {},
   "outputs": [],
   "source": [
    "df = pd.read_csv(r'C:\\Users\\Feele\\Documents\\Data\\Sunderland\\2122\\Home\\Wimbledon.csv')\n"
   ]
  },
  {
   "cell_type": "code",
   "execution_count": 49,
   "metadata": {
    "scrolled": true
   },
   "outputs": [],
   "source": [
    "#different filters to use\n",
    "\n",
    "#passes   - df = df[df['type/value']==1]                           # passes only, additional filters available. \n",
    "#actions  - df = df[df['playerId']==000000]                        # just filter by a player ID/Name/Number\n",
    "#shots    - df = df[df['type/displayName'].isin(['Goal','ShotOnPost','SavedShot','MissedShots'])]   # shots filter. specific codes for numbers found \n",
    "#heat     - df = df[df['playerId']==000000]                        # similar to actions, you can use additional filters to passes etc.\n",
    "#location - df = df[df['teamId']==16]                              # filter ONLY by team\n",
    "            \n",
    "        \n",
    "\n",
    "#additional filters\n",
    "#minute   df = df[df['minute']<=45]                                # minute\n",
    "#minute2  df = df[(df['minute'] >=64 ) & (df['minute'] <81)]       #\n",
    "#half     df = df[df['period/value']==2]                           #change to 1 or 2\n",
    "#team     df = df[df['teamId']==16]                                #further team Id's >> https://www.whoscored.com/Teams/16/Show/England-Sunderland\n",
    "\n",
    "\n",
    "#df = df[df['minute']<=15] \n",
    "#df = df[(df['minute'] >=16 ) & (df['minute'] <31)] \n",
    "#df = df[(df['minute'] >=31 ) & (df['minute'] <46)] \n",
    "#df = df[(df['minute'] >=46 ) & (df['minute'] <61)] \n",
    "#df = df[(df['minute'] >=61 ) & (df['minute'] <76)] \n",
    "#df = df[df['minute']>=76]\n",
    "\n",
    "####################### Paste your requests below #################################################\n",
    "\n",
    "\n",
    "\n",
    "\n",
    "df = df[df['name']=='Winchester']\n"
   ]
  },
  {
   "cell_type": "code",
   "execution_count": 50,
   "metadata": {},
   "outputs": [
    {
     "data": {
      "text/plain": [
       "Pass               52\n",
       "Aerial              6\n",
       "BallRecovery        5\n",
       "Foul                4\n",
       "OffsideProvoked     1\n",
       "BallTouch           1\n",
       "Goal                1\n",
       "SavedShot           1\n",
       "TakeOn              1\n",
       "Tackle              1\n",
       "Name: type/displayName, dtype: int64"
      ]
     },
     "execution_count": 50,
     "metadata": {},
     "output_type": "execute_result"
    }
   ],
   "source": [
    "df['type/displayName'].value_counts(dropna = False)"
   ]
  },
  {
   "cell_type": "code",
   "execution_count": 46,
   "metadata": {},
   "outputs": [],
   "source": [
    "#different filters to use\n",
    "\n",
    "#passes -   passesfilter\n",
    "#actions -  actionfilter \n",
    "#shots -    shotfilter\n",
    "#heat -     heatfilter\n",
    "#location - locationfilter\n",
    "#player  -  playerfilter \n",
    "#ppda    -  ppdafilter "
   ]
  },
  {
   "cell_type": "code",
   "execution_count": 51,
   "metadata": {},
   "outputs": [],
   "source": [
    "df.to_csv(r'C:\\Users\\Feele\\Documents\\Data\\Sunderland\\heatfilter.csv')\n"
   ]
  },
  {
   "cell_type": "code",
   "execution_count": 7,
   "metadata": {},
   "outputs": [],
   "source": [
    "#df.to_csv(r'C:\\Users\\Feele\\Documents\\Data\\Sunderland\\2122\\Home\\Wimbledon.csv')"
   ]
  },
  {
   "cell_type": "code",
   "execution_count": 86,
   "metadata": {},
   "outputs": [],
   "source": [
    "## game codes\n",
    "\n",
    "#defensive \n",
    "\n",
    "#Aerial       = 44\n",
    "#BallRecovery = 49\n",
    "#BallTouch    = 61\n",
    "#BlockedPass  = 74\n",
    "#Challenge    = 45\n",
    "#Clearance    = 12\n",
    "#Interception = 8\n",
    "#Foul         = 4\n",
    "#Tackle       = 7\n",
    "\n",
    "#goalkeeper\n",
    "\n",
    "#Claim        = 11\n",
    "#KeeperPickup = 52\n",
    "#KeeperSweeper= 59\n",
    "#Punch        = 41\n",
    "#Save         = 10\n",
    "\n",
    "#Possession\n",
    "\n",
    "#Dispossessed = 50\n",
    "#BallTouch    = 61\n",
    "#Pass         = 1\n",
    "#TakeOn       = 3\n",
    "#ShieldBallOpp= 56\n",
    "\n",
    "#shots\n",
    "\n",
    "#ShotOnPost   = 14\n",
    "#SavedShot    = 15\n",
    "#MissedShots  = 13\n",
    "#Goal         = 16\n",
    "\n",
    "#Card         = 17\n",
    "#CornerAwarded= 6\n",
    "#End          = 30\n",
    "#FormationChange=40\n",
    "#FormationSet = 34\n",
    "#OffsideGiven = 10000\n",
    "#OffsidePass  = 2\n",
    "#OffsideProvoked= 55\n",
    "#Start        = 32\n",
    "#SubstitutionOff= 18\n",
    "#SubstitutionOn = 19"
   ]
  },
  {
   "cell_type": "markdown",
   "metadata": {},
   "source": [
    "df = df[['id', 'minute','second','teamId','x','y','endX','endY','period/value','type/value','type/displayName','outcomeType/displayName',\n",
    "          'playerId',\n",
    "          'qualifiers/0/type/displayName',\n",
    "          'qualifiers/1/type/displayName',\n",
    "          'qualifiers/2/type/displayName',\n",
    "          'qualifiers/3/type/displayName',\n",
    "          'qualifiers/4/type/displayName',\n",
    "          'qualifiers/5/type/displayName',\n",
    "          'qualifiers/6/type/displayName',\n",
    "          'qualifiers/7/type/displayName',\n",
    "          'qualifiers/8/type/displayName',\n",
    "          'qualifiers/9/type/displayName',\n",
    "          'qualifiers/10/type/displayName',\n",
    "          'qualifiers/11/type/displayName',\n",
    "          'qualifiers/12/type/displayName',\n",
    "          'qualifiers/13/type/displayName',\n",
    "          'qualifiers/14/type/displayName',\n",
    "          'qualifiers/15/type/displayName'\n",
    "          \n",
    "          \n",
    "         ]]"
   ]
  }
 ],
 "metadata": {
  "kernelspec": {
   "display_name": "Python 3",
   "language": "python",
   "name": "python3"
  },
  "language_info": {
   "codemirror_mode": {
    "name": "ipython",
    "version": 3
   },
   "file_extension": ".py",
   "mimetype": "text/x-python",
   "name": "python",
   "nbconvert_exporter": "python",
   "pygments_lexer": "ipython3",
   "version": "3.8.10"
  }
 },
 "nbformat": 4,
 "nbformat_minor": 4
}
