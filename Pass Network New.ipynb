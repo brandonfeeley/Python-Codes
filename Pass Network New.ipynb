{
 "cells": [
  {
   "cell_type": "code",
   "execution_count": 119,
   "id": "1c626426",
   "metadata": {},
   "outputs": [],
   "source": [
    "import numpy as np\n",
    "import pandas as pd\n",
    "import matplotlib as mpl\n",
    "import math\n",
    "import matplotlib.pyplot as plt\n",
    "\n",
    "from mplsoccer import Pitch, VerticalPitch\n",
    "from matplotlib.colors import to_rgba"
   ]
  },
  {
   "cell_type": "code",
   "execution_count": 120,
   "id": "45a4fb58",
   "metadata": {},
   "outputs": [],
   "source": [
    "df = pd.read_csv(r'C:\\Users\\Feele\\Documents\\Data\\Sunderland\\locationfilter.csv')\n"
   ]
  },
  {
   "cell_type": "code",
   "execution_count": 121,
   "id": "1944eff0",
   "metadata": {},
   "outputs": [
    {
     "name": "stderr",
     "output_type": "stream",
     "text": [
      "C:\\Users\\Feele\\Documents\\Analytics\\Python\\lib\\site-packages\\pandas\\core\\frame.py:3607: SettingWithCopyWarning: \n",
      "A value is trying to be set on a copy of a slice from a DataFrame.\n",
      "Try using .loc[row_indexer,col_indexer] = value instead\n",
      "\n",
      "See the caveats in the documentation: https://pandas.pydata.org/pandas-docs/stable/user_guide/indexing.html#returning-a-view-versus-a-copy\n",
      "  self._set_item(key, value)\n"
     ]
    }
   ],
   "source": [
    "#Make a new, single column for time and sort the events in chronological order\n",
    "\n",
    "df.sort_values(by=['minute'])\n",
    "\n",
    "#identify the passer and then the recipient, who'll be the playerId of the next action\n",
    "\n",
    "\n",
    "df['passer'] = df['number'] # change to 'number' for nodes with numbers. Use 'playerId' if not.\n",
    "\n",
    "df['recipient'] = df['passer'].shift(-1)\n",
    "\n",
    "#filter for only passes and then successful passes\n",
    "Passes = df.loc[(df['type/displayName']==\"Pass\")]\n",
    "\n",
    "\n",
    "Completions = Passes.loc[(Passes['outcomeType/displayName']==\"Successful\")]\n",
    "\n",
    "pas = pd.to_numeric(Completions['passer'],downcast='integer')\n",
    "rec = pd.to_numeric(Completions['recipient'],downcast='integer')\n",
    "\n",
    "Completions['passer'] = pas\n",
    "Completions['recipient'] = rec"
   ]
  },
  {
   "cell_type": "code",
   "execution_count": 122,
   "id": "9c4cfd23",
   "metadata": {},
   "outputs": [
    {
     "data": {
      "text/plain": [
       "488    58\n",
       "490    58\n",
       "525    62\n",
       "Name: minute, dtype: int64"
      ]
     },
     "execution_count": 122,
     "metadata": {},
     "output_type": "execute_result"
    }
   ],
   "source": [
    "#find time of the team's first substitution and filter the df to only passes before that\n",
    "Subs = df.loc[(df['type/displayName']==\"SubstitutionOff\")]\n",
    "SubTimes = Subs[\"minute\"]\n",
    "SubOne = SubTimes.min()\n",
    "\n",
    "\n",
    "SubTimes\n",
    "#SubOne"
   ]
  },
  {
   "cell_type": "code",
   "execution_count": 123,
   "id": "3944a287",
   "metadata": {},
   "outputs": [],
   "source": [
    "Completions = Completions.loc[Completions['minute'] < SubOne]"
   ]
  },
  {
   "cell_type": "code",
   "execution_count": 124,
   "id": "361fa166",
   "metadata": {},
   "outputs": [],
   "source": [
    "#Find Average Locations \n",
    "average_locs_and_count = Completions.groupby('passer').agg({'x': ['mean'], 'y': ['mean','count']})\n",
    "average_locs_and_count.columns = ['x', 'y', 'count']"
   ]
  },
  {
   "cell_type": "code",
   "execution_count": 125,
   "id": "29da2079",
   "metadata": {},
   "outputs": [
    {
     "data": {
      "text/html": [
       "<div>\n",
       "<style scoped>\n",
       "    .dataframe tbody tr th:only-of-type {\n",
       "        vertical-align: middle;\n",
       "    }\n",
       "\n",
       "    .dataframe tbody tr th {\n",
       "        vertical-align: top;\n",
       "    }\n",
       "\n",
       "    .dataframe thead th {\n",
       "        text-align: right;\n",
       "    }\n",
       "</style>\n",
       "<table border=\"1\" class=\"dataframe\">\n",
       "  <thead>\n",
       "    <tr style=\"text-align: right;\">\n",
       "      <th></th>\n",
       "      <th>x</th>\n",
       "      <th>y</th>\n",
       "      <th>count</th>\n",
       "    </tr>\n",
       "    <tr>\n",
       "      <th>passer</th>\n",
       "      <th></th>\n",
       "      <th></th>\n",
       "      <th></th>\n",
       "    </tr>\n",
       "  </thead>\n",
       "  <tbody>\n",
       "    <tr>\n",
       "      <th>4</th>\n",
       "      <td>41.374286</td>\n",
       "      <td>56.108571</td>\n",
       "      <td>35</td>\n",
       "    </tr>\n",
       "    <tr>\n",
       "      <th>10</th>\n",
       "      <td>68.800000</td>\n",
       "      <td>70.300000</td>\n",
       "      <td>2</td>\n",
       "    </tr>\n",
       "    <tr>\n",
       "      <th>11</th>\n",
       "      <td>63.282353</td>\n",
       "      <td>16.664706</td>\n",
       "      <td>17</td>\n",
       "    </tr>\n",
       "    <tr>\n",
       "      <th>13</th>\n",
       "      <td>62.994737</td>\n",
       "      <td>45.978947</td>\n",
       "      <td>19</td>\n",
       "    </tr>\n",
       "    <tr>\n",
       "      <th>14</th>\n",
       "      <td>62.477778</td>\n",
       "      <td>59.811111</td>\n",
       "      <td>9</td>\n",
       "    </tr>\n",
       "    <tr>\n",
       "      <th>15</th>\n",
       "      <td>46.607407</td>\n",
       "      <td>23.107407</td>\n",
       "      <td>27</td>\n",
       "    </tr>\n",
       "    <tr>\n",
       "      <th>17</th>\n",
       "      <td>43.785106</td>\n",
       "      <td>87.104255</td>\n",
       "      <td>47</td>\n",
       "    </tr>\n",
       "    <tr>\n",
       "      <th>20</th>\n",
       "      <td>13.606667</td>\n",
       "      <td>48.913333</td>\n",
       "      <td>15</td>\n",
       "    </tr>\n",
       "    <tr>\n",
       "      <th>25</th>\n",
       "      <td>72.056000</td>\n",
       "      <td>82.908000</td>\n",
       "      <td>25</td>\n",
       "    </tr>\n",
       "    <tr>\n",
       "      <th>26</th>\n",
       "      <td>33.558824</td>\n",
       "      <td>58.070588</td>\n",
       "      <td>51</td>\n",
       "    </tr>\n",
       "    <tr>\n",
       "      <th>27</th>\n",
       "      <td>58.665385</td>\n",
       "      <td>69.130769</td>\n",
       "      <td>26</td>\n",
       "    </tr>\n",
       "  </tbody>\n",
       "</table>\n",
       "</div>"
      ],
      "text/plain": [
       "                x          y  count\n",
       "passer                             \n",
       "4       41.374286  56.108571     35\n",
       "10      68.800000  70.300000      2\n",
       "11      63.282353  16.664706     17\n",
       "13      62.994737  45.978947     19\n",
       "14      62.477778  59.811111      9\n",
       "15      46.607407  23.107407     27\n",
       "17      43.785106  87.104255     47\n",
       "20      13.606667  48.913333     15\n",
       "25      72.056000  82.908000     25\n",
       "26      33.558824  58.070588     51\n",
       "27      58.665385  69.130769     26"
      ]
     },
     "execution_count": 125,
     "metadata": {},
     "output_type": "execute_result"
    }
   ],
   "source": [
    "average_locs_and_count"
   ]
  },
  {
   "cell_type": "code",
   "execution_count": 126,
   "id": "b51de562",
   "metadata": {},
   "outputs": [],
   "source": [
    "#find number of passes along each 'path' of passer to recipient\n",
    "passes_between = Completions.groupby(['passer', 'recipient']).id.count().reset_index()\n",
    "passes_between.rename({'id': 'pass_count'}, axis='columns', inplace=True)\n",
    "\n",
    "passes_between = passes_between.merge(average_locs_and_count, left_on='passer', right_index=True)\n",
    "passes_between = passes_between.merge(average_locs_and_count, left_on='recipient', right_index=True,\n",
    "                                      suffixes=['', '_end'])"
   ]
  },
  {
   "cell_type": "code",
   "execution_count": 136,
   "id": "18cc0906",
   "metadata": {},
   "outputs": [],
   "source": [
    "font1 = {'family':'Consolas','color':'black','size':24}"
   ]
  },
  {
   "cell_type": "code",
   "execution_count": 135,
   "id": "00b51b86",
   "metadata": {},
   "outputs": [
    {
     "data": {
      "image/png": "[encoded data removed]",
      "text/plain": [
       "<Figure size 936x576 with 1 Axes>"
      ]
     },
     "metadata": {},
     "output_type": "display_data"
    }
   ],
   "source": [
    "#set minimum threshold for pass arrows to be plotted. So this will only plot combos which occured at least 3 times.\n",
    "\n",
    "passes_between = passes_between.loc[(passes_between['pass_count']>=5)]\n",
    "\n",
    "min_transparency = 0.3\n",
    "color = np.array(to_rgba('#d3d3d3'))\n",
    "color = np.tile(color, (len(passes_between), 1))\n",
    "c_transparency = passes_between.pass_count / passes_between.pass_count.max()\n",
    "c_transparency = (c_transparency * (1 - min_transparency)) + min_transparency\n",
    "color[:, 3] = c_transparency\n",
    "\n",
    "\n",
    "\n",
    "\n",
    "pitch = VerticalPitch(pitch_color='white', line_color='black', figsize=(12, 6),\n",
    "              constrained_layout=True, tight_layout=False,half=False)\n",
    "fig, ax = pitch.draw(figsize=(13,8))\n",
    "\n",
    "pitch.draw(ax=ax)\n",
    "\n",
    "def pass_line_template(ax, x, y, end_x, end_y, line_color):\n",
    "    ax.annotate('', xy=(80-.8*end_y, 1.2*end_x), xytext=(80-.8*y, 1.2*x), zorder=.5,\n",
    "    arrowprops=dict(arrowstyle='->', linewidth=2.5, color='black', alpha=.85))\n",
    "    \n",
    "def pass_line_template_shrink(ax, x, y, end_x, end_y, line_color, dist_delta=1.2):\n",
    "    dist = math.hypot(end_x - x, end_y - y)\n",
    "    angle = math.atan2(end_y-y, end_x-x)\n",
    "    upd_x = x + (dist - dist_delta) * math.cos(angle)\n",
    "    upd_y = y + (dist - dist_delta) * math.sin(angle)\n",
    "    pass_line_template(ax, x, y, upd_x, upd_y, line_color=\"red\")\n",
    "\n",
    "#plt.axhspan(39.75, 40,color='#B4B6BA', alpha=1)\n",
    "#plt.axhspan(0, 39.75,color='red', alpha=.25)\n",
    "#plt.xlim(-2,82)\n",
    "#plt.axhspan(79.75, 80,color='#B4B6BA', alpha=1)\n",
    "#plt.axhspan(80, 120 ,color='green', alpha=.25)\n",
    "\n",
    "#Plotting Circles\n",
    "\n",
    "pass_nodes = pitch.scatter(1.2*average_locs_and_count.x, 80-0.8*average_locs_and_count.y, s=500,\n",
    "                           color='red', edgecolors=\"white\", linewidth=2, alpha=1, ax=ax, zorder=2) #CHANGE COLOURS HERE\n",
    " \n",
    "\n",
    "\n",
    "#Plotting Lines\n",
    "\n",
    "for index, row in passes_between.iterrows():\n",
    "    pass_line_template_shrink(ax,row['x'],row['y'],row['x_end'],row['y_end'],line_color = 'white')\n",
    "                    \n",
    "# Plotting Numbers\n",
    "for index, row in average_locs_and_count.iterrows():\n",
    "     pitch.annotate(row.name, xy=(1.2*row.x, 80-0.8*row.y), c='white', va='center', ha='center', size=12, fontfamily=\"Consolas\",ax=ax)\n",
    "\n",
    "\n",
    "        \n",
    "plt.title(\"Sunderland Passes \\n v Crewe\",fontdict= font1) # Title\n",
    "\n",
    "\n",
    "plt.savefig('networks.png',dpi=500,bbox_inches = 'tight')        "
   ]
  },
  {
   "cell_type": "code",
   "execution_count": null,
   "id": "c951fc82",
   "metadata": {},
   "outputs": [],
   "source": []
  },
  {
   "cell_type": "code",
   "execution_count": null,
   "id": "b0860aea",
   "metadata": {},
   "outputs": [],
   "source": []
  },
  {
   "cell_type": "code",
   "execution_count": null,
   "id": "3afc2349",
   "metadata": {},
   "outputs": [],
   "source": []
  },
  {
   "cell_type": "code",
   "execution_count": null,
   "id": "3b9e071e",
   "metadata": {},
   "outputs": [],
   "source": []
  }
 ],
 "metadata": {
  "kernelspec": {
   "display_name": "Python 3",
   "language": "python",
   "name": "python3"
  },
  "language_info": {
   "codemirror_mode": {
    "name": "ipython",
    "version": 3
   },
   "file_extension": ".py",
   "mimetype": "text/x-python",
   "name": "python",
   "nbconvert_exporter": "python",
   "pygments_lexer": "ipython3",
   "version": "3.8.10"
  }
 },
 "nbformat": 4,
 "nbformat_minor": 5
}
