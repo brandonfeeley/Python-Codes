{
 "cells": [
  {
   "cell_type": "code",
   "execution_count": 1,
   "metadata": {},
   "outputs": [],
   "source": [
    "#Imports\n",
    "\n",
    "import pandas as pd\n",
    "import numpy as np\n",
    "import matplotlib.pyplot as plt\n",
    "from mplsoccer.pitch import Pitch\n",
    "import seaborn as sns"
   ]
  },
  {
   "cell_type": "markdown",
   "metadata": {},
   "source": [
    "# USE FILTER BELOW"
   ]
  },
  {
   "cell_type": "code",
   "execution_count": 59,
   "metadata": {},
   "outputs": [],
   "source": [
    "\n",
    "df = pd.read_csv(r'C:\\Users\\Feele\\Documents\\Sunderland\\Data\\passesfilter.csv')"
   ]
  },
  {
   "cell_type": "code",
   "execution_count": 54,
   "metadata": {
    "scrolled": true
   },
   "outputs": [
    {
     "data": {
      "text/html": [
       "<div>\n",
       "<style scoped>\n",
       "    .dataframe tbody tr th:only-of-type {\n",
       "        vertical-align: middle;\n",
       "    }\n",
       "\n",
       "    .dataframe tbody tr th {\n",
       "        vertical-align: top;\n",
       "    }\n",
       "\n",
       "    .dataframe thead th {\n",
       "        text-align: right;\n",
       "    }\n",
       "</style>\n",
       "<table border=\"1\" class=\"dataframe\">\n",
       "  <thead>\n",
       "    <tr style=\"text-align: right;\">\n",
       "      <th></th>\n",
       "      <th>Unnamed: 0</th>\n",
       "      <th>id</th>\n",
       "      <th>eventId</th>\n",
       "      <th>minute</th>\n",
       "      <th>second</th>\n",
       "      <th>teamId</th>\n",
       "      <th>x</th>\n",
       "      <th>y</th>\n",
       "      <th>endX</th>\n",
       "      <th>endY</th>\n",
       "      <th>period/value</th>\n",
       "      <th>type/value</th>\n",
       "      <th>type/displayName</th>\n",
       "      <th>outcomeType/value</th>\n",
       "      <th>outcomeType/displayName</th>\n",
       "      <th>playerId</th>\n",
       "      <th>player_num</th>\n",
       "      <th>name</th>\n",
       "    </tr>\n",
       "  </thead>\n",
       "  <tbody>\n",
       "    <tr>\n",
       "      <th>0</th>\n",
       "      <td>11</td>\n",
       "      <td>2277926851</td>\n",
       "      <td>8</td>\n",
       "      <td>0</td>\n",
       "      <td>16.0</td>\n",
       "      <td>16</td>\n",
       "      <td>64.8</td>\n",
       "      <td>21.3</td>\n",
       "      <td>55.8</td>\n",
       "      <td>34.3</td>\n",
       "      <td>1</td>\n",
       "      <td>1</td>\n",
       "      <td>Pass</td>\n",
       "      <td>1</td>\n",
       "      <td>Successful</td>\n",
       "      <td>294849.0</td>\n",
       "      <td>11.0</td>\n",
       "      <td>Gooch</td>\n",
       "    </tr>\n",
       "    <tr>\n",
       "      <th>1</th>\n",
       "      <td>25</td>\n",
       "      <td>2277927691</td>\n",
       "      <td>21</td>\n",
       "      <td>0</td>\n",
       "      <td>45.0</td>\n",
       "      <td>16</td>\n",
       "      <td>42.9</td>\n",
       "      <td>31.0</td>\n",
       "      <td>35.4</td>\n",
       "      <td>13.5</td>\n",
       "      <td>1</td>\n",
       "      <td>1</td>\n",
       "      <td>Pass</td>\n",
       "      <td>1</td>\n",
       "      <td>Successful</td>\n",
       "      <td>294849.0</td>\n",
       "      <td>11.0</td>\n",
       "      <td>Gooch</td>\n",
       "    </tr>\n",
       "    <tr>\n",
       "      <th>2</th>\n",
       "      <td>27</td>\n",
       "      <td>2277927923</td>\n",
       "      <td>23</td>\n",
       "      <td>0</td>\n",
       "      <td>57.0</td>\n",
       "      <td>16</td>\n",
       "      <td>94.7</td>\n",
       "      <td>5.3</td>\n",
       "      <td>91.3</td>\n",
       "      <td>47.0</td>\n",
       "      <td>1</td>\n",
       "      <td>1</td>\n",
       "      <td>Pass</td>\n",
       "      <td>0</td>\n",
       "      <td>Unsuccessful</td>\n",
       "      <td>294849.0</td>\n",
       "      <td>11.0</td>\n",
       "      <td>Gooch</td>\n",
       "    </tr>\n",
       "    <tr>\n",
       "      <th>3</th>\n",
       "      <td>65</td>\n",
       "      <td>2277931635</td>\n",
       "      <td>44</td>\n",
       "      <td>2</td>\n",
       "      <td>56.0</td>\n",
       "      <td>16</td>\n",
       "      <td>70.6</td>\n",
       "      <td>6.7</td>\n",
       "      <td>70.8</td>\n",
       "      <td>33.0</td>\n",
       "      <td>1</td>\n",
       "      <td>1</td>\n",
       "      <td>Pass</td>\n",
       "      <td>0</td>\n",
       "      <td>Unsuccessful</td>\n",
       "      <td>294849.0</td>\n",
       "      <td>11.0</td>\n",
       "      <td>Gooch</td>\n",
       "    </tr>\n",
       "    <tr>\n",
       "      <th>4</th>\n",
       "      <td>151</td>\n",
       "      <td>2277943903</td>\n",
       "      <td>87</td>\n",
       "      <td>9</td>\n",
       "      <td>4.0</td>\n",
       "      <td>16</td>\n",
       "      <td>87.9</td>\n",
       "      <td>3.7</td>\n",
       "      <td>92.2</td>\n",
       "      <td>56.7</td>\n",
       "      <td>1</td>\n",
       "      <td>1</td>\n",
       "      <td>Pass</td>\n",
       "      <td>0</td>\n",
       "      <td>Unsuccessful</td>\n",
       "      <td>294849.0</td>\n",
       "      <td>11.0</td>\n",
       "      <td>Gooch</td>\n",
       "    </tr>\n",
       "  </tbody>\n",
       "</table>\n",
       "</div>"
      ],
      "text/plain": [
       "   Unnamed: 0          id  eventId  minute  second  teamId     x     y  endX  \\\n",
       "0          11  2277926851        8       0    16.0      16  64.8  21.3  55.8   \n",
       "1          25  2277927691       21       0    45.0      16  42.9  31.0  35.4   \n",
       "2          27  2277927923       23       0    57.0      16  94.7   5.3  91.3   \n",
       "3          65  2277931635       44       2    56.0      16  70.6   6.7  70.8   \n",
       "4         151  2277943903       87       9     4.0      16  87.9   3.7  92.2   \n",
       "\n",
       "   endY  period/value  type/value type/displayName  outcomeType/value  \\\n",
       "0  34.3             1           1             Pass                  1   \n",
       "1  13.5             1           1             Pass                  1   \n",
       "2  47.0             1           1             Pass                  0   \n",
       "3  33.0             1           1             Pass                  0   \n",
       "4  56.7             1           1             Pass                  0   \n",
       "\n",
       "  outcomeType/displayName  playerId  player_num   name  \n",
       "0              Successful  294849.0        11.0  Gooch  \n",
       "1              Successful  294849.0        11.0  Gooch  \n",
       "2            Unsuccessful  294849.0        11.0  Gooch  \n",
       "3            Unsuccessful  294849.0        11.0  Gooch  \n",
       "4            Unsuccessful  294849.0        11.0  Gooch  "
      ]
     },
     "execution_count": 54,
     "metadata": {},
     "output_type": "execute_result"
    }
   ],
   "source": [
    "df.head()"
   ]
  },
  {
   "cell_type": "code",
   "execution_count": 55,
   "metadata": {
    "scrolled": true
   },
   "outputs": [
    {
     "data": {
      "text/plain": [
       "Pass    31\n",
       "Name: type/displayName, dtype: int64"
      ]
     },
     "execution_count": 55,
     "metadata": {},
     "output_type": "execute_result"
    }
   ],
   "source": [
    "# Use Value_Counts to see what Data we have\n",
    "df['type/displayName'].value_counts(dropna = False)"
   ]
  },
  {
   "cell_type": "markdown",
   "metadata": {},
   "source": [
    "## Plotting and Pitch"
   ]
  },
  {
   "cell_type": "code",
   "execution_count": 31,
   "metadata": {},
   "outputs": [],
   "source": [
    "# Inflating X and Y to pitch size (statsbomb pitches don't match with WhoScored data)\n",
    "\n",
    "df['x'] = df['x']*1.2\n",
    "df['endX'] = df['endX']*1.2\n",
    "df['y'] = df['y']*.8\n",
    "df['endY'] = df['endY']*.8"
   ]
  },
  {
   "cell_type": "markdown",
   "metadata": {},
   "source": [
    "## Pass Map\n",
    "\n",
    "#### Light Pitch \n",
    "\n",
    "Background - #FFFFFF\n",
    "lines - #B4B6BA\n",
    "\n",
    "#### Dark Pitch\n",
    "\n",
    "Background - #1B1B1B\n",
    "lines - #c7d5cc\n",
    "\n",
    "#### Blue Pitch (Primary colour)\n",
    "Background - #0B0725\n",
    "lines - #B4B6BA"
   ]
  },
  {
   "cell_type": "code",
   "execution_count": 72,
   "metadata": {},
   "outputs": [],
   "source": [
    "df = pd.read_csv(r'C:\\Users\\Feele\\Documents\\Sunderland\\Data\\Filter.csv')"
   ]
  },
  {
   "cell_type": "code",
   "execution_count": 73,
   "metadata": {},
   "outputs": [],
   "source": [
    "# Inflating X and Y to pitch size (statsbomb pitches don't match with WhoScored data)\n",
    "\n",
    "df['x'] = df['x']*1.2\n",
    "df['endX'] = df['endX']*1.2\n",
    "df['y'] = df['y']*.8\n",
    "df['endY'] = df['endY']*.8"
   ]
  },
  {
   "cell_type": "code",
   "execution_count": 74,
   "metadata": {},
   "outputs": [],
   "source": [
    "#plot arrows\n",
    "def pass_line_template(ax, x, y, end_x, end_y, line_color):\n",
    "    ax.annotate('', xy=(80-.8*end_y, 1.2*end_x), xytext=(80-.8*y, 1.2*x), zorder=1,\n",
    "    arrowprops=dict(arrowstyle='->', linewidth=2.5, color='black', alpha=.75))"
   ]
  },
  {
   "cell_type": "code",
   "execution_count": 75,
   "metadata": {},
   "outputs": [
    {
     "data": {
      "image/png": "[encoded data removed]",
      "text/plain": [
       "<Figure size 972x576 with 1 Axes>"
      ]
     },
     "metadata": {},
     "output_type": "display_data"
    }
   ],
   "source": [
    "fig ,ax = plt.subplots(figsize=(13.5,8))\n",
    "fig.set_facecolor('#0B0725')\n",
    "ax.patch.set_facecolor('#0B0725')\n",
    "\n",
    "\n",
    "pitch = Pitch(pitch_type='statsbomb', orientation='horizontal',\n",
    "              pitch_color='#0B0725', line_color='#B4B6BA', figsize=(13, 8),\n",
    "              constrained_layout=False, tight_layout=True)\n",
    "\n",
    "#Draw the pitch on the ax figure as well as invert the axis for this specific pitch\n",
    "pitch.draw(ax=ax)\n",
    "plt.gca().invert_yaxis()\n",
    "\n",
    "#use a for loop to plot each pass\n",
    "\n",
    "for x in range(len(df['x'])):\n",
    "    if df['outcomeType/displayName'][x] == 'Successful':\n",
    "        plt.plot((df['x'][x],df['endX'][x]),(df['y'][x],df['endY'][x]),color='green',alpha =.8,linewidth=3,linestyle='solid')\n",
    "        plt.scatter(df['x'][x],df['y'][x],color='green',marker='o', linewidth=3)\n",
    "        \n",
    "for x in range(len(df['x'])):\n",
    "    if df['outcomeType/displayName'][x] == 'Unsuccessful':\n",
    "        plt.plot((df['x'][x],df['endX'][x]),(df['y'][x],df['endY'][x]),color='red',alpha =1,linewidth=3,linestyle='solid')\n",
    "        plt.scatter(df['x'][x],df['y'][x],color='red',marker='o', linewidth=3)\n",
    "        \n",
    "plt.savefig('test.png',dpi=500,bbox_inches = 'tight') \n",
    "        "
   ]
  },
  {
   "cell_type": "code",
   "execution_count": null,
   "metadata": {},
   "outputs": [],
   "source": []
  }
 ],
 "metadata": {
  "kernelspec": {
   "display_name": "Python 3",
   "language": "python",
   "name": "python3"
  },
  "language_info": {
   "codemirror_mode": {
    "name": "ipython",
    "version": 3
   },
   "file_extension": ".py",
   "mimetype": "text/x-python",
   "name": "python",
   "nbconvert_exporter": "python",
   "pygments_lexer": "ipython3",
   "version": "3.8.5"
  }
 },
 "nbformat": 4,
 "nbformat_minor": 4
}
