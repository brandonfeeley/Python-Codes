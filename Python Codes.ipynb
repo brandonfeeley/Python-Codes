{
 "cells": [
  {
   "cell_type": "markdown",
   "metadata": {},
   "source": [
    "# Contents\n",
    "\n",
    "## 1 Imports\n",
    "## 2 Data Types\n",
    "## 3 Data Basics\n",
    "## 4 Wrangling/Cleaning\n",
    "## 5 Creating a new Header\n",
    "## 6 Consistency Checks\n",
    "## 7 Create a Dataframe with Concat\n",
    "## 8 Merge Data\n",
    "## 9 Creating Loops and Elif functions\n",
    "## 10 Deriving columns\n",
    "## 11 Creating a sample from a df"
   ]
  },
  {
   "cell_type": "markdown",
   "metadata": {},
   "source": [
    "## 1"
   ]
  },
  {
   "cell_type": "code",
   "execution_count": 1,
   "metadata": {},
   "outputs": [],
   "source": [
    "# imports\n",
    "\n",
    "import pandas as pd\n",
    "import numpy as np\n",
    "import os\n",
    "\n"
   ]
  },
  {
   "cell_type": "markdown",
   "metadata": {},
   "source": [
    "## 2"
   ]
  },
  {
   "cell_type": "code",
   "execution_count": 11,
   "metadata": {},
   "outputs": [
    {
     "data": {
      "text/plain": [
       "bool"
      ]
     },
     "execution_count": 11,
     "metadata": {},
     "output_type": "execute_result"
    }
   ],
   "source": [
    "# different data types examples\n",
    "\n",
    "a = 2 #int\n",
    "b = 5.11 #float\n",
    "c = 'England' #str\n",
    "a == b #bool\n",
    "\n",
    "type(a)"
   ]
  },
  {
   "cell_type": "code",
   "execution_count": 12,
   "metadata": {},
   "outputs": [
    {
     "data": {
      "text/plain": [
       "False"
      ]
     },
     "execution_count": 12,
     "metadata": {},
     "output_type": "execute_result"
    }
   ],
   "source": [
    "a == b"
   ]
  },
  {
   "cell_type": "markdown",
   "metadata": {},
   "source": [
    "## 3"
   ]
  },
  {
   "cell_type": "code",
   "execution_count": null,
   "metadata": {},
   "outputs": [],
   "source": [
    "## data basics\n",
    "\n",
    "df.head() #displays first 5 rows of data\n",
    "df.tail() #displays last 5 rows of data\n",
    "df.shape #prints the amount of rows and columns in the dataframe\n",
    "df.info() #prints data types, row and columns\n",
    "df.columns #prints the name of each column in the dataframe\n",
    "df.describe() #prints off basic descriptive statistics\n"
   ]
  },
  {
   "cell_type": "markdown",
   "metadata": {},
   "source": [
    "## 4"
   ]
  },
  {
   "cell_type": "code",
   "execution_count": null,
   "metadata": {},
   "outputs": [],
   "source": [
    "# data wrangling and cleaning\n",
    "\n",
    "df.drop(columns = ['variable']inplace = True) # drop a column from the dataframe\n",
    "df['variable'].value_counts(dropna = False) #print data from a specific column\n",
    "df.rename(columns = {'old_name' : 'new_name'}, inplace = True) # rename a column\n",
    "df['variable'] = df['variable'].astype('str') # change data type (please check datatype before changing!)\n",
    "df['variable'].dtype #check a single data type\n",
    "df.T #Transpose data \n",
    "\n",
    "df2 =  df[df['COLUMN_NAME']==1] # subset a column by name or number\n",
    "df2 = df.loc[df['COLUMN_NAME'].isin([1,2,3,4])] #search for multiple variables using .loc\n",
    "\n",
    "\n"
   ]
  },
  {
   "cell_type": "markdown",
   "metadata": {},
   "source": [
    "## 5"
   ]
  },
  {
   "cell_type": "code",
   "execution_count": null,
   "metadata": {},
   "outputs": [],
   "source": [
    "# creating a new header\n",
    "\n",
    "df.T #Transpose\n",
    "df = df.T #make df the transposed df\n",
    "df.reset_index() #reset index\n",
    "new_header = df.iloc[0] #providing data is an int, this should be okay\n",
    "df1 = df[1:] #create a new dataframe (df1 is easy to remember)\n",
    "df1.columns = new_header # switches columns to the new df\n",
    "\n",
    "\n",
    "data_dict = df1.to_dict('index') #create a data dictionary!\n",
    "print(data_dict.get('NUMBER'))\n"
   ]
  },
  {
   "cell_type": "markdown",
   "metadata": {},
   "source": [
    "## 6"
   ]
  },
  {
   "cell_type": "code",
   "execution_count": null,
   "metadata": {},
   "outputs": [],
   "source": [
    "# consistency checks\n",
    "\n",
    "for col in df.columns.tolist(): # mixed data type\n",
    "  weird = (df[[col]].applymap(type) != df[[col]].iloc[0].apply(type)).any(axis = 1)\n",
    "  if len (df[weird]) > 0:\n",
    "    print (col)\n",
    "\n",
    "# nulls\n",
    "\n",
    "df.isnull().sum() #check for nulls\n",
    "df_nulls = df[df['Variable'].isnull()== True] #make a subset for any nulls that show in the checks\n",
    "df['column with missings'].fillna(mean value, inplace=True) #fill a missing variable with mean/median\n",
    "df_clean = df_nulls[df_nulls['Variable'].isnull() == False] #Create subset excluding any missing values. \n",
    "df_nulls[‘Variable’].dropna(inplace = True) #same as above but you would overwrite dataframe. \n",
    "\n",
    "# duplicates\n",
    "df_duplicate = df_clean[df_clean.duplicated()] #this will bring up any duplicates in the dataframe\n",
    "df3 = df.duplicate.drop_duplicates() #drop duplicates from the data.\n"
   ]
  },
  {
   "cell_type": "markdown",
   "metadata": {},
   "source": [
    "## 7"
   ]
  },
  {
   "cell_type": "code",
   "execution_count": 51,
   "metadata": {},
   "outputs": [],
   "source": [
    "# creating a dataframe & merging data using concat\n",
    "\n",
    "# Define a dictionary containing January 2020 data\n",
    "data1 = {'customer_id':['6732', '767', '890', '635'],\n",
    "    'month':['Jan-20', 'Jan-20', 'Jan-20', 'Jan-20'],\n",
    "    'purchased_meat':[0, 13, 3, 4],\n",
    "    'purchased_alcohol':[1, 2, 10, 0],\n",
    "    'purchased_snacks':[10, 5, 1, 7]}\n",
    "\n",
    "# Define a dictionary containing February 2020 data\n",
    "data2 = {'customer_id':['6732', '767', '890', '635'],\n",
    "    'month':['Feb-20', 'Feb-20', 'Feb-20', 'Feb-20'],\n",
    "    'purchased_meat':[0, 10, 5, 3],\n",
    "    'purchased_alcohol':[2, 4, 14, 0],\n",
    "    'purchased_snacks':[15, 3, 2, 6]}\n",
    "\n",
    "#Convert the dictionary into dataframe\n",
    "df = pd.DataFrame(data1,index=[0, 1, 2, 3])\n",
    "df1 = pd.DataFrame(data2,index=[0, 1, 2, 3])\n",
    "\n",
    "frames = [df, df1]\n",
    "df2 = pd.concat(frames)\n",
    "\n",
    "df_concat = pd.concat(frames, axis = 1) # this would create a wide view of data, rather than stacking data on top of each other"
   ]
  },
  {
   "cell_type": "markdown",
   "metadata": {},
   "source": [
    "## 8"
   ]
  },
  {
   "cell_type": "code",
   "execution_count": null,
   "metadata": {},
   "outputs": [],
   "source": [
    "# merging data\n",
    "\n",
    "df2 = df.merge(df1, on = 'Column') # make sure before merging you have a common column between the two dataframes\n",
    "df2 = df.merge(df1, on = ['Column', 'You can add a second column'], indicator = True) # this will add a _merge column to the dataframe\n",
    "df2['_merge'].value_counts() #this will show you if the merge is left,right or both\n",
    "\n"
   ]
  },
  {
   "cell_type": "markdown",
   "metadata": {},
   "source": [
    "## 9"
   ]
  },
  {
   "cell_type": "code",
   "execution_count": 5,
   "metadata": {
    "scrolled": true
   },
   "outputs": [
    {
     "data": {
      "text/plain": [
       "42"
      ]
     },
     "execution_count": 5,
     "metadata": {},
     "output_type": "execute_result"
    }
   ],
   "source": [
    "#sum function\n",
    "\n",
    "def add_num(x,y):\n",
    "    sum = x+y\n",
    "    return sum\n",
    "\n",
    "add_num(25,17)"
   ]
  },
  {
   "cell_type": "code",
   "execution_count": null,
   "metadata": {},
   "outputs": [],
   "source": [
    "#create for loops\n",
    "\n",
    "result = []\n",
    "\n",
    "for value in ords_prods_merge[\"day\"]:\n",
    "  if value == 0:\n",
    "    result.append(\"Busiest day\")\n",
    "  elif value == 4:\n",
    "    result.append(\"Least busy\")\n",
    "  else:\n",
    "    result.append(\"Regularly busy\")\n",
    "df['Busiest day'].value_count(dropna = False)"
   ]
  },
  {
   "cell_type": "code",
   "execution_count": null,
   "metadata": {},
   "outputs": [],
   "source": [
    "# elif functions \n",
    "\n",
    "def goal_category(row):\n",
    "    \n",
    " if row['goals'] <= 5: \n",
    "    return 'low_Scorer'\n",
    "  elif (row['goals'] > 5) and (row['goals'] <= 15):\n",
    "    return 'average_scorer'\n",
    "  elif row['goals'] > 15:\n",
    "    return 'high_scorer'\n",
    "  else: return 'Not enough data' # optional depending on data set\n",
    "    \n",
    "df['goal_category'] = df.apply(goal_category, axis=1) #define axis and column name (if you want to change that)\n",
    "\n",
    "df['goal_category'].value_counts(dropna = False) #create a list of values from if statement\n",
    "\n",
    "#using .loc\n",
    "\n",
    "df.loc[df['goals'] > 15, 'goal_category_loc'] = 'high_scorer'\n",
    "df.loc[(df['goals'] <= 15) & (df['goals'] > 5), 'goal_category_loc'] = 'average_scorer' \n",
    "df.loc[df['goals'] <= 5, 'goal_category_loc'] = 'low_scorer'"
   ]
  },
  {
   "cell_type": "markdown",
   "metadata": {},
   "source": [
    "## 10"
   ]
  },
  {
   "cell_type": "code",
   "execution_count": null,
   "metadata": {},
   "outputs": [],
   "source": [
    "#groupby using .agg\n",
    "\n",
    "df.groupby('department_id').agg({'order_number': ['mean']}) #compare two variables \n",
    "df.groupby('department_id').agg({'order_number': ['mean', 'min', 'max']}) #compare two variables but with more stats\n",
    "\n",
    "#deriving columns\n",
    "\n",
    "df.loc[df['matches_played'] > 25, 'appearances'] = 'Key_Player'\n",
    "df.loc[(df['matches_played'] <= 25) & (df['max_order'] > 10), 'appearances'] = 'Regular_Player'\n",
    "df.loc[df['matches_played'] <= 10, 'appearances'] = 'Squad_Player'\n",
    "\n",
    "df['appearances'].value_counts(dropna = False)"
   ]
  },
  {
   "cell_type": "markdown",
   "metadata": {},
   "source": [
    "## 11"
   ]
  },
  {
   "cell_type": "code",
   "execution_count": null,
   "metadata": {},
   "outputs": [],
   "source": [
    "np.random.seed(4) # you can change this\n",
    "dev = np.random.rand(len(df)) <= 0.75 #this will split the dataframe into two. 0.75 is 75%\n",
    "\n",
    "big = df[dev] \n",
    "small = df[~dev]\n",
    "\n",
    "len(df) # check size of file\n",
    "len(big) + len(small)"
   ]
  }
 ],
 "metadata": {
  "kernelspec": {
   "display_name": "Python 3",
   "language": "python",
   "name": "python3"
  },
  "language_info": {
   "codemirror_mode": {
    "name": "ipython",
    "version": 3
   },
   "file_extension": ".py",
   "mimetype": "text/x-python",
   "name": "python",
   "nbconvert_exporter": "python",
   "pygments_lexer": "ipython3",
   "version": "3.8.5"
  }
 },
 "nbformat": 4,
 "nbformat_minor": 4
}
