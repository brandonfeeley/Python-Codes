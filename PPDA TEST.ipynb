{
 "cells": [
  {
   "cell_type": "code",
   "execution_count": 1,
   "id": "b61af0c5",
   "metadata": {},
   "outputs": [],
   "source": [
    "#Imports\n",
    "\n",
    "import pandas as pd\n",
    "import numpy as np\n",
    "\n",
    "import matplotlib.pyplot as plt\n",
    "from mplsoccer.pitch import Pitch,VerticalPitch\n",
    "import seaborn as sns"
   ]
  },
  {
   "cell_type": "code",
   "execution_count": 59,
   "id": "5d23b7b8",
   "metadata": {},
   "outputs": [],
   "source": [
    "df = pd.read_csv(r'C:\\Users\\Feele\\Documents\\Data\\Sunderland\\2122\\Home\\Wimbledon.csv')\n"
   ]
  },
  {
   "cell_type": "code",
   "execution_count": 60,
   "id": "98443c5a",
   "metadata": {},
   "outputs": [],
   "source": [
    "df = df[df['teamId']==5955]\n",
    "df = df[df['x']>=40]\n",
    "df = df[df['type/displayName'].isin(['Interception','Tackle','Foul'])]\n"
   ]
  },
  {
   "cell_type": "code",
   "execution_count": 61,
   "id": "03594264",
   "metadata": {},
   "outputs": [],
   "source": [
    "df = df.drop(df[(df['type/displayName'] == 'Foul') & (df['outcomeType/displayName'] == 'Successful')].index)"
   ]
  },
  {
   "cell_type": "code",
   "execution_count": 62,
   "id": "e30267ea",
   "metadata": {},
   "outputs": [],
   "source": [
    "df1 = df[df['minute']<=15]\n",
    "df2 = df[(df['minute'] >=16 ) & (df['minute'] <31)]\n",
    "df3 = df[df['minute']>=31]\n",
    "df3 = df3[df3['period/value']==1]\n",
    "df4 = df[(df['minute'] >=45 ) & (df['minute'] <61)]\n",
    "df4 = df4[df4['period/value']==2]\n",
    "df5 = df[(df['minute'] >=61 ) & (df['minute'] <76)]\n",
    "df6 = df[df['minute']>=76]\n",
    "dfhalf1 = df[df['period/value']==1] \n",
    "dfhalf2 = df[df['period/value']==2] "
   ]
  },
  {
   "cell_type": "code",
   "execution_count": 63,
   "id": "1eff8972",
   "metadata": {
    "scrolled": true
   },
   "outputs": [
    {
     "data": {
      "text/plain": [
       "Foul    1\n",
       "Name: type/displayName, dtype: int64"
      ]
     },
     "execution_count": 63,
     "metadata": {},
     "output_type": "execute_result"
    }
   ],
   "source": [
    "df1['type/displayName'].value_counts(dropna = False)"
   ]
  },
  {
   "cell_type": "code",
   "execution_count": 64,
   "id": "d471f235",
   "metadata": {},
   "outputs": [
    {
     "data": {
      "text/plain": [
       "Foul    2\n",
       "Name: type/displayName, dtype: int64"
      ]
     },
     "execution_count": 64,
     "metadata": {},
     "output_type": "execute_result"
    }
   ],
   "source": [
    "df2['type/displayName'].value_counts(dropna = False)"
   ]
  },
  {
   "cell_type": "code",
   "execution_count": 65,
   "id": "b46da185",
   "metadata": {},
   "outputs": [
    {
     "data": {
      "text/plain": [
       "Interception    2\n",
       "Tackle          1\n",
       "Foul            1\n",
       "Name: type/displayName, dtype: int64"
      ]
     },
     "execution_count": 65,
     "metadata": {},
     "output_type": "execute_result"
    }
   ],
   "source": [
    "df3['type/displayName'].value_counts(dropna = False)"
   ]
  },
  {
   "cell_type": "code",
   "execution_count": 66,
   "id": "d026649c",
   "metadata": {},
   "outputs": [
    {
     "data": {
      "text/plain": [
       "Tackle    5\n",
       "Foul      3\n",
       "Name: type/displayName, dtype: int64"
      ]
     },
     "execution_count": 66,
     "metadata": {},
     "output_type": "execute_result"
    }
   ],
   "source": [
    "df4['type/displayName'].value_counts(dropna = False)"
   ]
  },
  {
   "cell_type": "code",
   "execution_count": 67,
   "id": "2b6e011f",
   "metadata": {},
   "outputs": [
    {
     "data": {
      "text/plain": [
       "Tackle          3\n",
       "Foul            1\n",
       "Interception    1\n",
       "Name: type/displayName, dtype: int64"
      ]
     },
     "execution_count": 67,
     "metadata": {},
     "output_type": "execute_result"
    }
   ],
   "source": [
    "df5['type/displayName'].value_counts(dropna = False)"
   ]
  },
  {
   "cell_type": "code",
   "execution_count": 68,
   "id": "0903217d",
   "metadata": {},
   "outputs": [
    {
     "data": {
      "text/plain": [
       "Tackle    2\n",
       "Foul      1\n",
       "Name: type/displayName, dtype: int64"
      ]
     },
     "execution_count": 68,
     "metadata": {},
     "output_type": "execute_result"
    }
   ],
   "source": [
    "df6['type/displayName'].value_counts(dropna = False)"
   ]
  },
  {
   "cell_type": "code",
   "execution_count": 69,
   "id": "4b4cde49",
   "metadata": {},
   "outputs": [],
   "source": [
    "frames = [df1,df2,df3,df4,df5,df6]\n",
    "df = pd.concat(frames)"
   ]
  },
  {
   "cell_type": "code",
   "execution_count": 70,
   "id": "fbbcc59f",
   "metadata": {},
   "outputs": [
    {
     "data": {
      "text/html": [
       "<div>\n",
       "<style scoped>\n",
       "    .dataframe tbody tr th:only-of-type {\n",
       "        vertical-align: middle;\n",
       "    }\n",
       "\n",
       "    .dataframe tbody tr th {\n",
       "        vertical-align: top;\n",
       "    }\n",
       "\n",
       "    .dataframe thead th {\n",
       "        text-align: right;\n",
       "    }\n",
       "</style>\n",
       "<table border=\"1\" class=\"dataframe\">\n",
       "  <thead>\n",
       "    <tr style=\"text-align: right;\">\n",
       "      <th></th>\n",
       "      <th>id</th>\n",
       "      <th>minute</th>\n",
       "      <th>second</th>\n",
       "      <th>teamId</th>\n",
       "      <th>x</th>\n",
       "      <th>y</th>\n",
       "      <th>endX</th>\n",
       "      <th>endY</th>\n",
       "      <th>period/value</th>\n",
       "      <th>type/value</th>\n",
       "      <th>playerId</th>\n",
       "      <th>number</th>\n",
       "      <th>xdistance</th>\n",
       "      <th>ydistance</th>\n",
       "    </tr>\n",
       "  </thead>\n",
       "  <tbody>\n",
       "    <tr>\n",
       "      <th>count</th>\n",
       "      <td>2.300000e+01</td>\n",
       "      <td>23.000000</td>\n",
       "      <td>23.000000</td>\n",
       "      <td>23.0</td>\n",
       "      <td>23.000000</td>\n",
       "      <td>23.000000</td>\n",
       "      <td>0.0</td>\n",
       "      <td>0.0</td>\n",
       "      <td>23.000000</td>\n",
       "      <td>23.000000</td>\n",
       "      <td>23.000000</td>\n",
       "      <td>23.000000</td>\n",
       "      <td>0.0</td>\n",
       "      <td>0.0</td>\n",
       "    </tr>\n",
       "    <tr>\n",
       "      <th>mean</th>\n",
       "      <td>2.321382e+09</td>\n",
       "      <td>51.913043</td>\n",
       "      <td>28.391304</td>\n",
       "      <td>5955.0</td>\n",
       "      <td>62.547826</td>\n",
       "      <td>43.786957</td>\n",
       "      <td>NaN</td>\n",
       "      <td>NaN</td>\n",
       "      <td>1.695652</td>\n",
       "      <td>5.956522</td>\n",
       "      <td>306956.608696</td>\n",
       "      <td>10.260870</td>\n",
       "      <td>NaN</td>\n",
       "      <td>NaN</td>\n",
       "    </tr>\n",
       "    <tr>\n",
       "      <th>std</th>\n",
       "      <td>4.490183e+04</td>\n",
       "      <td>19.881268</td>\n",
       "      <td>17.432308</td>\n",
       "      <td>0.0</td>\n",
       "      <td>16.101182</td>\n",
       "      <td>26.826739</td>\n",
       "      <td>NaN</td>\n",
       "      <td>NaN</td>\n",
       "      <td>0.470472</td>\n",
       "      <td>1.637022</td>\n",
       "      <td>105247.293174</td>\n",
       "      <td>5.658601</td>\n",
       "      <td>NaN</td>\n",
       "      <td>NaN</td>\n",
       "    </tr>\n",
       "    <tr>\n",
       "      <th>min</th>\n",
       "      <td>2.321297e+09</td>\n",
       "      <td>13.000000</td>\n",
       "      <td>0.000000</td>\n",
       "      <td>5955.0</td>\n",
       "      <td>41.600000</td>\n",
       "      <td>4.100000</td>\n",
       "      <td>NaN</td>\n",
       "      <td>NaN</td>\n",
       "      <td>1.000000</td>\n",
       "      <td>4.000000</td>\n",
       "      <td>134458.000000</td>\n",
       "      <td>2.000000</td>\n",
       "      <td>NaN</td>\n",
       "      <td>NaN</td>\n",
       "    </tr>\n",
       "    <tr>\n",
       "      <th>25%</th>\n",
       "      <td>2.321345e+09</td>\n",
       "      <td>40.500000</td>\n",
       "      <td>13.500000</td>\n",
       "      <td>5955.0</td>\n",
       "      <td>48.400000</td>\n",
       "      <td>26.150000</td>\n",
       "      <td>NaN</td>\n",
       "      <td>NaN</td>\n",
       "      <td>1.000000</td>\n",
       "      <td>4.000000</td>\n",
       "      <td>235862.000000</td>\n",
       "      <td>7.500000</td>\n",
       "      <td>NaN</td>\n",
       "      <td>NaN</td>\n",
       "    </tr>\n",
       "    <tr>\n",
       "      <th>50%</th>\n",
       "      <td>2.321386e+09</td>\n",
       "      <td>51.000000</td>\n",
       "      <td>29.000000</td>\n",
       "      <td>5955.0</td>\n",
       "      <td>62.100000</td>\n",
       "      <td>38.000000</td>\n",
       "      <td>NaN</td>\n",
       "      <td>NaN</td>\n",
       "      <td>2.000000</td>\n",
       "      <td>7.000000</td>\n",
       "      <td>342838.000000</td>\n",
       "      <td>9.000000</td>\n",
       "      <td>NaN</td>\n",
       "      <td>NaN</td>\n",
       "    </tr>\n",
       "    <tr>\n",
       "      <th>75%</th>\n",
       "      <td>2.321410e+09</td>\n",
       "      <td>63.000000</td>\n",
       "      <td>43.000000</td>\n",
       "      <td>5955.0</td>\n",
       "      <td>67.600000</td>\n",
       "      <td>61.450000</td>\n",
       "      <td>NaN</td>\n",
       "      <td>NaN</td>\n",
       "      <td>2.000000</td>\n",
       "      <td>7.000000</td>\n",
       "      <td>389286.500000</td>\n",
       "      <td>11.000000</td>\n",
       "      <td>NaN</td>\n",
       "      <td>NaN</td>\n",
       "    </tr>\n",
       "    <tr>\n",
       "      <th>max</th>\n",
       "      <td>2.321457e+09</td>\n",
       "      <td>89.000000</td>\n",
       "      <td>55.000000</td>\n",
       "      <td>5955.0</td>\n",
       "      <td>92.400000</td>\n",
       "      <td>94.600000</td>\n",
       "      <td>NaN</td>\n",
       "      <td>NaN</td>\n",
       "      <td>2.000000</td>\n",
       "      <td>8.000000</td>\n",
       "      <td>410051.000000</td>\n",
       "      <td>22.000000</td>\n",
       "      <td>NaN</td>\n",
       "      <td>NaN</td>\n",
       "    </tr>\n",
       "  </tbody>\n",
       "</table>\n",
       "</div>"
      ],
      "text/plain": [
       "                 id     minute     second  teamId          x          y  endX  \\\n",
       "count  2.300000e+01  23.000000  23.000000    23.0  23.000000  23.000000   0.0   \n",
       "mean   2.321382e+09  51.913043  28.391304  5955.0  62.547826  43.786957   NaN   \n",
       "std    4.490183e+04  19.881268  17.432308     0.0  16.101182  26.826739   NaN   \n",
       "min    2.321297e+09  13.000000   0.000000  5955.0  41.600000   4.100000   NaN   \n",
       "25%    2.321345e+09  40.500000  13.500000  5955.0  48.400000  26.150000   NaN   \n",
       "50%    2.321386e+09  51.000000  29.000000  5955.0  62.100000  38.000000   NaN   \n",
       "75%    2.321410e+09  63.000000  43.000000  5955.0  67.600000  61.450000   NaN   \n",
       "max    2.321457e+09  89.000000  55.000000  5955.0  92.400000  94.600000   NaN   \n",
       "\n",
       "       endY  period/value  type/value       playerId     number  xdistance  \\\n",
       "count   0.0     23.000000   23.000000      23.000000  23.000000        0.0   \n",
       "mean    NaN      1.695652    5.956522  306956.608696  10.260870        NaN   \n",
       "std     NaN      0.470472    1.637022  105247.293174   5.658601        NaN   \n",
       "min     NaN      1.000000    4.000000  134458.000000   2.000000        NaN   \n",
       "25%     NaN      1.000000    4.000000  235862.000000   7.500000        NaN   \n",
       "50%     NaN      2.000000    7.000000  342838.000000   9.000000        NaN   \n",
       "75%     NaN      2.000000    7.000000  389286.500000  11.000000        NaN   \n",
       "max     NaN      2.000000    8.000000  410051.000000  22.000000        NaN   \n",
       "\n",
       "       ydistance  \n",
       "count        0.0  \n",
       "mean         NaN  \n",
       "std          NaN  \n",
       "min          NaN  \n",
       "25%          NaN  \n",
       "50%          NaN  \n",
       "75%          NaN  \n",
       "max          NaN  "
      ]
     },
     "execution_count": 70,
     "metadata": {},
     "output_type": "execute_result"
    }
   ],
   "source": [
    "df.describe()"
   ]
  },
  {
   "cell_type": "code",
   "execution_count": 71,
   "id": "f6a0ca07",
   "metadata": {},
   "outputs": [],
   "source": [
    "df['x'] = df['x']*1.2\n",
    "df['endX'] = df['endX']*1.2\n",
    "df['y'] = df['y']*.8\n",
    "df['endY'] = df['endY']*.8"
   ]
  },
  {
   "cell_type": "code",
   "execution_count": 72,
   "id": "008dbc3c",
   "metadata": {},
   "outputs": [
    {
     "data": {
      "image/png": "[encoded data removed]",
      "text/plain": [
       "<Figure size 972x576 with 1 Axes>"
      ]
     },
     "metadata": {},
     "output_type": "display_data"
    }
   ],
   "source": [
    "fig ,ax = plt.subplots(figsize=(13.5,8))\n",
    "fig.set_facecolor('#0B0725')\n",
    "ax.patch.set_facecolor('#0B0725')\n",
    "\n",
    "#pitch\n",
    "pitch = Pitch(pitch_type='statsbomb', orientation='horizontal',\n",
    "              pitch_color='#0B0725', line_color='#B4B6BA', figsize=(13, 8),\n",
    "              constrained_layout=False, tight_layout=True)\n",
    "\n",
    "#Draw the pitch on the ax figure as well as invert the axis\n",
    "pitch.draw(ax=ax)\n",
    "plt.gca().invert_yaxis()\n",
    "\n",
    "\n",
    "plt.axvspan(47, 48,color='red', alpha=.75)\n",
    "plt.axvspan(0, 47,color='red', alpha=.25)\n",
    "\n",
    "\n",
    "\n",
    "\n",
    "\n",
    "plt.xlim(0,120)\n",
    "plt.ylim(0,80)\n",
    "\n",
    "#scatter = pitch.scatter(df1.x, df1.y, ax=ax, facecolor='cornflowerblue',s=100)\n",
    "\n",
    "scatter1 = pitch.scatter(df.x, df.y, ax=ax, facecolor='cornflowerblue',s=100)\n",
    "\n",
    "plt.savefig('ppda.png',dpi=500,bbox_inches = 'tight')"
   ]
  },
  {
   "cell_type": "code",
   "execution_count": null,
   "id": "30154fb4",
   "metadata": {},
   "outputs": [],
   "source": []
  },
  {
   "cell_type": "code",
   "execution_count": null,
   "id": "f3ff7755",
   "metadata": {},
   "outputs": [],
   "source": []
  },
  {
   "cell_type": "code",
   "execution_count": null,
   "id": "b35b5d19",
   "metadata": {},
   "outputs": [],
   "source": []
  },
  {
   "cell_type": "code",
   "execution_count": 45,
   "id": "3c1f4d3a",
   "metadata": {},
   "outputs": [],
   "source": [
    "df = pd.read_csv(r'C:\\Users\\Feele\\Documents\\Data\\Sunderland\\2122\\Home\\Wimbledon.csv')"
   ]
  },
  {
   "cell_type": "code",
   "execution_count": 46,
   "id": "05daaf30",
   "metadata": {},
   "outputs": [],
   "source": [
    "#Change teamId here\n",
    "\n",
    "df1 = df.loc[df['teamId']==16] \n",
    "df2 = df.loc[df['teamId']==16] \n",
    "df3 = df.loc[df['teamId']==16] \n",
    "df4 = df.loc[df['teamId']==16] \n",
    "df5 = df.loc[df['teamId']==16] \n",
    "df6 = df.loc[df['teamId']==16] \n",
    "dfhalf1 = df.loc[df['teamId']==16] \n",
    "dfhalf2 = df.loc[df['teamId']==16] \n"
   ]
  },
  {
   "cell_type": "markdown",
   "id": "25f4f4f8",
   "metadata": {},
   "source": [
    "## Minutes 1 - 90"
   ]
  },
  {
   "cell_type": "code",
   "execution_count": 47,
   "id": "01d31f09",
   "metadata": {},
   "outputs": [],
   "source": [
    "df1 = df1[df1['type/value']==1]     \n",
    "df1 = df1[df1['x']>=40]   \n",
    "df1 = df1[df1['minute']<=15]\n",
    "\n",
    "df2 = df2[df2['type/value']==1]     \n",
    "df2 = df2[df2['x']>=40]   \n",
    "df2 = df2[(df2['minute'] >=16 ) & (df2['minute'] <31)]\n",
    "\n",
    "df3 = df3[df3['type/value']==1]     \n",
    "df3 = df3[df3['x']>=40]   \n",
    "df3 = df3[(df3['minute'] >=31 ) & (df3['minute'] <=46)]\n",
    "df3 = df3[df3['period/value']==1]\n",
    "\n",
    "df4 = df4[df4['type/value']==1]     \n",
    "df4 = df4[df4['x']>=40]   \n",
    "df4 = df4[(df4['minute'] >=45 ) & (df4['minute'] <61)]\n",
    "df4 = df4[df4['period/value']==2] \n",
    "\n",
    "df5 = df5[df5['type/value']==1]     \n",
    "df5 = df5[df5['x']>=40]   \n",
    "df5 = df5[(df5['minute'] >=61 ) & (df5['minute'] <76)]\n",
    "\n",
    "df6 = df6[df6['type/value']==1]     \n",
    "df6 = df6[df6['x']>=40]   \n",
    "df6 = df6[df6['minute']>=76]\n",
    "\n",
    "dfhalf1 = dfhalf1[dfhalf1['type/value']==1]     \n",
    "dfhalf1 = dfhalf1[dfhalf1['x']>=40]   \n",
    "dfhalf1 = dfhalf1[dfhalf1['period/value']==1] \n",
    "\n",
    "dfhalf2 = dfhalf2[dfhalf2['type/value']==1]     \n",
    "dfhalf2 = dfhalf2[dfhalf2['x']>=40]   \n",
    "dfhalf2 = dfhalf2[dfhalf2['period/value']==2] "
   ]
  },
  {
   "cell_type": "code",
   "execution_count": 48,
   "id": "f3bb3b59",
   "metadata": {},
   "outputs": [
    {
     "data": {
      "text/plain": [
       "Pass    45\n",
       "Name: type/displayName, dtype: int64"
      ]
     },
     "execution_count": 48,
     "metadata": {},
     "output_type": "execute_result"
    }
   ],
   "source": [
    "df1['type/displayName'].value_counts(dropna = False)"
   ]
  },
  {
   "cell_type": "code",
   "execution_count": 49,
   "id": "c6cb3f7c",
   "metadata": {},
   "outputs": [
    {
     "data": {
      "text/plain": [
       "Pass    44\n",
       "Name: type/displayName, dtype: int64"
      ]
     },
     "execution_count": 49,
     "metadata": {},
     "output_type": "execute_result"
    }
   ],
   "source": [
    "df2['type/displayName'].value_counts(dropna = False)"
   ]
  },
  {
   "cell_type": "code",
   "execution_count": 50,
   "id": "829c1b34",
   "metadata": {},
   "outputs": [
    {
     "data": {
      "text/plain": [
       "Pass    49\n",
       "Name: type/displayName, dtype: int64"
      ]
     },
     "execution_count": 50,
     "metadata": {},
     "output_type": "execute_result"
    }
   ],
   "source": [
    "df3['type/displayName'].value_counts(dropna = False)"
   ]
  },
  {
   "cell_type": "code",
   "execution_count": 51,
   "id": "8a5c22bb",
   "metadata": {},
   "outputs": [
    {
     "data": {
      "text/plain": [
       "Pass    45\n",
       "Name: type/displayName, dtype: int64"
      ]
     },
     "execution_count": 51,
     "metadata": {},
     "output_type": "execute_result"
    }
   ],
   "source": [
    "df4['type/displayName'].value_counts(dropna = False)"
   ]
  },
  {
   "cell_type": "code",
   "execution_count": 52,
   "id": "279cf3bd",
   "metadata": {},
   "outputs": [
    {
     "data": {
      "text/plain": [
       "Pass    30\n",
       "Name: type/displayName, dtype: int64"
      ]
     },
     "execution_count": 52,
     "metadata": {},
     "output_type": "execute_result"
    }
   ],
   "source": [
    "df5['type/displayName'].value_counts(dropna = False)"
   ]
  },
  {
   "cell_type": "code",
   "execution_count": 53,
   "id": "07593cf3",
   "metadata": {},
   "outputs": [
    {
     "data": {
      "text/plain": [
       "Pass    59\n",
       "Name: type/displayName, dtype: int64"
      ]
     },
     "execution_count": 53,
     "metadata": {},
     "output_type": "execute_result"
    }
   ],
   "source": [
    "df6['type/displayName'].value_counts(dropna = False)"
   ]
  },
  {
   "cell_type": "code",
   "execution_count": 54,
   "id": "8369f7d1",
   "metadata": {},
   "outputs": [
    {
     "data": {
      "text/plain": [
       "Pass    138\n",
       "Name: type/displayName, dtype: int64"
      ]
     },
     "execution_count": 54,
     "metadata": {},
     "output_type": "execute_result"
    }
   ],
   "source": [
    "dfhalf1['type/displayName'].value_counts(dropna = False)"
   ]
  },
  {
   "cell_type": "code",
   "execution_count": 55,
   "id": "1341cc1f",
   "metadata": {},
   "outputs": [
    {
     "data": {
      "text/plain": [
       "Pass    134\n",
       "Name: type/displayName, dtype: int64"
      ]
     },
     "execution_count": 55,
     "metadata": {},
     "output_type": "execute_result"
    }
   ],
   "source": [
    "dfhalf2['type/displayName'].value_counts(dropna = False)"
   ]
  },
  {
   "cell_type": "code",
   "execution_count": 56,
   "id": "9348f384",
   "metadata": {},
   "outputs": [],
   "source": [
    "frames = [df1,df2,df3,df4,df5,df6]\n",
    "df = pd.concat(frames)"
   ]
  },
  {
   "cell_type": "code",
   "execution_count": 57,
   "id": "a0d0225e",
   "metadata": {},
   "outputs": [
    {
     "data": {
      "text/html": [
       "<div>\n",
       "<style scoped>\n",
       "    .dataframe tbody tr th:only-of-type {\n",
       "        vertical-align: middle;\n",
       "    }\n",
       "\n",
       "    .dataframe tbody tr th {\n",
       "        vertical-align: top;\n",
       "    }\n",
       "\n",
       "    .dataframe thead th {\n",
       "        text-align: right;\n",
       "    }\n",
       "</style>\n",
       "<table border=\"1\" class=\"dataframe\">\n",
       "  <thead>\n",
       "    <tr style=\"text-align: right;\">\n",
       "      <th></th>\n",
       "      <th>id</th>\n",
       "      <th>minute</th>\n",
       "      <th>second</th>\n",
       "      <th>teamId</th>\n",
       "      <th>x</th>\n",
       "      <th>y</th>\n",
       "      <th>endX</th>\n",
       "      <th>endY</th>\n",
       "      <th>period/value</th>\n",
       "      <th>type/value</th>\n",
       "      <th>playerId</th>\n",
       "      <th>number</th>\n",
       "      <th>xdistance</th>\n",
       "      <th>ydistance</th>\n",
       "    </tr>\n",
       "  </thead>\n",
       "  <tbody>\n",
       "    <tr>\n",
       "      <th>count</th>\n",
       "      <td>2.720000e+02</td>\n",
       "      <td>272.000000</td>\n",
       "      <td>272.000000</td>\n",
       "      <td>272.0</td>\n",
       "      <td>272.000000</td>\n",
       "      <td>272.000000</td>\n",
       "      <td>272.000000</td>\n",
       "      <td>272.000000</td>\n",
       "      <td>272.000000</td>\n",
       "      <td>272.0</td>\n",
       "      <td>272.000000</td>\n",
       "      <td>272.000000</td>\n",
       "      <td>272.000000</td>\n",
       "      <td>272.000000</td>\n",
       "    </tr>\n",
       "    <tr>\n",
       "      <th>mean</th>\n",
       "      <td>2.321369e+09</td>\n",
       "      <td>47.305147</td>\n",
       "      <td>29.091912</td>\n",
       "      <td>16.0</td>\n",
       "      <td>62.612868</td>\n",
       "      <td>49.745956</td>\n",
       "      <td>65.773897</td>\n",
       "      <td>49.887868</td>\n",
       "      <td>1.492647</td>\n",
       "      <td>1.0</td>\n",
       "      <td>261423.529412</td>\n",
       "      <td>14.731618</td>\n",
       "      <td>11.122059</td>\n",
       "      <td>18.402206</td>\n",
       "    </tr>\n",
       "    <tr>\n",
       "      <th>std</th>\n",
       "      <td>5.975571e+04</td>\n",
       "      <td>27.423404</td>\n",
       "      <td>17.535489</td>\n",
       "      <td>0.0</td>\n",
       "      <td>15.042793</td>\n",
       "      <td>31.738889</td>\n",
       "      <td>18.421833</td>\n",
       "      <td>29.442875</td>\n",
       "      <td>0.500867</td>\n",
       "      <td>0.0</td>\n",
       "      <td>135604.688064</td>\n",
       "      <td>6.991140</td>\n",
       "      <td>8.442955</td>\n",
       "      <td>14.785050</td>\n",
       "    </tr>\n",
       "    <tr>\n",
       "      <th>min</th>\n",
       "      <td>2.321271e+09</td>\n",
       "      <td>0.000000</td>\n",
       "      <td>0.000000</td>\n",
       "      <td>16.0</td>\n",
       "      <td>40.000000</td>\n",
       "      <td>0.000000</td>\n",
       "      <td>23.100000</td>\n",
       "      <td>0.000000</td>\n",
       "      <td>1.000000</td>\n",
       "      <td>1.0</td>\n",
       "      <td>9003.000000</td>\n",
       "      <td>3.000000</td>\n",
       "      <td>0.100000</td>\n",
       "      <td>0.200000</td>\n",
       "    </tr>\n",
       "    <tr>\n",
       "      <th>25%</th>\n",
       "      <td>2.321314e+09</td>\n",
       "      <td>23.000000</td>\n",
       "      <td>14.000000</td>\n",
       "      <td>16.0</td>\n",
       "      <td>49.300000</td>\n",
       "      <td>21.425000</td>\n",
       "      <td>53.275000</td>\n",
       "      <td>24.400000</td>\n",
       "      <td>1.000000</td>\n",
       "      <td>1.0</td>\n",
       "      <td>131474.000000</td>\n",
       "      <td>8.000000</td>\n",
       "      <td>4.700000</td>\n",
       "      <td>8.100000</td>\n",
       "    </tr>\n",
       "    <tr>\n",
       "      <th>50%</th>\n",
       "      <td>2.321357e+09</td>\n",
       "      <td>46.000000</td>\n",
       "      <td>28.000000</td>\n",
       "      <td>16.0</td>\n",
       "      <td>61.800000</td>\n",
       "      <td>51.100000</td>\n",
       "      <td>67.350000</td>\n",
       "      <td>47.950000</td>\n",
       "      <td>1.000000</td>\n",
       "      <td>1.0</td>\n",
       "      <td>332326.000000</td>\n",
       "      <td>14.000000</td>\n",
       "      <td>9.850000</td>\n",
       "      <td>14.250000</td>\n",
       "    </tr>\n",
       "    <tr>\n",
       "      <th>75%</th>\n",
       "      <td>2.321430e+09</td>\n",
       "      <td>74.000000</td>\n",
       "      <td>44.250000</td>\n",
       "      <td>16.0</td>\n",
       "      <td>71.275000</td>\n",
       "      <td>77.675000</td>\n",
       "      <td>79.325000</td>\n",
       "      <td>73.425000</td>\n",
       "      <td>2.000000</td>\n",
       "      <td>1.0</td>\n",
       "      <td>397143.000000</td>\n",
       "      <td>21.000000</td>\n",
       "      <td>15.225000</td>\n",
       "      <td>23.375000</td>\n",
       "    </tr>\n",
       "    <tr>\n",
       "      <th>max</th>\n",
       "      <td>2.321462e+09</td>\n",
       "      <td>93.000000</td>\n",
       "      <td>59.000000</td>\n",
       "      <td>16.0</td>\n",
       "      <td>99.700000</td>\n",
       "      <td>100.000000</td>\n",
       "      <td>100.000000</td>\n",
       "      <td>100.000000</td>\n",
       "      <td>2.000000</td>\n",
       "      <td>1.0</td>\n",
       "      <td>421912.000000</td>\n",
       "      <td>28.000000</td>\n",
       "      <td>45.300000</td>\n",
       "      <td>71.700000</td>\n",
       "    </tr>\n",
       "  </tbody>\n",
       "</table>\n",
       "</div>"
      ],
      "text/plain": [
       "                 id      minute      second  teamId           x           y  \\\n",
       "count  2.720000e+02  272.000000  272.000000   272.0  272.000000  272.000000   \n",
       "mean   2.321369e+09   47.305147   29.091912    16.0   62.612868   49.745956   \n",
       "std    5.975571e+04   27.423404   17.535489     0.0   15.042793   31.738889   \n",
       "min    2.321271e+09    0.000000    0.000000    16.0   40.000000    0.000000   \n",
       "25%    2.321314e+09   23.000000   14.000000    16.0   49.300000   21.425000   \n",
       "50%    2.321357e+09   46.000000   28.000000    16.0   61.800000   51.100000   \n",
       "75%    2.321430e+09   74.000000   44.250000    16.0   71.275000   77.675000   \n",
       "max    2.321462e+09   93.000000   59.000000    16.0   99.700000  100.000000   \n",
       "\n",
       "             endX        endY  period/value  type/value       playerId  \\\n",
       "count  272.000000  272.000000    272.000000       272.0     272.000000   \n",
       "mean    65.773897   49.887868      1.492647         1.0  261423.529412   \n",
       "std     18.421833   29.442875      0.500867         0.0  135604.688064   \n",
       "min     23.100000    0.000000      1.000000         1.0    9003.000000   \n",
       "25%     53.275000   24.400000      1.000000         1.0  131474.000000   \n",
       "50%     67.350000   47.950000      1.000000         1.0  332326.000000   \n",
       "75%     79.325000   73.425000      2.000000         1.0  397143.000000   \n",
       "max    100.000000  100.000000      2.000000         1.0  421912.000000   \n",
       "\n",
       "           number   xdistance   ydistance  \n",
       "count  272.000000  272.000000  272.000000  \n",
       "mean    14.731618   11.122059   18.402206  \n",
       "std      6.991140    8.442955   14.785050  \n",
       "min      3.000000    0.100000    0.200000  \n",
       "25%      8.000000    4.700000    8.100000  \n",
       "50%     14.000000    9.850000   14.250000  \n",
       "75%     21.000000   15.225000   23.375000  \n",
       "max     28.000000   45.300000   71.700000  "
      ]
     },
     "execution_count": 57,
     "metadata": {},
     "output_type": "execute_result"
    }
   ],
   "source": [
    "df.describe()"
   ]
  },
  {
   "cell_type": "code",
   "execution_count": null,
   "id": "1be4e2a5",
   "metadata": {},
   "outputs": [],
   "source": []
  }
 ],
 "metadata": {
  "kernelspec": {
   "display_name": "Python 3",
   "language": "python",
   "name": "python3"
  },
  "language_info": {
   "codemirror_mode": {
    "name": "ipython",
    "version": 3
   },
   "file_extension": ".py",
   "mimetype": "text/x-python",
   "name": "python",
   "nbconvert_exporter": "python",
   "pygments_lexer": "ipython3",
   "version": "3.8.10"
  }
 },
 "nbformat": 4,
 "nbformat_minor": 5
}
