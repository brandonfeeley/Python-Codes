{
 "cells": [
  {
   "cell_type": "code",
   "execution_count": 1,
   "metadata": {},
   "outputs": [],
   "source": [
    "#Imports\n",
    "\n",
    "import pandas as pd\n",
    "import matplotlib.pyplot as plt\n",
    "import matplotlib as mpl\n",
    "from mplsoccer.pitch import Pitch, VerticalPitch"
   ]
  },
  {
   "cell_type": "markdown",
   "metadata": {},
   "source": [
    "# USE FILTER BELOW"
   ]
  },
  {
   "cell_type": "code",
   "execution_count": 13,
   "metadata": {},
   "outputs": [],
   "source": [
    "df = pd.read_csv(r'C:\\Users\\Feele\\Documents\\Data\\Sunderland\\shotfilter.csv')\n",
    "\n"
   ]
  },
  {
   "cell_type": "code",
   "execution_count": 14,
   "metadata": {
    "scrolled": false
   },
   "outputs": [
    {
     "data": {
      "text/html": [
       "<div>\n",
       "<style scoped>\n",
       "    .dataframe tbody tr th:only-of-type {\n",
       "        vertical-align: middle;\n",
       "    }\n",
       "\n",
       "    .dataframe tbody tr th {\n",
       "        vertical-align: top;\n",
       "    }\n",
       "\n",
       "    .dataframe thead th {\n",
       "        text-align: right;\n",
       "    }\n",
       "</style>\n",
       "<table border=\"1\" class=\"dataframe\">\n",
       "  <thead>\n",
       "    <tr style=\"text-align: right;\">\n",
       "      <th></th>\n",
       "      <th>Unnamed: 0</th>\n",
       "      <th>id</th>\n",
       "      <th>minute</th>\n",
       "      <th>second</th>\n",
       "      <th>teamId</th>\n",
       "      <th>x</th>\n",
       "      <th>y</th>\n",
       "      <th>endX</th>\n",
       "      <th>endY</th>\n",
       "      <th>period/value</th>\n",
       "      <th>...</th>\n",
       "      <th>qualifiers/3/type/displayName</th>\n",
       "      <th>qualifiers/4/type/displayName</th>\n",
       "      <th>qualifiers/5/type/displayName</th>\n",
       "      <th>qualifiers/6/type/displayName</th>\n",
       "      <th>qualifiers/7/type/displayName</th>\n",
       "      <th>qualifiers/8/type/displayName</th>\n",
       "      <th>qualifiers/9/type/displayName</th>\n",
       "      <th>qualifiers/10/type/displayName</th>\n",
       "      <th>qualifiers/11/type/displayName</th>\n",
       "      <th>qualifiers/12/type/displayName</th>\n",
       "    </tr>\n",
       "  </thead>\n",
       "  <tbody>\n",
       "    <tr>\n",
       "      <th>0</th>\n",
       "      <td>161</td>\n",
       "      <td>2321288731</td>\n",
       "      <td>9</td>\n",
       "      <td>32.0</td>\n",
       "      <td>5955</td>\n",
       "      <td>86.5</td>\n",
       "      <td>60.5</td>\n",
       "      <td>NaN</td>\n",
       "      <td>NaN</td>\n",
       "      <td>1</td>\n",
       "      <td>...</td>\n",
       "      <td>RightFoot</td>\n",
       "      <td>BoxCentre</td>\n",
       "      <td>GoalMouthZ</td>\n",
       "      <td>NaN</td>\n",
       "      <td>NaN</td>\n",
       "      <td>NaN</td>\n",
       "      <td>NaN</td>\n",
       "      <td>NaN</td>\n",
       "      <td>NaN</td>\n",
       "      <td>NaN</td>\n",
       "    </tr>\n",
       "    <tr>\n",
       "      <th>1</th>\n",
       "      <td>922</td>\n",
       "      <td>2321391075</td>\n",
       "      <td>54</td>\n",
       "      <td>9.0</td>\n",
       "      <td>5955</td>\n",
       "      <td>73.0</td>\n",
       "      <td>46.6</td>\n",
       "      <td>NaN</td>\n",
       "      <td>NaN</td>\n",
       "      <td>2</td>\n",
       "      <td>...</td>\n",
       "      <td>OutOfBoxCentre</td>\n",
       "      <td>LowCentre</td>\n",
       "      <td>Blocked</td>\n",
       "      <td>OppositeRelatedEvent</td>\n",
       "      <td>GoalMouthZ</td>\n",
       "      <td>Zone</td>\n",
       "      <td>RegularPlay</td>\n",
       "      <td>GoalMouthY</td>\n",
       "      <td>NaN</td>\n",
       "      <td>NaN</td>\n",
       "    </tr>\n",
       "    <tr>\n",
       "      <th>2</th>\n",
       "      <td>1260</td>\n",
       "      <td>2321437879</td>\n",
       "      <td>78</td>\n",
       "      <td>58.0</td>\n",
       "      <td>5955</td>\n",
       "      <td>95.1</td>\n",
       "      <td>61.7</td>\n",
       "      <td>NaN</td>\n",
       "      <td>NaN</td>\n",
       "      <td>2</td>\n",
       "      <td>...</td>\n",
       "      <td>FromCorner</td>\n",
       "      <td>Zone</td>\n",
       "      <td>Head</td>\n",
       "      <td>NaN</td>\n",
       "      <td>NaN</td>\n",
       "      <td>NaN</td>\n",
       "      <td>NaN</td>\n",
       "      <td>NaN</td>\n",
       "      <td>NaN</td>\n",
       "      <td>NaN</td>\n",
       "    </tr>\n",
       "    <tr>\n",
       "      <th>3</th>\n",
       "      <td>1499</td>\n",
       "      <td>2321461497</td>\n",
       "      <td>92</td>\n",
       "      <td>49.0</td>\n",
       "      <td>5955</td>\n",
       "      <td>87.2</td>\n",
       "      <td>50.3</td>\n",
       "      <td>NaN</td>\n",
       "      <td>NaN</td>\n",
       "      <td>2</td>\n",
       "      <td>...</td>\n",
       "      <td>GoalMouthZ</td>\n",
       "      <td>RegularPlay</td>\n",
       "      <td>IntentionalAssist</td>\n",
       "      <td>LowLeft</td>\n",
       "      <td>RelatedEventId</td>\n",
       "      <td>Head</td>\n",
       "      <td>BlockedX</td>\n",
       "      <td>OppositeRelatedEvent</td>\n",
       "      <td>Zone</td>\n",
       "      <td>BoxCentre</td>\n",
       "    </tr>\n",
       "  </tbody>\n",
       "</table>\n",
       "<p>4 rows × 31 columns</p>\n",
       "</div>"
      ],
      "text/plain": [
       "   Unnamed: 0          id  minute  second  teamId     x     y  endX  endY  \\\n",
       "0         161  2321288731       9    32.0    5955  86.5  60.5   NaN   NaN   \n",
       "1         922  2321391075      54     9.0    5955  73.0  46.6   NaN   NaN   \n",
       "2        1260  2321437879      78    58.0    5955  95.1  61.7   NaN   NaN   \n",
       "3        1499  2321461497      92    49.0    5955  87.2  50.3   NaN   NaN   \n",
       "\n",
       "   period/value  ...  qualifiers/3/type/displayName  \\\n",
       "0             1  ...                      RightFoot   \n",
       "1             2  ...                 OutOfBoxCentre   \n",
       "2             2  ...                     FromCorner   \n",
       "3             2  ...                     GoalMouthZ   \n",
       "\n",
       "  qualifiers/4/type/displayName qualifiers/5/type/displayName  \\\n",
       "0                     BoxCentre                    GoalMouthZ   \n",
       "1                     LowCentre                       Blocked   \n",
       "2                          Zone                          Head   \n",
       "3                   RegularPlay             IntentionalAssist   \n",
       "\n",
       "   qualifiers/6/type/displayName  qualifiers/7/type/displayName  \\\n",
       "0                            NaN                            NaN   \n",
       "1           OppositeRelatedEvent                     GoalMouthZ   \n",
       "2                            NaN                            NaN   \n",
       "3                        LowLeft                 RelatedEventId   \n",
       "\n",
       "  qualifiers/8/type/displayName  qualifiers/9/type/displayName  \\\n",
       "0                           NaN                            NaN   \n",
       "1                          Zone                    RegularPlay   \n",
       "2                           NaN                            NaN   \n",
       "3                          Head                       BlockedX   \n",
       "\n",
       "   qualifiers/10/type/displayName qualifiers/11/type/displayName  \\\n",
       "0                             NaN                            NaN   \n",
       "1                      GoalMouthY                            NaN   \n",
       "2                             NaN                            NaN   \n",
       "3            OppositeRelatedEvent                           Zone   \n",
       "\n",
       "  qualifiers/12/type/displayName  \n",
       "0                            NaN  \n",
       "1                            NaN  \n",
       "2                            NaN  \n",
       "3                      BoxCentre  \n",
       "\n",
       "[4 rows x 31 columns]"
      ]
     },
     "execution_count": 14,
     "metadata": {},
     "output_type": "execute_result"
    }
   ],
   "source": [
    "df"
   ]
  },
  {
   "cell_type": "code",
   "execution_count": 15,
   "metadata": {},
   "outputs": [],
   "source": [
    "# Inflating X and Y to pitch size\n",
    "\n",
    "df['x'] = df['x']*1.2\n",
    "df['y'] = df['y']*.8"
   ]
  },
  {
   "cell_type": "markdown",
   "metadata": {},
   "source": [
    "#### Light Pitch \n",
    "\n",
    "Background - #FFFFFF\n",
    "lines - #B4B6BA\n",
    "\n",
    "#### Dark Pitch\n",
    "\n",
    "Background - #1B1B1B\n",
    "lines - #c7d5cc\n",
    "\n",
    "#### Blue Pitch (Primary colour)\n",
    "Background - #0B0725\n",
    "lines - #B4B6BA"
   ]
  },
  {
   "cell_type": "code",
   "execution_count": 16,
   "metadata": {},
   "outputs": [
    {
     "data": {
      "image/png": "[encoded data removed]",
      "text/plain": [
       "<Figure size 936x612 with 1 Axes>"
      ]
     },
     "metadata": {},
     "output_type": "display_data"
    }
   ],
   "source": [
    "\n",
    "fig,ax = plt.subplots(figsize=(13,8.5))\n",
    "fig.set_facecolor('#0B0725')\n",
    "ax.patch.set_facecolor('#0B0725')\n",
    "\n",
    "# Setup the pitch\n",
    "pitch = Pitch(pitch_type='statsbomb', orientation='horizontal', half=True, \n",
    "              pitch_color='#0B0725', line_color='#B4B6BA', figsize=(13, 8),\n",
    "              constrained_layout=True, tight_layout=False)\n",
    "\n",
    "\n",
    "pitch.draw(ax=ax)\n",
    "plt.gca().invert_yaxis()\n",
    "\n",
    "\n",
    "for x in range(len(df['x'])):\n",
    "        \n",
    "      if df['type/displayName'][x] == 'MissedShots':\n",
    "        plt.scatter(df['x'][x],df['y'][x], c='#D70232',s=200)\n",
    "        \n",
    "      if df['type/displayName'][x] == 'SavedShot':\n",
    "        plt.scatter(df['x'][x],df['y'][x], c='#1A78CF',s=200)\n",
    "        \n",
    "      if df['type/displayName'][x] == 'ShotOnPost':\n",
    "        plt.scatter(df['x'][x],df['y'][x], c='#FF9300',s=200)\n",
    "        \n",
    "      if df['type/displayName'][x] == 'Goal':\n",
    "        plt.scatter(df['x'][x],df['y'][x], c='#00B050',s=200)  \n",
    "\n",
    "        \n",
    "#plt.axhspan(40.25, 80,color='#3e27cf', alpha=.25)\n",
    "#plt.axhspan(40, 40.25,color='#B4B6BA', alpha=1)\n",
    "\n",
    "#plt.xlim(60,120)\n",
    "#plt.ylim(0,80)\n",
    "\n",
    "plt.savefig('test.png',dpi=500,bbox_inches = 'tight') "
   ]
  },
  {
   "cell_type": "code",
   "execution_count": 27,
   "metadata": {},
   "outputs": [
    {
     "data": {
      "image/png": "[encoded data removed]",
      "text/plain": [
       "<Figure size 432x288 with 1 Axes>"
      ]
     },
     "metadata": {},
     "output_type": "display_data"
    }
   ],
   "source": [
    "pitch = Pitch(positional=True, shade_middle=True, positional_color='#eadddd', shade_color='#f2f2f2')\n",
    "fig, ax = pitch.draw()"
   ]
  },
  {
   "cell_type": "code",
   "execution_count": 12,
   "metadata": {},
   "outputs": [
    {
     "data": {
      "image/png": "[encoded data removed]",
      "text/plain": [
       "<Figure size 936x576 with 1 Axes>"
      ]
     },
     "metadata": {},
     "output_type": "display_data"
    }
   ],
   "source": [
    "fig,ax = plt.subplots(figsize=(13,8))\n",
    "fig.set_facecolor('#0B0725')\n",
    "ax.patch.set_facecolor('#0B0725')\n",
    "\n",
    "# Setup the pitch\n",
    "pitch = Pitch(pitch_type='statsbomb', orientation='horizontal', positional=True, \n",
    "              shade_middle=True, positional_color='#eadddd', shade_color='#100369',\n",
    "              pitch_color='#0B0725', line_color='#B4B6BA', figsize=(13, 8),\n",
    "              constrained_layout=True, tight_layout=False)\n",
    "\n",
    "\n",
    "pitch.draw(ax=ax)\n",
    "plt.gca().invert_yaxis()\n",
    "\n"
   ]
  },
  {
   "cell_type": "code",
   "execution_count": null,
   "metadata": {},
   "outputs": [],
   "source": []
  }
 ],
 "metadata": {
  "kernelspec": {
   "display_name": "Python 3",
   "language": "python",
   "name": "python3"
  },
  "language_info": {
   "codemirror_mode": {
    "name": "ipython",
    "version": 3
   },
   "file_extension": ".py",
   "mimetype": "text/x-python",
   "name": "python",
   "nbconvert_exporter": "python",
   "pygments_lexer": "ipython3",
   "version": "3.8.10"
  }
 },
 "nbformat": 4,
 "nbformat_minor": 4
}
