{
 "cells": [
  {
   "cell_type": "code",
   "execution_count": 52,
   "metadata": {},
   "outputs": [],
   "source": [
    "#Imports\n",
    "\n",
    "import pandas as pd\n",
    "import matplotlib.pyplot as plt\n",
    "from mplsoccer.pitch import Pitch,VerticalPitch\n",
    "import seaborn as sns\n"
   ]
  },
  {
   "cell_type": "code",
   "execution_count": 53,
   "metadata": {},
   "outputs": [],
   "source": [
    "df = pd.read_csv(r'C:\\Users\\Feele\\Documents\\Data\\Sunderland\\heatfilter.csv')"
   ]
  },
  {
   "cell_type": "code",
   "execution_count": 54,
   "metadata": {
    "scrolled": false
   },
   "outputs": [
    {
     "data": {
      "text/html": [
       "<div>\n",
       "<style scoped>\n",
       "    .dataframe tbody tr th:only-of-type {\n",
       "        vertical-align: middle;\n",
       "    }\n",
       "\n",
       "    .dataframe tbody tr th {\n",
       "        vertical-align: top;\n",
       "    }\n",
       "\n",
       "    .dataframe thead th {\n",
       "        text-align: right;\n",
       "    }\n",
       "</style>\n",
       "<table border=\"1\" class=\"dataframe\">\n",
       "  <thead>\n",
       "    <tr style=\"text-align: right;\">\n",
       "      <th></th>\n",
       "      <th>Unnamed: 0</th>\n",
       "      <th>id</th>\n",
       "      <th>minute</th>\n",
       "      <th>second</th>\n",
       "      <th>teamId</th>\n",
       "      <th>x</th>\n",
       "      <th>y</th>\n",
       "      <th>endX</th>\n",
       "      <th>endY</th>\n",
       "      <th>period/value</th>\n",
       "      <th>...</th>\n",
       "      <th>qualifiers/4/type/displayName</th>\n",
       "      <th>qualifiers/5/type/displayName</th>\n",
       "      <th>qualifiers/6/type/displayName</th>\n",
       "      <th>qualifiers/7/type/displayName</th>\n",
       "      <th>qualifiers/8/type/displayName</th>\n",
       "      <th>qualifiers/9/type/displayName</th>\n",
       "      <th>qualifiers/10/type/displayName</th>\n",
       "      <th>qualifiers/11/type/displayName</th>\n",
       "      <th>qualifiers/12/type/displayName</th>\n",
       "      <th>qualifiers/13/type/displayName</th>\n",
       "    </tr>\n",
       "  </thead>\n",
       "  <tbody>\n",
       "    <tr>\n",
       "      <th>0</th>\n",
       "      <td>2</td>\n",
       "      <td>2393044241</td>\n",
       "      <td>0</td>\n",
       "      <td>6.0</td>\n",
       "      <td>16</td>\n",
       "      <td>22.6</td>\n",
       "      <td>46.4</td>\n",
       "      <td>45.5</td>\n",
       "      <td>49.9</td>\n",
       "      <td>1</td>\n",
       "      <td>...</td>\n",
       "      <td>Length</td>\n",
       "      <td>HeadPass</td>\n",
       "      <td>NaN</td>\n",
       "      <td>NaN</td>\n",
       "      <td>NaN</td>\n",
       "      <td>NaN</td>\n",
       "      <td>NaN</td>\n",
       "      <td>NaN</td>\n",
       "      <td>NaN</td>\n",
       "      <td>NaN</td>\n",
       "    </tr>\n",
       "    <tr>\n",
       "      <th>1</th>\n",
       "      <td>4</td>\n",
       "      <td>2393044325</td>\n",
       "      <td>0</td>\n",
       "      <td>12.0</td>\n",
       "      <td>16</td>\n",
       "      <td>29.1</td>\n",
       "      <td>64.8</td>\n",
       "      <td>40.7</td>\n",
       "      <td>67.8</td>\n",
       "      <td>1</td>\n",
       "      <td>...</td>\n",
       "      <td>PassEndX</td>\n",
       "      <td>HeadPass</td>\n",
       "      <td>NaN</td>\n",
       "      <td>NaN</td>\n",
       "      <td>NaN</td>\n",
       "      <td>NaN</td>\n",
       "      <td>NaN</td>\n",
       "      <td>NaN</td>\n",
       "      <td>NaN</td>\n",
       "      <td>NaN</td>\n",
       "    </tr>\n",
       "    <tr>\n",
       "      <th>2</th>\n",
       "      <td>6</td>\n",
       "      <td>2393044433</td>\n",
       "      <td>0</td>\n",
       "      <td>14.0</td>\n",
       "      <td>16</td>\n",
       "      <td>29.1</td>\n",
       "      <td>71.8</td>\n",
       "      <td>40.4</td>\n",
       "      <td>72.3</td>\n",
       "      <td>1</td>\n",
       "      <td>...</td>\n",
       "      <td>PassEndX</td>\n",
       "      <td>Zone</td>\n",
       "      <td>NaN</td>\n",
       "      <td>NaN</td>\n",
       "      <td>NaN</td>\n",
       "      <td>NaN</td>\n",
       "      <td>NaN</td>\n",
       "      <td>NaN</td>\n",
       "      <td>NaN</td>\n",
       "      <td>NaN</td>\n",
       "    </tr>\n",
       "    <tr>\n",
       "      <th>3</th>\n",
       "      <td>7</td>\n",
       "      <td>2393044443</td>\n",
       "      <td>0</td>\n",
       "      <td>16.0</td>\n",
       "      <td>16</td>\n",
       "      <td>40.4</td>\n",
       "      <td>72.3</td>\n",
       "      <td>NaN</td>\n",
       "      <td>NaN</td>\n",
       "      <td>1</td>\n",
       "      <td>...</td>\n",
       "      <td>NaN</td>\n",
       "      <td>NaN</td>\n",
       "      <td>NaN</td>\n",
       "      <td>NaN</td>\n",
       "      <td>NaN</td>\n",
       "      <td>NaN</td>\n",
       "      <td>NaN</td>\n",
       "      <td>NaN</td>\n",
       "      <td>NaN</td>\n",
       "      <td>NaN</td>\n",
       "    </tr>\n",
       "    <tr>\n",
       "      <th>4</th>\n",
       "      <td>9</td>\n",
       "      <td>2393044535</td>\n",
       "      <td>0</td>\n",
       "      <td>20.0</td>\n",
       "      <td>16</td>\n",
       "      <td>10.4</td>\n",
       "      <td>59.7</td>\n",
       "      <td>NaN</td>\n",
       "      <td>NaN</td>\n",
       "      <td>1</td>\n",
       "      <td>...</td>\n",
       "      <td>NaN</td>\n",
       "      <td>NaN</td>\n",
       "      <td>NaN</td>\n",
       "      <td>NaN</td>\n",
       "      <td>NaN</td>\n",
       "      <td>NaN</td>\n",
       "      <td>NaN</td>\n",
       "      <td>NaN</td>\n",
       "      <td>NaN</td>\n",
       "      <td>NaN</td>\n",
       "    </tr>\n",
       "  </tbody>\n",
       "</table>\n",
       "<p>5 rows × 30 columns</p>\n",
       "</div>"
      ],
      "text/plain": [
       "   Unnamed: 0          id  minute  second  teamId     x     y  endX  endY  \\\n",
       "0           2  2393044241       0     6.0      16  22.6  46.4  45.5  49.9   \n",
       "1           4  2393044325       0    12.0      16  29.1  64.8  40.7  67.8   \n",
       "2           6  2393044433       0    14.0      16  29.1  71.8  40.4  72.3   \n",
       "3           7  2393044443       0    16.0      16  40.4  72.3   NaN   NaN   \n",
       "4           9  2393044535       0    20.0      16  10.4  59.7   NaN   NaN   \n",
       "\n",
       "   period/value  ... qualifiers/4/type/displayName  \\\n",
       "0             1  ...                        Length   \n",
       "1             1  ...                      PassEndX   \n",
       "2             1  ...                      PassEndX   \n",
       "3             1  ...                           NaN   \n",
       "4             1  ...                           NaN   \n",
       "\n",
       "  qualifiers/5/type/displayName qualifiers/6/type/displayName  \\\n",
       "0                      HeadPass                           NaN   \n",
       "1                      HeadPass                           NaN   \n",
       "2                          Zone                           NaN   \n",
       "3                           NaN                           NaN   \n",
       "4                           NaN                           NaN   \n",
       "\n",
       "   qualifiers/7/type/displayName  qualifiers/8/type/displayName  \\\n",
       "0                            NaN                            NaN   \n",
       "1                            NaN                            NaN   \n",
       "2                            NaN                            NaN   \n",
       "3                            NaN                            NaN   \n",
       "4                            NaN                            NaN   \n",
       "\n",
       "  qualifiers/9/type/displayName qualifiers/10/type/displayName  \\\n",
       "0                           NaN                            NaN   \n",
       "1                           NaN                            NaN   \n",
       "2                           NaN                            NaN   \n",
       "3                           NaN                            NaN   \n",
       "4                           NaN                            NaN   \n",
       "\n",
       "  qualifiers/11/type/displayName qualifiers/12/type/displayName  \\\n",
       "0                            NaN                            NaN   \n",
       "1                            NaN                            NaN   \n",
       "2                            NaN                            NaN   \n",
       "3                            NaN                            NaN   \n",
       "4                            NaN                            NaN   \n",
       "\n",
       "  qualifiers/13/type/displayName  \n",
       "0                            NaN  \n",
       "1                            NaN  \n",
       "2                            NaN  \n",
       "3                            NaN  \n",
       "4                            NaN  \n",
       "\n",
       "[5 rows x 30 columns]"
      ]
     },
     "execution_count": 54,
     "metadata": {},
     "output_type": "execute_result"
    }
   ],
   "source": [
    "df.head()"
   ]
  },
  {
   "cell_type": "code",
   "execution_count": 55,
   "metadata": {
    "scrolled": true
   },
   "outputs": [
    {
     "data": {
      "text/plain": [
       "Wright        114\n",
       "Cirkin         90\n",
       "Clarke         79\n",
       "Matete         69\n",
       "Winchester     69\n",
       "Evans          69\n",
       "Patterson      48\n",
       "ONien          41\n",
       "Stewart        39\n",
       "Gooch          35\n",
       "Neil           29\n",
       "Dajaku         25\n",
       "Roberts        24\n",
       "Defoe          13\n",
       "Name: name, dtype: int64"
      ]
     },
     "execution_count": 55,
     "metadata": {},
     "output_type": "execute_result"
    }
   ],
   "source": [
    "df['name'].value_counts(dropna = False)"
   ]
  },
  {
   "cell_type": "code",
   "execution_count": 56,
   "metadata": {},
   "outputs": [],
   "source": [
    "df = df[df['name']=='Wright']\n",
    "\n",
    "#df = df[df['name'].isin(['Cirkin','Flanagan','Doyle','Wright','Winchester'])]"
   ]
  },
  {
   "cell_type": "code",
   "execution_count": 57,
   "metadata": {},
   "outputs": [],
   "source": [
    "# Inflating X and Y to pitchsize\n",
    "\n",
    "df['x'] = df['x']*1.2\n",
    "df['endX'] = df['endX']*1.2\n",
    "df['y'] = df['y']*.8\n",
    "df['endY'] = df['endY']*.8"
   ]
  },
  {
   "cell_type": "code",
   "execution_count": 58,
   "metadata": {},
   "outputs": [],
   "source": [
    "df1 = df[df['minute']<=15] \n",
    "df2 = df[(df['minute'] >=16 ) & (df['minute'] <31)] \n",
    "df3 = df[(df['minute'] >=31 ) & (df['minute'] <46)] \n",
    "df4 = df[(df['minute'] >=46 ) & (df['minute'] <61)] \n",
    "df5 = df[(df['minute'] >=61 ) & (df['minute'] <76)] \n",
    "df6 = df[df['minute']>=76]\n",
    "df7 = df[df['period/value']==1] \n",
    "df8 = df[df['period/value']==2]\n"
   ]
  },
  {
   "cell_type": "markdown",
   "metadata": {},
   "source": [
    "### Colour chat for heat map "
   ]
  },
  {
   "cell_type": "markdown",
   "metadata": {},
   "source": [
    "https://matplotlib.org/3.1.0/tutorials/colors/colormaps.html"
   ]
  },
  {
   "cell_type": "code",
   "execution_count": 59,
   "metadata": {},
   "outputs": [],
   "source": [
    "pitch = Pitch(pitch_type='statsbomb',\n",
    "              line_color='black',\n",
    "              pitch_color='white')"
   ]
  },
  {
   "cell_type": "code",
   "execution_count": 60,
   "metadata": {},
   "outputs": [],
   "source": [
    "font1 = {'family':'Consolas','color':'black','size':24}"
   ]
  },
  {
   "cell_type": "code",
   "execution_count": 62,
   "metadata": {},
   "outputs": [
    {
     "name": "stderr",
     "output_type": "stream",
     "text": [
      "C:\\Users\\Feele\\Documents\\Analytics\\Python\\lib\\site-packages\\seaborn\\_decorators.py:36: FutureWarning: Pass the following variable as a keyword arg: y. From version 0.12, the only valid positional argument will be `data`, and passing other arguments without an explicit keyword will result in an error or misinterpretation.\n",
      "  warnings.warn(\n"
     ]
    },
    {
     "data": {
      "image/png": "[encoded data removed]",
      "text/plain": [
       "<Figure size 1152x576 with 1 Axes>"
      ]
     },
     "metadata": {},
     "output_type": "display_data"
    }
   ],
   "source": [
    "fig,ax = pitch.draw(figsize=(16,8))\n",
    "plt.gca().invert_yaxis()\n",
    "\n",
    "\n",
    "##### HEAT MAP ADDITION ####\n",
    "\n",
    "kde = sns.kdeplot(\n",
    "        df['endX'],\n",
    "        df['endY'],\n",
    "        shade =True,\n",
    "        thresh=.3,\n",
    "        alpha=.75,\n",
    "        n_levels=7,\n",
    "        cmap = 'YlOrRd',\n",
    "        #cbar = 'True'\n",
    ")\n",
    "\n",
    "#Limited Heat Map to edges\n",
    "plt.xlim(0,120)\n",
    "plt.ylim(0,80) \n",
    "\n",
    "plt.title(\"Dennis Cirkin Heat Map - Starting Location\",fontdict = font1) # Title\n",
    "\n",
    "\n",
    "line1 = 'Minutes Played 1 - 90'\n",
    "\n",
    "#fig.text(.425,.925,\"Minutes Played 1 - 90\",font='Consolas',fontsize=12, color=\"black\")\n",
    "fig.text(.15,0,\"@BrandonFeeley97 / data via whoscored.com. Minutes 1 - 90\", font='Consolas')\n",
    "\n",
    "plt.savefig('heat1.png',dpi=500) "
   ]
  },
  {
   "cell_type": "code",
   "execution_count": null,
   "metadata": {},
   "outputs": [],
   "source": []
  },
  {
   "cell_type": "code",
   "execution_count": null,
   "metadata": {},
   "outputs": [],
   "source": []
  }
 ],
 "metadata": {
  "kernelspec": {
   "display_name": "Python 3",
   "language": "python",
   "name": "python3"
  },
  "language_info": {
   "codemirror_mode": {
    "name": "ipython",
    "version": 3
   },
   "file_extension": ".py",
   "mimetype": "text/x-python",
   "name": "python",
   "nbconvert_exporter": "python",
   "pygments_lexer": "ipython3",
   "version": "3.8.10"
  }
 },
 "nbformat": 4,
 "nbformat_minor": 4
}
