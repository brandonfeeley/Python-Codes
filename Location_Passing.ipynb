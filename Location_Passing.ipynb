{
 "cells": [
  {
   "cell_type": "code",
   "execution_count": 29,
   "metadata": {},
   "outputs": [],
   "source": [
    "import numpy as np\n",
    "import pandas as pd\n",
    "import matplotlib as mpl\n",
    "import math\n",
    "import matplotlib.pyplot as plt\n",
    "\n",
    "from mplsoccer import Pitch, VerticalPitch\n",
    "from matplotlib.colors import to_rgba\n",
    "from mplsoccer.statsbomb import read_event, EVENT_SLUG\n",
    "from matplotlib import cm\n",
    "from matplotlib import colorbar\n",
    "from matplotlib.colors import LinearSegmentedColormap\n",
    "from highlight_text import fig_text\n"
   ]
  },
  {
   "cell_type": "code",
   "execution_count": 60,
   "metadata": {},
   "outputs": [],
   "source": [
    "df = pd.read_csv(r'C:\\Users\\Feele\\Documents\\Data\\Sunderland\\locationfilter.csv')\n"
   ]
  },
  {
   "cell_type": "markdown",
   "metadata": {},
   "source": [
    "# PLAYER ID "
   ]
  },
  {
   "cell_type": "code",
   "execution_count": 61,
   "metadata": {},
   "outputs": [
    {
     "name": "stderr",
     "output_type": "stream",
     "text": [
      "C:\\Users\\Feele\\Documents\\Analytics\\Python\\lib\\site-packages\\pandas\\core\\frame.py:3607: SettingWithCopyWarning: \n",
      "A value is trying to be set on a copy of a slice from a DataFrame.\n",
      "Try using .loc[row_indexer,col_indexer] = value instead\n",
      "\n",
      "See the caveats in the documentation: https://pandas.pydata.org/pandas-docs/stable/user_guide/indexing.html#returning-a-view-versus-a-copy\n",
      "  self._set_item(key, value)\n"
     ]
    }
   ],
   "source": [
    "#Make a new, single column for time and sort the events in chronological order\n",
    "\n",
    "df.sort_values(by=['minute'])\n",
    "\n",
    "#identify the passer and then the recipient, who'll be the playerId of the next action\n",
    "\n",
    "\n",
    "df['passer'] = df['number'] # change to 'number' for nodes with numbers. Use 'playerId' if not.\n",
    "\n",
    "df['recipient'] = df['passer'].shift(-1)\n",
    "\n",
    "#filter for only passes and then successful passes\n",
    "Passes = df.loc[(df['type/displayName']==\"Pass\")]\n",
    "\n",
    "\n",
    "Completions = Passes.loc[(Passes['outcomeType/displayName']==\"Successful\")]\n",
    "\n",
    "pas = pd.to_numeric(Completions['passer'],downcast='integer')\n",
    "rec = pd.to_numeric(Completions['recipient'],downcast='integer')\n",
    "\n",
    "Completions['passer'] = pas\n",
    "Completions['recipient'] = rec"
   ]
  },
  {
   "cell_type": "code",
   "execution_count": 62,
   "metadata": {
    "scrolled": true
   },
   "outputs": [
    {
     "data": {
      "text/plain": [
       "495    60\n",
       "551    69\n",
       "600    77\n",
       "Name: minute, dtype: int64"
      ]
     },
     "execution_count": 62,
     "metadata": {},
     "output_type": "execute_result"
    }
   ],
   "source": [
    "#find time of the team's first substitution and filter the df to only passes before that\n",
    "Subs = df.loc[(df['type/displayName']==\"SubstitutionOff\")]\n",
    "SubTimes = Subs[\"minute\"]\n",
    "SubOne = SubTimes.min()\n",
    "\n",
    "\n",
    "SubTimes\n",
    "#SubOne"
   ]
  },
  {
   "cell_type": "code",
   "execution_count": 63,
   "metadata": {},
   "outputs": [],
   "source": [
    "# SKIP to the below if there is no subs to be made within the Data\n",
    "\n",
    "Completions = Completions.loc[Completions['minute'] < SubOne]"
   ]
  },
  {
   "cell_type": "code",
   "execution_count": 64,
   "metadata": {},
   "outputs": [],
   "source": [
    "#Find Average Locations \n",
    "average_locs_and_count = Completions.groupby('passer').agg({'x': ['mean'], 'y': ['mean','count']})\n",
    "average_locs_and_count.columns = ['x', 'y', 'count']"
   ]
  },
  {
   "cell_type": "code",
   "execution_count": 65,
   "metadata": {
    "scrolled": true
   },
   "outputs": [
    {
     "data": {
      "text/html": [
       "<div>\n",
       "<style scoped>\n",
       "    .dataframe tbody tr th:only-of-type {\n",
       "        vertical-align: middle;\n",
       "    }\n",
       "\n",
       "    .dataframe tbody tr th {\n",
       "        vertical-align: top;\n",
       "    }\n",
       "\n",
       "    .dataframe thead th {\n",
       "        text-align: right;\n",
       "    }\n",
       "</style>\n",
       "<table border=\"1\" class=\"dataframe\">\n",
       "  <thead>\n",
       "    <tr style=\"text-align: right;\">\n",
       "      <th></th>\n",
       "      <th>x</th>\n",
       "      <th>y</th>\n",
       "      <th>count</th>\n",
       "    </tr>\n",
       "    <tr>\n",
       "      <th>passer</th>\n",
       "      <th></th>\n",
       "      <th></th>\n",
       "      <th></th>\n",
       "    </tr>\n",
       "  </thead>\n",
       "  <tbody>\n",
       "    <tr>\n",
       "      <th>1</th>\n",
       "      <td>15.095455</td>\n",
       "      <td>50.013636</td>\n",
       "      <td>22</td>\n",
       "    </tr>\n",
       "    <tr>\n",
       "      <th>2</th>\n",
       "      <td>51.826923</td>\n",
       "      <td>12.257692</td>\n",
       "      <td>26</td>\n",
       "    </tr>\n",
       "    <tr>\n",
       "      <th>4</th>\n",
       "      <td>49.082353</td>\n",
       "      <td>38.817647</td>\n",
       "      <td>34</td>\n",
       "    </tr>\n",
       "    <tr>\n",
       "      <th>5</th>\n",
       "      <td>33.202632</td>\n",
       "      <td>74.868421</td>\n",
       "      <td>38</td>\n",
       "    </tr>\n",
       "    <tr>\n",
       "      <th>7</th>\n",
       "      <td>48.076923</td>\n",
       "      <td>89.276923</td>\n",
       "      <td>26</td>\n",
       "    </tr>\n",
       "    <tr>\n",
       "      <th>8</th>\n",
       "      <td>49.717949</td>\n",
       "      <td>57.776923</td>\n",
       "      <td>39</td>\n",
       "    </tr>\n",
       "    <tr>\n",
       "      <th>9</th>\n",
       "      <td>62.650000</td>\n",
       "      <td>36.600000</td>\n",
       "      <td>2</td>\n",
       "    </tr>\n",
       "    <tr>\n",
       "      <th>10</th>\n",
       "      <td>62.809091</td>\n",
       "      <td>46.000000</td>\n",
       "      <td>11</td>\n",
       "    </tr>\n",
       "    <tr>\n",
       "      <th>11</th>\n",
       "      <td>57.337500</td>\n",
       "      <td>56.012500</td>\n",
       "      <td>8</td>\n",
       "    </tr>\n",
       "    <tr>\n",
       "      <th>21</th>\n",
       "      <td>60.494444</td>\n",
       "      <td>44.300000</td>\n",
       "      <td>18</td>\n",
       "    </tr>\n",
       "    <tr>\n",
       "      <th>22</th>\n",
       "      <td>36.625000</td>\n",
       "      <td>29.550000</td>\n",
       "      <td>24</td>\n",
       "    </tr>\n",
       "  </tbody>\n",
       "</table>\n",
       "</div>"
      ],
      "text/plain": [
       "                x          y  count\n",
       "passer                             \n",
       "1       15.095455  50.013636     22\n",
       "2       51.826923  12.257692     26\n",
       "4       49.082353  38.817647     34\n",
       "5       33.202632  74.868421     38\n",
       "7       48.076923  89.276923     26\n",
       "8       49.717949  57.776923     39\n",
       "9       62.650000  36.600000      2\n",
       "10      62.809091  46.000000     11\n",
       "11      57.337500  56.012500      8\n",
       "21      60.494444  44.300000     18\n",
       "22      36.625000  29.550000     24"
      ]
     },
     "execution_count": 65,
     "metadata": {},
     "output_type": "execute_result"
    }
   ],
   "source": [
    "average_locs_and_count"
   ]
  },
  {
   "cell_type": "code",
   "execution_count": 66,
   "metadata": {},
   "outputs": [],
   "source": [
    "#find number of passes along each 'path' of passer to recipient\n",
    "passes_between = Completions.groupby(['passer', 'recipient']).id.count().reset_index()\n",
    "passes_between.rename({'id': 'pass_count'}, axis='columns', inplace=True)\n",
    "\n",
    "passes_between = passes_between.merge(average_locs_and_count, left_on='passer', right_index=True)\n",
    "passes_between = passes_between.merge(average_locs_and_count, left_on='recipient', right_index=True,\n",
    "                                      suffixes=['', '_end'])"
   ]
  },
  {
   "cell_type": "code",
   "execution_count": 67,
   "metadata": {},
   "outputs": [],
   "source": [
    "size=1000\n",
    "radius = math.sqrt(size)/2.\n",
    "arrow = mpl.patches.FancyArrowPatch(posA=(1.2*passes_between.x,80-.8*passes_between.y), \n",
    "                                    posB=(1.2*passes_between.x_end,80-.8*passes_between.y_end),                                    \n",
    "                                    arrowstyle='->', mutation_scale=70, shrinkA=radius, shrinkB=radius)"
   ]
  },
  {
   "cell_type": "markdown",
   "metadata": {},
   "source": [
    "#### Light Pitch \n",
    "\n",
    "Background - #FFFFFF\n",
    "lines - #B4B6BA\n",
    "\n",
    "#### Dark Pitch\n",
    "\n",
    "Background - #1B1B1B\n",
    "lines - #c7d5cc\n",
    "\n",
    "#### Blue Pitch (Primary colour)\n",
    "Background - #0B0725\n",
    "lines - #B4B6BA\n",
    "\n",
    "\n",
    "### Sunderland Colours\n",
    "\n",
    "#### Home \n",
    "Main -    #FF0000 \n",
    "Outline - #FFFFFF\n",
    "\n",
    "#### Away\n",
    "\n",
    "Main  -   #F7ED19\n",
    "Outline - #225A96"
   ]
  },
  {
   "cell_type": "code",
   "execution_count": 68,
   "metadata": {},
   "outputs": [
    {
     "data": {
      "image/png": "[encoded data removed]",
      "text/plain": [
       "<Figure size 936x576 with 1 Axes>"
      ]
     },
     "metadata": {},
     "output_type": "display_data"
    }
   ],
   "source": [
    "#set minimum threshold for pass arrows to be plotted. So this will only plot combos which occured at least 3 times.\n",
    "passes_between = passes_between.loc[(passes_between['pass_count']>=5)]\n",
    "\n",
    "pitch = VerticalPitch(pitch_color='#0B0725', line_color='#B4B6BA', figsize=(13, 8),\n",
    "              constrained_layout=True, tight_layout=False,half=False)\n",
    "fig, ax = pitch.draw(figsize=(13,8))\n",
    "\n",
    "pitch.draw(ax=ax)\n",
    "\n",
    "def pass_line_template(ax, x, y, end_x, end_y, line_color):\n",
    "    ax.annotate('', xy=(80-.8*end_y, 1.2*end_x), xytext=(80-.8*y, 1.2*x), zorder=1,\n",
    "    arrowprops=dict(arrowstyle='->', linewidth=5, color='#c7d5cc', alpha=1))\n",
    "    \n",
    "def pass_line_template_shrink(ax, x, y, end_x, end_y, line_color, dist_delta=1.2):\n",
    "    dist = math.hypot(end_x - x, end_y - y)\n",
    "    angle = math.atan2(end_y-y, end_x-x)\n",
    "    upd_x = x + (dist - dist_delta) * math.cos(angle)\n",
    "    upd_y = y + (dist - dist_delta) * math.sin(angle)\n",
    "    pass_line_template(ax, x, y, upd_x, upd_y, line_color=line_color)\n",
    "\n",
    "\n",
    "\n",
    "#Plotting Circles\n",
    "\n",
    "pass_nodes = pitch.scatter(1.2*average_locs_and_count.x, 80-0.8*average_locs_and_count.y, s=1000,\n",
    "                           color='#0000ff', edgecolors=\"#ffff00\", linewidth=2.5, alpha=1, ax=ax, zorder=1.5) #CHANGE COLOURS HERE\n",
    "    \n",
    "#Plotting Lines\n",
    "\n",
    "for index, row in passes_between.iterrows():\n",
    "    pass_line_template_shrink(ax,row['x'],row['y'],row['x_end'],row['y_end'],line_color = 'white')\n",
    "                    \n",
    "# Plotting Numbers\n",
    "for index, row in average_locs_and_count.iterrows():\n",
    "     pitch.annotate(row.name, xy=(1.2*row.x, 80-0.8*row.y), c='#ffff00', va='center', ha='center', size=20, fontweight='bold', fontfamily=\"Agency FB\",ax=ax)\n",
    "\n",
    "\n",
    "plt.savefig('test.png',dpi=500,bbox_inches = 'tight')        "
   ]
  },
  {
   "cell_type": "markdown",
   "metadata": {},
   "source": [
    "https://htmlcolorcodes.com/color-picker/ to change colours."
   ]
  },
  {
   "cell_type": "code",
   "execution_count": null,
   "metadata": {},
   "outputs": [],
   "source": []
  }
 ],
 "metadata": {
  "kernelspec": {
   "display_name": "Python 3",
   "language": "python",
   "name": "python3"
  },
  "language_info": {
   "codemirror_mode": {
    "name": "ipython",
    "version": 3
   },
   "file_extension": ".py",
   "mimetype": "text/x-python",
   "name": "python",
   "nbconvert_exporter": "python",
   "pygments_lexer": "ipython3",
   "version": "3.8.10"
  }
 },
 "nbformat": 4,
 "nbformat_minor": 4
}
