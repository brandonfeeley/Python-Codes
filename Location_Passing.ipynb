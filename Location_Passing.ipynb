{
 "cells": [
  {
   "cell_type": "code",
   "execution_count": 1,
   "metadata": {},
   "outputs": [],
   "source": [
    "import numpy as np\n",
    "import pandas as pd\n",
    "import matplotlib as mpl\n",
    "import math\n",
    "import matplotlib.pyplot as plt\n",
    "\n",
    "from mplsoccer import Pitch, VerticalPitch\n",
    "from matplotlib.colors import to_rgba\n",
    "from mplsoccer.statsbomb import read_event, EVENT_SLUG\n",
    "from matplotlib import cm\n",
    "from matplotlib import colorbar\n",
    "from matplotlib.colors import LinearSegmentedColormap\n",
    "from highlight_text import fig_text\n"
   ]
  },
  {
   "cell_type": "code",
   "execution_count": 30,
   "metadata": {},
   "outputs": [],
   "source": [
    "df = pd.read_csv(r'C:\\Users\\Feele\\Documents\\Sunderland\\Data\\locationfilter.csv')\n"
   ]
  },
  {
   "cell_type": "markdown",
   "metadata": {},
   "source": [
    "# PLAYER ID "
   ]
  },
  {
   "cell_type": "code",
   "execution_count": 31,
   "metadata": {},
   "outputs": [
    {
     "name": "stderr",
     "output_type": "stream",
     "text": [
      "<ipython-input-31-fc89e15e8efe>:19: SettingWithCopyWarning: \n",
      "A value is trying to be set on a copy of a slice from a DataFrame.\n",
      "Try using .loc[row_indexer,col_indexer] = value instead\n",
      "\n",
      "See the caveats in the documentation: https://pandas.pydata.org/pandas-docs/stable/user_guide/indexing.html#returning-a-view-versus-a-copy\n",
      "  Completions['passer'] = pas\n",
      "<ipython-input-31-fc89e15e8efe>:20: SettingWithCopyWarning: \n",
      "A value is trying to be set on a copy of a slice from a DataFrame.\n",
      "Try using .loc[row_indexer,col_indexer] = value instead\n",
      "\n",
      "See the caveats in the documentation: https://pandas.pydata.org/pandas-docs/stable/user_guide/indexing.html#returning-a-view-versus-a-copy\n",
      "  Completions['recipient'] = rec\n"
     ]
    }
   ],
   "source": [
    "#Make a new, single column for time and sort the events in chronological order\n",
    "\n",
    "df.sort_values(by=['minute'])\n",
    "\n",
    "#identify the passer and then the recipient, who'll be the playerId of the next action\n",
    "df['passer'] = df['player_num'] # change to 'player_num' for nodes with numbers. Use 'playerId' if not.\n",
    "\n",
    "df['recipient'] = df['passer'].shift(-1)\n",
    "\n",
    "#filter for only passes and then successful passes\n",
    "Passes = df.loc[(df['type/displayName']==\"Pass\")]\n",
    "\n",
    "\n",
    "Completions = Passes.loc[(Passes['outcomeType/displayName']==\"Successful\")]\n",
    "\n",
    "pas = pd.to_numeric(Completions['passer'],downcast='integer')\n",
    "rec = pd.to_numeric(Completions['recipient'],downcast='integer')\n",
    "\n",
    "Completions['passer'] = pas\n",
    "Completions['recipient'] = rec"
   ]
  },
  {
   "cell_type": "code",
   "execution_count": 32,
   "metadata": {
    "scrolled": true
   },
   "outputs": [
    {
     "data": {
      "text/plain": [
       "517    63\n",
       "576    70\n",
       "621    76\n",
       "Name: minute, dtype: int64"
      ]
     },
     "execution_count": 32,
     "metadata": {},
     "output_type": "execute_result"
    }
   ],
   "source": [
    "#find time of the team's first substitution and filter the df to only passes before that\n",
    "Subs = df.loc[(df['type/displayName']==\"SubstitutionOff\")]\n",
    "SubTimes = Subs[\"minute\"]\n",
    "SubOne = SubTimes.min()\n",
    "\n",
    "\n",
    "SubTimes\n",
    "#SubOne"
   ]
  },
  {
   "cell_type": "code",
   "execution_count": 33,
   "metadata": {},
   "outputs": [],
   "source": [
    "Completions = Completions.loc[Completions['minute'] < SubOne]"
   ]
  },
  {
   "cell_type": "code",
   "execution_count": 34,
   "metadata": {},
   "outputs": [],
   "source": [
    "#Find Average Locations \n",
    "average_locs_and_count = Completions.groupby('passer').agg({'x': ['mean'], 'y': ['mean','count']})\n",
    "average_locs_and_count.columns = ['x', 'y', 'count']"
   ]
  },
  {
   "cell_type": "code",
   "execution_count": 35,
   "metadata": {},
   "outputs": [
    {
     "data": {
      "text/html": [
       "<div>\n",
       "<style scoped>\n",
       "    .dataframe tbody tr th:only-of-type {\n",
       "        vertical-align: middle;\n",
       "    }\n",
       "\n",
       "    .dataframe tbody tr th {\n",
       "        vertical-align: top;\n",
       "    }\n",
       "\n",
       "    .dataframe thead th {\n",
       "        text-align: right;\n",
       "    }\n",
       "</style>\n",
       "<table border=\"1\" class=\"dataframe\">\n",
       "  <thead>\n",
       "    <tr style=\"text-align: right;\">\n",
       "      <th></th>\n",
       "      <th>x</th>\n",
       "      <th>y</th>\n",
       "      <th>count</th>\n",
       "    </tr>\n",
       "    <tr>\n",
       "      <th>passer</th>\n",
       "      <th></th>\n",
       "      <th></th>\n",
       "      <th></th>\n",
       "    </tr>\n",
       "  </thead>\n",
       "  <tbody>\n",
       "    <tr>\n",
       "      <th>1</th>\n",
       "      <td>12.589474</td>\n",
       "      <td>54.368421</td>\n",
       "      <td>19</td>\n",
       "    </tr>\n",
       "    <tr>\n",
       "      <th>2</th>\n",
       "      <td>46.457692</td>\n",
       "      <td>11.346154</td>\n",
       "      <td>26</td>\n",
       "    </tr>\n",
       "    <tr>\n",
       "      <th>6</th>\n",
       "      <td>51.967857</td>\n",
       "      <td>29.250000</td>\n",
       "      <td>28</td>\n",
       "    </tr>\n",
       "    <tr>\n",
       "      <th>9</th>\n",
       "      <td>66.500000</td>\n",
       "      <td>45.485714</td>\n",
       "      <td>7</td>\n",
       "    </tr>\n",
       "    <tr>\n",
       "      <th>11</th>\n",
       "      <td>58.789474</td>\n",
       "      <td>29.147368</td>\n",
       "      <td>19</td>\n",
       "    </tr>\n",
       "    <tr>\n",
       "      <th>13</th>\n",
       "      <td>32.571875</td>\n",
       "      <td>68.715625</td>\n",
       "      <td>32</td>\n",
       "    </tr>\n",
       "    <tr>\n",
       "      <th>16</th>\n",
       "      <td>36.526923</td>\n",
       "      <td>30.307692</td>\n",
       "      <td>26</td>\n",
       "    </tr>\n",
       "    <tr>\n",
       "      <th>23</th>\n",
       "      <td>52.114706</td>\n",
       "      <td>59.129412</td>\n",
       "      <td>34</td>\n",
       "    </tr>\n",
       "    <tr>\n",
       "      <th>25</th>\n",
       "      <td>48.050000</td>\n",
       "      <td>81.877273</td>\n",
       "      <td>22</td>\n",
       "    </tr>\n",
       "    <tr>\n",
       "      <th>26</th>\n",
       "      <td>65.000000</td>\n",
       "      <td>50.200000</td>\n",
       "      <td>16</td>\n",
       "    </tr>\n",
       "    <tr>\n",
       "      <th>28</th>\n",
       "      <td>61.196429</td>\n",
       "      <td>78.603571</td>\n",
       "      <td>28</td>\n",
       "    </tr>\n",
       "  </tbody>\n",
       "</table>\n",
       "</div>"
      ],
      "text/plain": [
       "                x          y  count\n",
       "passer                             \n",
       "1       12.589474  54.368421     19\n",
       "2       46.457692  11.346154     26\n",
       "6       51.967857  29.250000     28\n",
       "9       66.500000  45.485714      7\n",
       "11      58.789474  29.147368     19\n",
       "13      32.571875  68.715625     32\n",
       "16      36.526923  30.307692     26\n",
       "23      52.114706  59.129412     34\n",
       "25      48.050000  81.877273     22\n",
       "26      65.000000  50.200000     16\n",
       "28      61.196429  78.603571     28"
      ]
     },
     "execution_count": 35,
     "metadata": {},
     "output_type": "execute_result"
    }
   ],
   "source": [
    "average_locs_and_count"
   ]
  },
  {
   "cell_type": "code",
   "execution_count": 36,
   "metadata": {},
   "outputs": [],
   "source": [
    "#find number of passes along each 'path' of passer to recipient\n",
    "passes_between = Completions.groupby(['passer', 'recipient']).id.count().reset_index()\n",
    "passes_between.rename({'id': 'pass_count'}, axis='columns', inplace=True)\n",
    "\n",
    "passes_between = passes_between.merge(average_locs_and_count, left_on='passer', right_index=True)\n",
    "passes_between = passes_between.merge(average_locs_and_count, left_on='recipient', right_index=True,\n",
    "                                      suffixes=['', '_end'])"
   ]
  },
  {
   "cell_type": "code",
   "execution_count": 37,
   "metadata": {},
   "outputs": [],
   "source": [
    "size=1000\n",
    "radius = math.sqrt(size)/2.\n",
    "arrow = mpl.patches.FancyArrowPatch(posA=(1.2*passes_between.x,80-.8*passes_between.y), \n",
    "                                    posB=(1.2*passes_between.x_end,80-.8*passes_between.y_end),                                    \n",
    "                                    arrowstyle='->', mutation_scale=70, shrinkA=radius, shrinkB=radius)"
   ]
  },
  {
   "cell_type": "markdown",
   "metadata": {},
   "source": [
    "#### Light Pitch \n",
    "\n",
    "Background - #FFFFFF\n",
    "lines - #B4B6BA\n",
    "\n",
    "#### Dark Pitch\n",
    "\n",
    "Background - #1B1B1B\n",
    "lines - #c7d5cc\n",
    "\n",
    "#### Blue Pitch (Primary colour)\n",
    "Background - #0B0725\n",
    "lines - #B4B6BA"
   ]
  },
  {
   "cell_type": "code",
   "execution_count": 38,
   "metadata": {},
   "outputs": [
    {
     "data": {
      "image/png": "[encoded data removed]",
      "text/plain": [
       "<Figure size 936x576 with 1 Axes>"
      ]
     },
     "metadata": {},
     "output_type": "display_data"
    }
   ],
   "source": [
    "#set minimum threshold for pass arrows to be plotted. So this will only plot combos which occured at least 5 times.\n",
    "passes_between = passes_between.loc[(passes_between['pass_count']>5)]\n",
    "\n",
    "pitch = VerticalPitch(pitch_color='#0B0725', line_color='#B4B6BA', figsize=(13, 8),\n",
    "              constrained_layout=True, tight_layout=False,half=False)\n",
    "fig, ax = pitch.draw(figsize=(13,8))\n",
    "\n",
    "pitch.draw(ax=ax)\n",
    "\n",
    "\n",
    "def pass_line_template(ax, x, y, end_x, end_y, line_color):\n",
    "    ax.annotate('', xy=(80-.8*end_y, 1.2*end_x), xytext=(80-.8*y, 1.2*x), zorder=1,\n",
    "    arrowprops=dict(arrowstyle='->', linewidth=5, color='#c7d5cc', alpha=.75))\n",
    "    \n",
    "def pass_line_template_shrink(ax, x, y, end_x, end_y, line_color, dist_delta=1.2):\n",
    "    dist = math.hypot(end_x - x, end_y - y)\n",
    "    angle = math.atan2(end_y-y, end_x-x)\n",
    "    upd_x = x + (dist - dist_delta) * math.cos(angle)\n",
    "    upd_y = y + (dist - dist_delta) * math.sin(angle)\n",
    "    pass_line_template(ax, x, y, upd_x, upd_y, line_color=line_color)\n",
    "\n",
    "\n",
    "#Plotting Circles\n",
    "\n",
    "pass_nodes = pitch.scatter(1.2*average_locs_and_count.x, 80-0.8*average_locs_and_count.y, s=1000,\n",
    "                           color='#ff0000', edgecolors=\"#ffffff\", linewidth=2.5, alpha=1, ax=ax, zorder=1.5)\n",
    "    \n",
    "#Plotting Lines\n",
    "\n",
    "for index, row in passes_between.iterrows():\n",
    "    pass_line_template_shrink(ax,row['x'],row['y'],row['x_end'],row['y_end'],line_color = 'white')\n",
    "                    \n",
    "# Plotting Numbers\n",
    "for index, row in average_locs_and_count.iterrows():\n",
    "     pitch.annotate(row.name, xy=(1.2*row.x, 80-0.8*row.y), c='white', va='center', ha='center', size=20, fontweight='bold', fontfamily=\"Agency FB\",ax=ax)\n",
    "\n",
    "\n",
    "plt.savefig('test.png',dpi=500,bbox_inches = 'tight')        "
   ]
  },
  {
   "cell_type": "markdown",
   "metadata": {},
   "source": [
    "https://htmlcolorcodes.com/color-picker/ to change colours."
   ]
  }
 ],
 "metadata": {
  "kernelspec": {
   "display_name": "Python 3",
   "language": "python",
   "name": "python3"
  },
  "language_info": {
   "codemirror_mode": {
    "name": "ipython",
    "version": 3
   },
   "file_extension": ".py",
   "mimetype": "text/x-python",
   "name": "python",
   "nbconvert_exporter": "python",
   "pygments_lexer": "ipython3",
   "version": "3.8.5"
  }
 },
 "nbformat": 4,
 "nbformat_minor": 4
}
