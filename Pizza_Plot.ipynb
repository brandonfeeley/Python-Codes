{
 "cells": [
  {
   "cell_type": "code",
   "execution_count": 4,
   "metadata": {},
   "outputs": [],
   "source": [
    "\n",
    "import pandas as pd\n",
    "import numpy as np\n",
    "\n",
    "from scipy import stats\n",
    "import math\n",
    "\n",
    "from mplsoccer import PyPizza, add_image, FontManager\n",
    "import matplotlib.pyplot as plt"
   ]
  },
  {
   "cell_type": "code",
   "execution_count": 39,
   "metadata": {},
   "outputs": [],
   "source": [
    "df = pd.read_csv(r'C:\\Users\\Feele\\Documents\\Sunderland\\Data\\WyScout\\Top 5 EU Leagues\\Forwards.csv')"
   ]
  },
  {
   "cell_type": "code",
   "execution_count": 40,
   "metadata": {},
   "outputs": [
    {
     "data": {
      "text/html": [
       "<div>\n",
       "<style scoped>\n",
       "    .dataframe tbody tr th:only-of-type {\n",
       "        vertical-align: middle;\n",
       "    }\n",
       "\n",
       "    .dataframe tbody tr th {\n",
       "        vertical-align: top;\n",
       "    }\n",
       "\n",
       "    .dataframe thead th {\n",
       "        text-align: right;\n",
       "    }\n",
       "</style>\n",
       "<table border=\"1\" class=\"dataframe\">\n",
       "  <thead>\n",
       "    <tr style=\"text-align: right;\">\n",
       "      <th></th>\n",
       "      <th>Player</th>\n",
       "      <th>Team</th>\n",
       "      <th>Fouls</th>\n",
       "      <th>Yellow cards</th>\n",
       "      <th>Attacking Actions</th>\n",
       "      <th>Goals</th>\n",
       "      <th>xG</th>\n",
       "      <th>Shots</th>\n",
       "      <th>Assists</th>\n",
       "      <th>xA</th>\n",
       "      <th>Crosses</th>\n",
       "      <th>Dribbles</th>\n",
       "      <th>Touches in box</th>\n",
       "      <th>Progressive Runs</th>\n",
       "      <th>Received passes</th>\n",
       "      <th>Passes</th>\n",
       "      <th>Smart passes</th>\n",
       "      <th>Key passes</th>\n",
       "    </tr>\n",
       "  </thead>\n",
       "  <tbody>\n",
       "    <tr>\n",
       "      <th>0</th>\n",
       "      <td>Lautaro Martínez</td>\n",
       "      <td>Internazionale</td>\n",
       "      <td>2.05</td>\n",
       "      <td>0.18</td>\n",
       "      <td>4.17</td>\n",
       "      <td>0.51</td>\n",
       "      <td>0.63</td>\n",
       "      <td>3.53</td>\n",
       "      <td>0.15</td>\n",
       "      <td>0.14</td>\n",
       "      <td>1.13</td>\n",
       "      <td>4.40</td>\n",
       "      <td>6.01</td>\n",
       "      <td>1.20</td>\n",
       "      <td>15.01</td>\n",
       "      <td>18.64</td>\n",
       "      <td>0.66</td>\n",
       "      <td>0.56</td>\n",
       "    </tr>\n",
       "    <tr>\n",
       "      <th>1</th>\n",
       "      <td>D. Zapata</td>\n",
       "      <td>Atalanta</td>\n",
       "      <td>1.24</td>\n",
       "      <td>0.00</td>\n",
       "      <td>5.66</td>\n",
       "      <td>0.57</td>\n",
       "      <td>0.58</td>\n",
       "      <td>3.23</td>\n",
       "      <td>0.21</td>\n",
       "      <td>0.19</td>\n",
       "      <td>2.48</td>\n",
       "      <td>6.82</td>\n",
       "      <td>7.06</td>\n",
       "      <td>1.91</td>\n",
       "      <td>19.15</td>\n",
       "      <td>27.27</td>\n",
       "      <td>0.62</td>\n",
       "      <td>0.80</td>\n",
       "    </tr>\n",
       "    <tr>\n",
       "      <th>2</th>\n",
       "      <td>Iñaki Williams</td>\n",
       "      <td>Athletic Bilbao</td>\n",
       "      <td>0.77</td>\n",
       "      <td>0.05</td>\n",
       "      <td>3.12</td>\n",
       "      <td>0.16</td>\n",
       "      <td>0.22</td>\n",
       "      <td>1.78</td>\n",
       "      <td>0.16</td>\n",
       "      <td>0.12</td>\n",
       "      <td>2.35</td>\n",
       "      <td>4.02</td>\n",
       "      <td>3.96</td>\n",
       "      <td>1.86</td>\n",
       "      <td>13.88</td>\n",
       "      <td>18.97</td>\n",
       "      <td>0.74</td>\n",
       "      <td>0.57</td>\n",
       "    </tr>\n",
       "    <tr>\n",
       "      <th>3</th>\n",
       "      <td>José Luis Morales</td>\n",
       "      <td>Levante</td>\n",
       "      <td>0.77</td>\n",
       "      <td>0.11</td>\n",
       "      <td>4.33</td>\n",
       "      <td>0.46</td>\n",
       "      <td>0.22</td>\n",
       "      <td>1.88</td>\n",
       "      <td>0.09</td>\n",
       "      <td>0.18</td>\n",
       "      <td>3.08</td>\n",
       "      <td>4.50</td>\n",
       "      <td>3.73</td>\n",
       "      <td>2.11</td>\n",
       "      <td>18.22</td>\n",
       "      <td>22.98</td>\n",
       "      <td>1.45</td>\n",
       "      <td>0.48</td>\n",
       "    </tr>\n",
       "    <tr>\n",
       "      <th>4</th>\n",
       "      <td>Á. Correa</td>\n",
       "      <td>Atlético Madrid</td>\n",
       "      <td>1.35</td>\n",
       "      <td>0.09</td>\n",
       "      <td>4.17</td>\n",
       "      <td>0.26</td>\n",
       "      <td>0.24</td>\n",
       "      <td>1.58</td>\n",
       "      <td>0.20</td>\n",
       "      <td>0.17</td>\n",
       "      <td>1.70</td>\n",
       "      <td>4.89</td>\n",
       "      <td>4.66</td>\n",
       "      <td>0.92</td>\n",
       "      <td>22.89</td>\n",
       "      <td>30.83</td>\n",
       "      <td>1.24</td>\n",
       "      <td>0.75</td>\n",
       "    </tr>\n",
       "  </tbody>\n",
       "</table>\n",
       "</div>"
      ],
      "text/plain": [
       "              Player             Team  Fouls  Yellow cards   \\\n",
       "0   Lautaro Martínez   Internazionale   2.05           0.18   \n",
       "1          D. Zapata         Atalanta   1.24           0.00   \n",
       "2     Iñaki Williams  Athletic Bilbao   0.77           0.05   \n",
       "3  José Luis Morales          Levante   0.77           0.11   \n",
       "4          Á. Correa  Atlético Madrid   1.35           0.09   \n",
       "\n",
       "   Attacking Actions   Goals     xG  Shots   Assists   xA   Crosses  Dribbles  \\\n",
       "0                4.17    0.51  0.63    3.53     0.15  0.14     1.13      4.40   \n",
       "1                5.66    0.57  0.58    3.23     0.21  0.19     2.48      6.82   \n",
       "2                3.12    0.16  0.22    1.78     0.16  0.12     2.35      4.02   \n",
       "3                4.33    0.46  0.22    1.88     0.09  0.18     3.08      4.50   \n",
       "4                4.17    0.26  0.24    1.58     0.20  0.17     1.70      4.89   \n",
       "\n",
       "   Touches in box  Progressive Runs  Received passes   Passes  Smart passes  \\\n",
       "0            6.01              1.20             15.01   18.64          0.66   \n",
       "1            7.06              1.91             19.15   27.27          0.62   \n",
       "2            3.96              1.86             13.88   18.97          0.74   \n",
       "3            3.73              2.11             18.22   22.98          1.45   \n",
       "4            4.66              0.92             22.89   30.83          1.24   \n",
       "\n",
       "   Key passes   \n",
       "0         0.56  \n",
       "1         0.80  \n",
       "2         0.57  \n",
       "3         0.48  \n",
       "4         0.75  "
      ]
     },
     "execution_count": 40,
     "metadata": {},
     "output_type": "execute_result"
    }
   ],
   "source": [
    "df.head()"
   ]
  },
  {
   "cell_type": "code",
   "execution_count": 41,
   "metadata": {},
   "outputs": [
    {
     "data": {
      "text/plain": [
       "['Player',\n",
       " 'Team',\n",
       " 'Fouls',\n",
       " 'Yellow cards ',\n",
       " 'Attacking Actions ',\n",
       " 'Goals ',\n",
       " 'xG',\n",
       " 'Shots ',\n",
       " 'Assists',\n",
       " 'xA ',\n",
       " 'Crosses',\n",
       " 'Dribbles',\n",
       " 'Touches in box',\n",
       " 'Progressive Runs',\n",
       " 'Received passes ',\n",
       " 'Passes',\n",
       " 'Smart passes',\n",
       " 'Key passes ']"
      ]
     },
     "execution_count": 41,
     "metadata": {},
     "output_type": "execute_result"
    }
   ],
   "source": [
    "#Create a parameter list\n",
    "params = list(df.columns)\n",
    "params"
   ]
  },
  {
   "cell_type": "code",
   "execution_count": 42,
   "metadata": {},
   "outputs": [
    {
     "data": {
      "text/plain": [
       "['Fouls',\n",
       " 'Yellow cards ',\n",
       " 'Attacking Actions ',\n",
       " 'Goals ',\n",
       " 'xG',\n",
       " 'Shots ',\n",
       " 'Assists',\n",
       " 'xA ',\n",
       " 'Crosses',\n",
       " 'Dribbles',\n",
       " 'Touches in box',\n",
       " 'Progressive Runs',\n",
       " 'Received passes ',\n",
       " 'Passes',\n",
       " 'Smart passes',\n",
       " 'Key passes ']"
      ]
     },
     "execution_count": 42,
     "metadata": {},
     "output_type": "execute_result"
    }
   ],
   "source": [
    "#drop the first 3 list item becuase we will not be using player,index, or 90s as a comparison metric\n",
    "params = params[2:]\n",
    "params"
   ]
  },
  {
   "cell_type": "markdown",
   "metadata": {},
   "source": [
    "# CHANGE PLAYER HERE"
   ]
  },
  {
   "cell_type": "code",
   "execution_count": 43,
   "metadata": {},
   "outputs": [
    {
     "data": {
      "text/plain": [
       "array(['Lautaro Martínez', 'D. Zapata', 'Iñaki Williams',\n",
       "       'José Luis Morales', 'Á. Correa', 'M. Barrow', 'Y. En-Nesyri',\n",
       "       'R. Malinovskiy', 'Portu', 'Marcos Llorente', 'João Pedro',\n",
       "       'D. Kulusevski', 'A. Belotti', 'L. Muriel', 'Kike García',\n",
       "       'L. Insigne', 'M. Politano', 'J. Bowen', 'R. Lukaku', 'K. Lasagna',\n",
       "       'Joselu', 'L. Messi', 'Heung-Min Son', 'C. Immobile',\n",
       "       'M. Zaccagni', 'M. Rashford', 'R. Palacio', 'Moi Gómez',\n",
       "       'Adama Traoré', 'G. Simeone', 'C. Biraghi', 'Roberto Firmino',\n",
       "       'Mohamed Salah', 'K. Benzema', 'Vinícius Júnior', 'L. de Jong',\n",
       "       'L. Ocampos', 'D. Vlahović', 'Asier Villalibre', 'Suso', 'H. Kane',\n",
       "       'Borja Mayoral', 'Raúl García', 'C. Adams', 'Mikel Oyarzabal',\n",
       "       'A. Isak', 'J. Stryger Larsen', 'S. Mané', 'Marco Asensio',\n",
       "       'S. Verdi', 'Cristiano Ronaldo', 'Santi Mina', 'Brais Méndez',\n",
       "       'Iago Aspas', 'Rubén García', 'N. Fekir', 'Roger Martí',\n",
       "       'C. Lykogiannis', 'Jorge Molina', 'L. Suárez', 'A. Sánchez',\n",
       "       'Richarlison', 'A. Townsend', 'J. Vardy', 'L. Trossard',\n",
       "       'Álvaro Morata', 'Gerard Moreno', 'G. Lapadula', 'Jaime Mata',\n",
       "       'N. Maupay', 'Maxi Gómez', 'H. Lozano', 'L. Pellegrini', 'J. Ayew',\n",
       "       'D. Calvert-Lewin', 'D. McGoldrick', 'L. Olaza', 'G. Baldock',\n",
       "       'C. Ansaldi', 'Gonçalo Guedes', 'H. Mkhitaryan', 'G. Pandev',\n",
       "       'Willian José', 'A. Lacazette', 'Ángel Rodríguez', 'Joelinton',\n",
       "       'L. Höler', 'E. Stevens', 'R. Sterling', 'Y. Carrasco',\n",
       "       'M. Greenwood', 'K. Volland', 'F. Quagliarella', 'Rafael Leão',\n",
       "       'C. Kouamé', 'A. Gómez', 'A. Budimir', 'D. Foulquier',\n",
       "       'Pedro Neto', 'W. Zaha', 'M. Diaby', 'D. Mertens', 'F. Ribéry',\n",
       "       'Gabriel Jesus', 'J. Rodriguez', 'C. Wood', 'Y. Gervinho',\n",
       "       'Roberto Soldado', 'E. Ünal', 'Sergi Guardiola', 'R. Pereyra',\n",
       "       'P. Aubameyang', 'T. Werner', 'G. Caprari', 'Borja Iglesias',\n",
       "       'A. Rebić', 'V. Grifo', 'D. Ings', 'N. Redmond', 'R. Ripart',\n",
       "       'Y. Wissa', 'João Félix', 'P. Bamford', 'R. Loftus-Cheek',\n",
       "       'S. Zaza', 'Dani Olmo', 'Simy', 'A. Sanabria', 'F. Caputo',\n",
       "       'Rafa Mir', 'Gonzalo Melero', 'G. Laborde', 'Javi Galán',\n",
       "       'K. Gameiro', 'T. Inui', 'M. Braithwaite', 'R. Mahrez', 'M. Vydra',\n",
       "       'A. Cornelius', 'M. Depay', 'M. Pašalić', 'P. Foden', 'J. David',\n",
       "       'A. El Ghazi', 'O. Watkins', 'J. Ikoné', 'E. Gyasi',\n",
       "       'W. Ben Yedder', 'Sergi Enrich', 'L. Venuti', 'E. Džeko',\n",
       "       'A. Reca', 'A. Petagna', 'W. Weghorst', 'R. Kolo Mouani',\n",
       "       'T. Gebre Selassie', 'D. Bouanga', 'L. Bailey', 'F. Centonze',\n",
       "       'B. Dia', 'J. Correa', 'G. Charbonnier', 'Bernardo Silva',\n",
       "       'H. Kamara', 'V. Verre', 'Ui-Jo Hwang', 'I. Cardona', 'H. Diallo',\n",
       "       'N. Petersen', 'N. Pépé', 'Ivan Cavaleiro', 'A. Lookman',\n",
       "       'B. Traoré', 'C. Pulišić', 'L. Diony', 'Lucas Pérez', 'G. Ramírez',\n",
       "       'Junior Messias', 'Loren Morón', 'L. Blas', 'L. Spinazzola',\n",
       "       'G. Kakuta', 'B. Embolo', 'Pedro Pereira', 'Sergio León',\n",
       "       'S. Mounié', 'M. Kean', 'M. Antonio', 'K. Toko Ekambi',\n",
       "       'L. Ajorque', 'O. Burke', 'D. Furlong', 'P. Estupiñán',\n",
       "       'Diego Farias', 'Munir El Haddadi', 'O. Duda', 'Álvaro Negredo',\n",
       "       'M. Destro', 'F. Depaoli', 'M. Pjaca', 'K. Onisiwo', 'I. Bebou',\n",
       "       'K. Piątek', 'S. Mavididi', 'André Silva', 'J. Sargent',\n",
       "       'S. Banza', 'G. Raspadori', 'Dani Gómez', 'V. Coufal',\n",
       "       'M. Terrier', 'A. Gouiri', 'K. Trippier', 'R. Doan',\n",
       "       'Paco Alcácer', 'R. Improta', 'P. Schick', 'F. Caicedo',\n",
       "       'L. Pavoletti', 'C. Benteke', 'A. Januzaj', 'L. Boyé', 'R. Vargas',\n",
       "       'C. Trimmel', 'F. Klos', 'D. Kamada', 'J. Calleri', 'D. Welbeck',\n",
       "       'Josán', 'F. Sotoca', 'D. Zappacosta', 'F. Boulaya',\n",
       "       'Oihan Sancet', 'I. Nestorovski', 'Ferrán Torres',\n",
       "       'N. de Préville', 'T. Kadewere', 'D. Payet', 'M. Koné', 'B. Touré',\n",
       "       'J. Clauss', 'S. Okaka', 'M. Zeegelaar', 'A. Hahn', 'C. Wilson',\n",
       "       'K. Iheanacho', 'Willian', 'O. McBurnie', 'Matheus Pereira',\n",
       "       'J. Lewis', 'A. Saint-Maximin', 'Ayoze Pérez', 'S. Kalajdžić',\n",
       "       'R. Sallai', 'A. Grbić', 'A. Caci', 'J. Iličić', 'G. Defrel',\n",
       "       'A. Kramarić', 'J. Hernández', 'Manu Vallejo', 'M. Richter',\n",
       "       'L. Stindl', 'M. Simon', 'G. Pezzella', 'Pere Milla',\n",
       "       'D. Benedetto', 'A. Nordin', 'T. Moffi', 'S. Weissman', 'M. Reus',\n",
       "       'Rodrigo', 'J. Maja', 'C. Nkunku', 'E. Haaland', 'S. Schipplock',\n",
       "       'Y. Yazıcı', 'Fábio Silva', 'E. Forsberg', 'W. Singo',\n",
       "       'Y. Karamoh', 'A. Cerri', 'P. Cutrone', 'D. Lukebakio',\n",
       "       'R. Lewandowski', 'M. Coco', 'Mahmoud Trézéguet', 'T. Coulibaly',\n",
       "       'S. Di Carmine', 'Thierry Correia', 'E. Shomurodov', 'K. Mbappé',\n",
       "       'Matheus Cunha', 'M. Wolf', 'A. Martial', 'T. Abraham',\n",
       "       'K. Havertz', 'K. Agudelo', 'Carlos Neva', 'J. Burkardt',\n",
       "       'R. Quaison', 'F. Niederlechner', 'B. Oczipka', 'Fidel',\n",
       "       'L. Alario', 'José Callejón', 'B. Osborn', 'J. Lotomba',\n",
       "       'S. Bahoken', 'Rony Lopes', 'R. Insigne', 'Enric Gallego',\n",
       "       'Kike Pérez', 'E. Demirović', 'C. Bacca', 'F. Bonazzoli',\n",
       "       'Carles Pérez', 'Kang-In Lee', 'A. Delort', 'Daniel Podence',\n",
       "       'A. Lozano', 'R. Hamouma', 'A. Kalimuendo Muinga', 'Mama Baldé',\n",
       "       'S. Jovetić', 'N. Molina', 'A. Sørloth', 'J. Horn',\n",
       "       'A. Mac Allister', 'A. Laurienté', 'Z. Ibrahimović', 'P. Dybala',\n",
       "       'Rodrygo', 'J. Sancho', 'A. Pléa', 'M. Thuram', 'A. Robinson',\n",
       "       'Deyverson', 'E. Salcedo', 'F. Malbašić', 'J. Le Douaron',\n",
       "       'P. Yade', 'Lucas Vázquez', 'C. Hudson-Odoi', 'B. Yılmaz',\n",
       "       'T. Weah', 'C. Robinson', 'Diogo Jota', 'J. Thielmann',\n",
       "       'P. Ghiglione', 'Pedro', 'M. Gabbiadini', 'B. Raman',\n",
       "       'H. Ben Arfa', 'Y. Muto', 'R. Sottil', 'E. Colley', 'M. Konaté',\n",
       "       'S. Guirassy', 'A. Rispoli', 'R. Brewster', 'Á. Di María',\n",
       "       'R. Assalé', 'Carlos Fernández', 'Luis Suárez', 'A. Mitrović',\n",
       "       'Pablo Sarabia', 'I. Jakobs', 'Y. Poulsen', 'L. Carole',\n",
       "       'A. Grassi', 'V. Muriqi', 'T. Roberts', 'C. Lenz',\n",
       "       'M. Gregoritsch', 'Y. Ōsako', 'Adrián López', 'Woo-Yeong Jeong',\n",
       "       'Vagner', 'T. Minamino', 'M. Ritchie', 'L. Gueye', 'D. da Costa',\n",
       "       'D. Gayle', 'J. Murphy', 'T. Walcott', 'E. Cavani', 'O. Giroud',\n",
       "       'K. Ehizibue', 'V. Le Goff', 'G. Scamacca', 'Aarón Martín',\n",
       "       'R. Skov', 'J. Mateta', 'M. Rashica', 'M. Klimowicz', 'S. Okazaki',\n",
       "       'G. Carrillo', 'A. Milik', 'N. Kalinić', 'K. Dolberg',\n",
       "       'C. Townsend', 'P. Förster', 'E. Nketiah', 'M. Nzola',\n",
       "       'N. Katterbach', 'K. Baldé', 'P. Kadeřábek', 'Sandro Ramírez',\n",
       "       'Pablo Maffeo', 'D. Brosinski', 'M. Dabbur', 'Q. Boisgard',\n",
       "       'M. Sau', 'C. Abi', 'V. Germain', 'V. Osimhen', 'I. Ganago',\n",
       "       'T. Delaine', 'Rubén Sobrino', 'J. Córdoba', 'N. Radonjić',\n",
       "       'M. Uth', 'R. Gumny', 'R. Aït Nouri', 'J. Rodríguez',\n",
       "       'A. Connolly', 'Óscar Rodríguez', 'M. Vojvoda', 'L. Jović',\n",
       "       'C. Teuchert', 'J. Kluivert', 'Yeremi Pino', 'S. Córdova',\n",
       "       'L. Augustinsson', 'D. Selke', 'M. Gaćinović', 'B. Sharp',\n",
       "       'Dani Escriche', 'F. Chafik', 'M. Doumbia', 'Gelson Martins',\n",
       "       'P. Hamel', 'R. Sessegnon', 'N. Füllkrug', 'H. Ziyech',\n",
       "       'D. Foulon', 'D. Didavi', 'Marcos André', 'A. Souquet',\n",
       "       'Pedro López', 'Toni Lato', 'Juanmi', 'G. Bale', 'P. Mwene',\n",
       "       'A. Ounas', 'A. Barnes', 'E. Choupo-Moting', 'W. Khazri',\n",
       "       'M. Kruse', 'K. Bellarabi', 'R. Schmid', 'M. Hoppe', 'J. Hergault',\n",
       "       'D. Zeefuik', 'T. Awoniyi', 'C. Traoré', 'S. Haller', 'A. Kamara',\n",
       "       'A. Leya Iseka', 'V. Eysseric', 'R. Fredericks', 'Javi Manquillo',\n",
       "       'Dalbert', 'D. Verde', 'K. Grant', 'K. Lala', 'A. Modeste',\n",
       "       'R. Saponara', 'M. Dembélé', 'Á. Szalai', 'L. Öztunali',\n",
       "       'I. Sylla', 'S. Kalu', 'H. Duljević', 'Iago Falqué', 'E. Hazard',\n",
       "       'J. Pohjanpalo', 'M. Icardi', 'A. Pinamonti', 'N. Murru',\n",
       "       'M. Maolida', 'Quini', 'R. Jiménez', 'S. Becker', 'T. Hazard',\n",
       "       'J. Delaplace', 'Toño', 'R. Fraser', 'J. Lingard'], dtype=object)"
      ]
     },
     "execution_count": 43,
     "metadata": {},
     "output_type": "execute_result"
    }
   ],
   "source": [
    "df.Player.values"
   ]
  },
  {
   "cell_type": "code",
   "execution_count": 44,
   "metadata": {},
   "outputs": [
    {
     "name": "stdout",
     "output_type": "stream",
     "text": [
      "[63, 'J. Vardy', 'Leicester City', 0.67, 0.02, 2.53, 0.44, 0.53, 2.25, 0.16, 0.13, 0.96, 2.34, 4.25, 0.99, 9.76, 11.5, 0.39, 0.67]\n"
     ]
    }
   ],
   "source": [
    "# Now we filter the df for the player we want. We will look at ruben dias. \n",
    "# The player needs to be spelled exactly the same way as it is in the data. Accents and everything.\n",
    "player = df.loc[df['Player']==\"J. Vardy\"].reset_index()\n",
    "player = list(player.loc[0])\n",
    "print(player)"
   ]
  },
  {
   "cell_type": "code",
   "execution_count": 45,
   "metadata": {
    "scrolled": true
   },
   "outputs": [
    {
     "name": "stdout",
     "output_type": "stream",
     "text": [
      "16\n",
      "19 None\n",
      "16\n",
      "16 None\n"
     ]
    }
   ],
   "source": [
    "# the length of our players in longer than the length of the params. we need to drop the first 3 player list items\n",
    "print(len(player),print(len(params)))\n",
    "player = player[3:]\n",
    "print(len(player),print(len(params)))"
   ]
  },
  {
   "cell_type": "code",
   "execution_count": 46,
   "metadata": {},
   "outputs": [
    {
     "data": {
      "text/plain": [
       "[0.67,\n",
       " 0.02,\n",
       " 2.53,\n",
       " 0.44,\n",
       " 0.53,\n",
       " 2.25,\n",
       " 0.16,\n",
       " 0.13,\n",
       " 0.96,\n",
       " 2.34,\n",
       " 4.25,\n",
       " 0.99,\n",
       " 9.76,\n",
       " 11.5,\n",
       " 0.39,\n",
       " 0.67]"
      ]
     },
     "execution_count": 46,
     "metadata": {},
     "output_type": "execute_result"
    }
   ],
   "source": [
    "player"
   ]
  },
  {
   "cell_type": "code",
   "execution_count": 47,
   "metadata": {},
   "outputs": [],
   "source": [
    "# now that we have the player scores, we need to calculate the percentile values with scipy stats.\n",
    "# I am doing this because I do not know the percentile beforehand and only have the raw numbers\n",
    "values = []\n",
    "for x in range(len(params)):   \n",
    "    values.append(math.floor(stats.percentileofscore(df[params[x]],player[x])))"
   ]
  },
  {
   "cell_type": "code",
   "execution_count": 48,
   "metadata": {},
   "outputs": [
    {
     "data": {
      "text/plain": [
       "13"
      ]
     },
     "execution_count": 48,
     "metadata": {},
     "output_type": "execute_result"
    }
   ],
   "source": [
    "round(stats.percentileofscore(df[params[0]],player[0]))"
   ]
  },
  {
   "cell_type": "code",
   "execution_count": 49,
   "metadata": {},
   "outputs": [],
   "source": [
    "for n,i in enumerate(values):\n",
    "    if i == 100:\n",
    "        values[n] = 99"
   ]
  },
  {
   "cell_type": "markdown",
   "metadata": {},
   "source": [
    "#### Defending slice - (#1A78CF) text - (#000000)\n",
    "#### Discipline slice - (#00B050) text - (#000000)\n",
    "#### Attacking slice - (#FF9300) text - (#000000)\n",
    "#### Possession slice - (#D70232) text - (#F2F2F2)\n"
   ]
  },
  {
   "cell_type": "code",
   "execution_count": 52,
   "metadata": {},
   "outputs": [
    {
     "data": {
      "image/png": "[encoded data removed]",
      "text/plain": [
       "<Figure size 576x612 with 1 Axes>"
      ]
     },
     "metadata": {},
     "output_type": "display_data"
    }
   ],
   "source": [
    "# color for the slices and text\n",
    "slice_colors = [\"#00B050\"] * 2 + [\"#FF9300\"] * 8 + [\"#D70232\"] * 6 \n",
    "text_colors = [\"#000000\"] * 10 + [\"#F2F2F2\"] * 6\n",
    "\n",
    "baker = PyPizza(\n",
    "    params=params,                  # list of parameters\n",
    "    background_color=\"#0B0725\",     # background color\n",
    "    straight_line_color=\"#000000\",  # color for straight lines\n",
    "    straight_line_lw=1,             # linewidth for straight lines\n",
    "    last_circle_color=\"#000000\",    # color for last line\n",
    "    last_circle_lw=1,               # linewidth of last circle\n",
    "    other_circle_lw=0,              # linewidth for other circles\n",
    "    inner_circle_size=2            # size of inner circle\n",
    ")\n",
    "\n",
    "# plot pizza\n",
    "fig, ax = baker.make_pizza(\n",
    "    values,                          # list of values\n",
    "    figsize=(8, 8.5),                # adjust the figsize according to your need\n",
    "    color_blank_space=\"same\",        # use the same color to fill blank space\n",
    "    slice_colors=slice_colors,       # color for individual slices\n",
    "    value_colors=text_colors,        # color for the value-text\n",
    "    value_bck_colors=slice_colors,   # color for the blank spaces\n",
    "    blank_alpha=0.4,                 # alpha for blank-space colors\n",
    "    kwargs_slices=dict(\n",
    "        edgecolor=\"#000000\", zorder=2, linewidth=1\n",
    "    ),                               # values to be used when plotting slices\n",
    "    kwargs_params=dict(\n",
    "        color=\"white\", fontsize=10,font='consolas',\n",
    "        va=\"center\"\n",
    "    ),                               # values to be used when adding parameter labels\n",
    "    kwargs_values=dict(\n",
    "        color=\"#000000\", fontsize=10,font='consolas',\n",
    "        bbox=dict(\n",
    "            edgecolor=\"#000000\", facecolor=\"#1B1B1B\",\n",
    "            boxstyle=\"round,pad=0.2\", lw=1\n",
    "            \n",
    "        )\n",
    "    )                                \n",
    ")\n",
    "\n",
    "plt.savefig('pizza.png',dpi=500,bbox_inches = 'tight')"
   ]
  },
  {
   "cell_type": "code",
   "execution_count": null,
   "metadata": {},
   "outputs": [],
   "source": []
  }
 ],
 "metadata": {
  "kernelspec": {
   "display_name": "Python 3",
   "language": "python",
   "name": "python3"
  },
  "language_info": {
   "codemirror_mode": {
    "name": "ipython",
    "version": 3
   },
   "file_extension": ".py",
   "mimetype": "text/x-python",
   "name": "python",
   "nbconvert_exporter": "python",
   "pygments_lexer": "ipython3",
   "version": "3.8.5"
  }
 },
 "nbformat": 4,
 "nbformat_minor": 4
}
